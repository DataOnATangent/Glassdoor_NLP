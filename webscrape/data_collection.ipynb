{
 "cells": [
  {
   "cell_type": "markdown",
   "metadata": {},
   "source": [
    "# Data Collection \n",
    "\n",
    "Having used the scraper found in the main.py file, we are now reading to combine the data files below. "
   ]
  },
  {
   "cell_type": "code",
   "execution_count": 20,
   "metadata": {},
   "outputs": [],
   "source": [
    "#import packages\n",
    "import pandas as pd\n",
    "import numpy as np\n",
    "import matplotlib.pyplot as plt\n",
    "%matplotlib inline\n",
    "import seaborn as sns"
   ]
  },
  {
   "cell_type": "code",
   "execution_count": 21,
   "metadata": {},
   "outputs": [],
   "source": [
    "ama = pd.read_csv('indi_datasets/amazon.csv') \n",
    "ama['company_name']='Amazon' "
   ]
  },
  {
   "cell_type": "code",
   "execution_count": 22,
   "metadata": {},
   "outputs": [],
   "source": [
    "goo = pd.read_csv('indi_datasets/google.csv') \n",
    "goo['company_name']='Google' "
   ]
  },
  {
   "cell_type": "code",
   "execution_count": 23,
   "metadata": {},
   "outputs": [],
   "source": [
    "mic = pd.read_csv('indi_datasets/microsft.csv') \n",
    "mic['company_name']='Microsoft' "
   ]
  },
  {
   "cell_type": "code",
   "execution_count": 24,
   "metadata": {},
   "outputs": [],
   "source": [
    "fac = pd.read_csv('indi_datasets/facebook.csv') \n",
    "fac['company_name']='Facebook' "
   ]
  },
  {
   "cell_type": "code",
   "execution_count": 25,
   "metadata": {},
   "outputs": [],
   "source": [
    "app = pd.read_csv('indi_datasets/apple.csv') \n",
    "app['company_name']='Apple' "
   ]
  },
  {
   "cell_type": "code",
   "execution_count": 26,
   "metadata": {},
   "outputs": [],
   "source": [
    "air = pd.read_csv('indi_datasets/airforce.csv') \n",
    "air['company_name']='Airforce' "
   ]
  },
  {
   "cell_type": "code",
   "execution_count": 27,
   "metadata": {},
   "outputs": [],
   "source": [
    "cap = pd.read_csv('indi_datasets/capone.csv') \n",
    "cap['company_name']='Capital_One' "
   ]
  },
  {
   "cell_type": "code",
   "execution_count": 28,
   "metadata": {},
   "outputs": [],
   "source": [
    "qua = pd.read_csv('indi_datasets/qualcomm.csv') \n",
    "qua['company_name']='Qualcomm' "
   ]
  },
  {
   "cell_type": "code",
   "execution_count": 29,
   "metadata": {},
   "outputs": [],
   "source": [
    "inte = pd.read_csv('indi_datasets/intel.csv') \n",
    "inte['company_name']='Intel' "
   ]
  },
  {
   "cell_type": "code",
   "execution_count": 30,
   "metadata": {},
   "outputs": [],
   "source": [
    "ver = pd.read_csv('indi_datasets/verizon.csv') \n",
    "ver['company_name']='Verizon' "
   ]
  },
  {
   "cell_type": "code",
   "execution_count": 31,
   "metadata": {},
   "outputs": [
    {
     "data": {
      "text/plain": [
       "10"
      ]
     },
     "execution_count": 31,
     "metadata": {},
     "output_type": "execute_result"
    }
   ],
   "source": [
    "first_ten = pd.concat([ama, goo, mic, fac, app, air, cap, qua, inte, ver])  \n",
    "first_ten.company_name.nunique() \n",
    "\n",
    "#first_ten.describe()\n",
    "#first_ten.company_name.value_counts()"
   ]
  },
  {
   "cell_type": "code",
   "execution_count": 64,
   "metadata": {},
   "outputs": [],
   "source": [
    "first_ten.to_csv('first_ten.csv', index=False)"
   ]
  },
  {
   "cell_type": "code",
   "execution_count": 32,
   "metadata": {},
   "outputs": [],
   "source": [
    "mat = pd.read_csv('indi_datasets/mattel.csv') \n",
    "mat['company_name']='Mattel'  \n",
    "\n",
    "ea = pd.read_csv('indi_datasets/ea.csv') \n",
    "ea['company_name']='EA'  \n",
    "\n",
    "acc = pd.read_csv('indi_datasets/accenture.csv') \n",
    "acc['company_name']='Accenture' \n",
    "\n",
    "jpm = pd.read_csv('indi_datasets/jpmorgan.csv') \n",
    "jpm['company_name']='JP_Morgan'  \n",
    "\n",
    "tmo = pd.read_csv('indi_datasets/tmobile.csv') \n",
    "tmo['company_name']='T_Mobile' \n",
    "\n",
    "usa = pd.read_csv('indi_datasets/usarmy.csv') \n",
    "usa['company_name']='US_Army'  \n",
    "\n",
    "cit = pd.read_csv('indi_datasets/citi.csv') \n",
    "cit['company_name']='Citi'  \n",
    "\n",
    "dele = pd.read_csv('indi_datasets/deloitte.csv') \n",
    "dele['company_name']='Deloitte'  \n",
    "\n",
    "ibm = pd.read_csv('indi_datasets/ibm.csv') \n",
    "ibm['company_name']='IBM'  \n",
    "\n",
    "ora = pd.read_csv('indi_datasets/oracle.csv') \n",
    "ora['company_name']='Oracle' "
   ]
  },
  {
   "cell_type": "code",
   "execution_count": 33,
   "metadata": {},
   "outputs": [
    {
     "data": {
      "text/plain": [
       "10"
      ]
     },
     "execution_count": 33,
     "metadata": {},
     "output_type": "execute_result"
    }
   ],
   "source": [
    "sec_ten = pd.concat([mat, ea, acc, jpm, tmo, usa, cit, dele, ibm, ora])  \n",
    "sec_ten.company_name.nunique() "
   ]
  },
  {
   "cell_type": "code",
   "execution_count": 67,
   "metadata": {},
   "outputs": [],
   "source": [
    "sec_ten.to_csv('sec_ten.csv', index=False)"
   ]
  },
  {
   "cell_type": "code",
   "execution_count": 34,
   "metadata": {},
   "outputs": [],
   "source": [
    "tra = pd.read_csv('indi_datasets/traderjoes.csv') \n",
    "tra['company_name']='Trader_Joes'  \n",
    "\n",
    "pwc = pd.read_csv('indi_datasets/pwc.csv') \n",
    "pwc['company_name']='PWC'  \n",
    "\n",
    "bli = pd.read_csv('indi_datasets/blizzard.csv') \n",
    "bli['company_name']='Blizzard' \n",
    "\n",
    "mei = pd.read_csv('indi_datasets/meijer.csv') \n",
    "mei['company_name']='Meijer'  \n",
    "\n",
    "sta = pd.read_csv('indi_datasets/starbucks.csv') \n",
    "sta['company_name']='Starbucks' \n",
    "\n",
    "com = pd.read_csv('indi_datasets/comcast.csv') \n",
    "com['company_name']='Comcast'  \n",
    "\n",
    "hom = pd.read_csv('indi_datasets/homedepot.csv') \n",
    "hom['company_name']='Home_Depot'  \n",
    "\n",
    "ey = pd.read_csv('indi_datasets/ey.csv') \n",
    "ey['company_name']='EY'  \n",
    "\n",
    "tat = pd.read_csv('indi_datasets/tataconsult.csv') \n",
    "tat['company_name']='Tata_Consultancy'  \n",
    "\n",
    "usn = pd.read_csv('indi_datasets/usnavy.csv') \n",
    "usn['company_name']='US_Navy' "
   ]
  },
  {
   "cell_type": "code",
   "execution_count": 35,
   "metadata": {},
   "outputs": [
    {
     "data": {
      "text/plain": [
       "10"
      ]
     },
     "execution_count": 35,
     "metadata": {},
     "output_type": "execute_result"
    }
   ],
   "source": [
    "third_ten = pd.concat([tra, pwc, bli, mei, sta, com, hom, ey, tat, usn])  \n",
    "third_ten.company_name.nunique() "
   ]
  },
  {
   "cell_type": "code",
   "execution_count": 5,
   "metadata": {},
   "outputs": [],
   "source": [
    "third_ten.to_csv('third_ten.csv', index=False)"
   ]
  },
  {
   "cell_type": "code",
   "execution_count": 36,
   "metadata": {},
   "outputs": [],
   "source": [
    "bb = pd.read_csv('indi_datasets/bestbuy.csv') \n",
    "bb['company_name']='Best_Buy'  \n",
    "\n",
    "nas = pd.read_csv('indi_datasets/nasa.csv') \n",
    "nas['company_name']='NASA'  \n",
    "\n",
    "boe = pd.read_csv('indi_datasets/boeing.csv') \n",
    "boe['company_name']='Boeing' \n",
    "\n",
    "loc = pd.read_csv('indi_datasets/lockheadmartin.csv') \n",
    "loc['company_name']='Lockhead_Martin'  \n",
    "\n",
    "spa = pd.read_csv('indi_datasets/spacex.csv') \n",
    "spa['company_name']='Space_X' \n",
    "\n",
    "ven = pd.read_csv('indi_datasets/venable.csv') \n",
    "ven['company_name']='Venable'  \n",
    "\n",
    "buc = pd.read_csv('indi_datasets/buckman.csv') \n",
    "buc['company_name']='Buckman'  \n",
    "\n",
    "blu = pd.read_csv('indi_datasets/bluecora.csv') \n",
    "blu['company_name']='Blucora'  \n",
    "\n",
    "nor = pd.read_csv('indi_datasets/nordstrom.csv') \n",
    "nor['company_name']='Nordstrom'  \n",
    "\n",
    "cog = pd.read_csv('indi_datasets/cognizanttech.csv') \n",
    "cog['company_name']='Cognizant_Technology' "
   ]
  },
  {
   "cell_type": "code",
   "execution_count": 37,
   "metadata": {},
   "outputs": [
    {
     "data": {
      "text/plain": [
       "10"
      ]
     },
     "execution_count": 37,
     "metadata": {},
     "output_type": "execute_result"
    }
   ],
   "source": [
    "fourth_ten = pd.concat([bb, nas, boe, loc, spa, ven, buc, blu, nor, cog])  \n",
    "fourth_ten.company_name.nunique() "
   ]
  },
  {
   "cell_type": "code",
   "execution_count": 5,
   "metadata": {},
   "outputs": [],
   "source": [
    "fourth_ten.to_csv('fourth_ten.csv', index=False)"
   ]
  },
  {
   "cell_type": "code",
   "execution_count": 38,
   "metadata": {},
   "outputs": [],
   "source": [
    "wel = pd.read_csv('indi_datasets/wellsfargo.csv') \n",
    "wel['company_name']='Wells_Fargo'  \n",
    "\n",
    "koh = pd.read_csv('indi_datasets/kohls.csv') \n",
    "koh['company_name']='Kohls'  \n",
    "\n",
    "uni = pd.read_csv('indi_datasets/unitedhealth.csv') \n",
    "uni['company_name']='United_Health' \n",
    "\n",
    "att = pd.read_csv('indi_datasets/att.csv') \n",
    "att['company_name']='AT&T'  \n",
    "\n",
    "ups = pd.read_csv('indi_datasets/ups.csv') \n",
    "ups['company_name']='UPS' \n",
    "\n",
    "sta = pd.read_csv('indi_datasets/statefarm.csv') \n",
    "sta['company_name']='State_Farm'  \n",
    "\n",
    "aer = pd.read_csv('indi_datasets/aerotek.csv') \n",
    "aer['company_name']='Aerotek'  \n",
    "\n",
    "mcd = pd.read_csv('indi_datasets/mcdonalds.csv') \n",
    "mcd['company_name']='McDonalds'  \n",
    "\n",
    "low = pd.read_csv('indi_datasets/loweshi.csv') \n",
    "low['company_name']='Lowes'  \n",
    "\n",
    "inf = pd.read_csv('indi_datasets/infosys.csv') \n",
    "inf['company_name']='Infosys' "
   ]
  },
  {
   "cell_type": "code",
   "execution_count": 39,
   "metadata": {},
   "outputs": [
    {
     "data": {
      "text/plain": [
       "10"
      ]
     },
     "execution_count": 39,
     "metadata": {},
     "output_type": "execute_result"
    }
   ],
   "source": [
    "fifth_ten = pd.concat([wel, koh, uni, att, ups, sta, aer, mcd, low, inf])  \n",
    "fifth_ten.company_name.nunique() "
   ]
  },
  {
   "cell_type": "code",
   "execution_count": 8,
   "metadata": {},
   "outputs": [],
   "source": [
    "fifth_ten.to_csv('fifth_ten.csv', index=False)"
   ]
  },
  {
   "cell_type": "code",
   "execution_count": 40,
   "metadata": {},
   "outputs": [],
   "source": [
    "mac = pd.read_csv('indi_datasets/macys.csv') \n",
    "mac['company_name']='Macys'  \n",
    "\n",
    "wip = pd.read_csv('indi_datasets/wipro.csv') \n",
    "wip['company_name']='Wipro'  \n",
    "\n",
    "ent = pd.read_csv('indi_datasets/enterprise.csv') \n",
    "ent['company_name']='Enterprise' \n",
    "\n",
    "walm = pd.read_csv('indi_datasets/walmart.csv') \n",
    "walm['company_name']='Walmart'  \n",
    "\n",
    "walg = pd.read_csv('indi_datasets/walgreens.csv') \n",
    "walg['company_name']='Walgreens'  \n",
    "\n",
    "cvs = pd.read_csv('indi_datasets/cvs.csv') \n",
    "cvs['company_name']='CVS' \n",
    "\n",
    "f21 = pd.read_csv('indi_datasets/f21.csv') \n",
    "f21['company_name']='Forever_21'  \n",
    "\n",
    "spe = pd.read_csv('indi_datasets/spectrum.csv') \n",
    "spe['company_name']='Spectrum'  \n",
    "\n",
    "kra = pd.read_csv('indi_datasets/kraftheinz.csv') \n",
    "kra['company_name']='Kraft_Heinz'  \n",
    "\n",
    "dil = pd.read_csv('indi_datasets/dillards.csv') \n",
    "dil['company_name']='Dillards'  "
   ]
  },
  {
   "cell_type": "code",
   "execution_count": 41,
   "metadata": {},
   "outputs": [
    {
     "data": {
      "text/plain": [
       "10"
      ]
     },
     "execution_count": 41,
     "metadata": {},
     "output_type": "execute_result"
    }
   ],
   "source": [
    "sixth_ten = pd.concat([mac, wip, ent, walm, walg, cvs, f21, spe, kra, dil])  \n",
    "sixth_ten.company_name.nunique() "
   ]
  },
  {
   "cell_type": "code",
   "execution_count": 5,
   "metadata": {},
   "outputs": [],
   "source": [
    "sixth_ten.to_csv('sixth_ten.csv', index=False)"
   ]
  },
  {
   "cell_type": "code",
   "execution_count": 42,
   "metadata": {},
   "outputs": [],
   "source": [
    "dis = pd.read_csv('indi_datasets/dish.csv') \n",
    "dis['company_name']='Dish'  \n",
    "\n",
    "kma = pd.read_csv('indi_datasets/kmart.csv') \n",
    "kma['company_name']='Kmart'  \n",
    "\n",
    "xer = pd.read_csv('indi_datasets/xerox.csv') \n",
    "xer['company_name']='Xerox' \n",
    "\n",
    "fam = pd.read_csv('indi_datasets/familydollar.csv') \n",
    "fam['company_name']='Family_Dollar'  \n",
    "\n",
    "exp = pd.read_csv('indi_datasets/expressscripts.csv') \n",
    "exp['company_name']='Express_Scripts'  \n",
    "\n",
    "chi = pd.read_csv('indi_datasets/childrensplace.csv') \n",
    "chi['company_name']='Childrens_Place' \n",
    "\n",
    "reg = pd.read_csv('indi_datasets/regal.csv') \n",
    "reg['company_name']='Regal'  \n",
    "\n",
    "laf = pd.read_csv('indi_datasets/lafitness.csv') \n",
    "laf['company_name']='LA_Fitness'  \n",
    "\n",
    "ste = pd.read_csv('indi_datasets/steaknshake.csv') \n",
    "ste['company_name']='Steak_and_Shake'  \n",
    "\n",
    "con = pd.read_csv('indi_datasets/conduent.csv') \n",
    "con['company_name']='Conduent_EI'  "
   ]
  },
  {
   "cell_type": "code",
   "execution_count": 43,
   "metadata": {},
   "outputs": [
    {
     "data": {
      "text/plain": [
       "10"
      ]
     },
     "execution_count": 43,
     "metadata": {},
     "output_type": "execute_result"
    }
   ],
   "source": [
    "seventh_ten = pd.concat([dis, kma, xer, fam, exp, chi, reg, laf, ste, con])  \n",
    "seventh_ten.company_name.nunique() "
   ]
  },
  {
   "cell_type": "code",
   "execution_count": 7,
   "metadata": {},
   "outputs": [],
   "source": [
    "seventh_ten.to_csv('seventh_ten.csv', index=False)"
   ]
  },
  {
   "cell_type": "code",
   "execution_count": 44,
   "metadata": {},
   "outputs": [],
   "source": [
    "alo = pd.read_csv('indi_datasets/alorica.csv') \n",
    "alo['company_name']='Alorica'  \n",
    "\n",
    "s = pd.read_csv('indi_datasets/speedway.csv') \n",
    "s['company_name']='Speedway'  \n",
    "\n",
    "c = pd.read_csv('indi_datasets/cdkglobal.csv') \n",
    "c['company_name']='CDK_Global' \n",
    "\n",
    "u = pd.read_csv('indi_datasets/ussecurity.csv') \n",
    "u['company_name']='US_Security_Associates'  \n",
    "\n",
    "g = pd.read_csv('indi_datasets/genesishealth.csv') \n",
    "g['company_name']='Genesis_Health'  \n",
    "\n",
    "f = pd.read_csv('indi_datasets/frontiercomm.csv') \n",
    "f['company_name']='Frontier_Communications' \n",
    "\n",
    "fr = pd.read_csv('indi_datasets/freshmarket.csv') \n",
    "fr['company_name']='Fresh_Market'  \n",
    "\n",
    "un = pd.read_csv('indi_datasets/unitedbioso.csv') \n",
    "un['company_name']='United_BioSource'  \n",
    "\n",
    "uni = pd.read_csv('indi_datasets/unionpacific.csv') \n",
    "uni['company_name']='Union_Pacific'  \n",
    "\n",
    "w = pd.read_csv('indi_datasets/willsonoma.csv') \n",
    "w['company_name']='Williams_Sonoma'  "
   ]
  },
  {
   "cell_type": "code",
   "execution_count": 45,
   "metadata": {},
   "outputs": [
    {
     "data": {
      "text/plain": [
       "10"
      ]
     },
     "execution_count": 45,
     "metadata": {},
     "output_type": "execute_result"
    }
   ],
   "source": [
    "eigth_ten = pd.concat([alo, s, c, u, g, f, fr, un, uni, w])  \n",
    "eigth_ten.company_name.nunique() "
   ]
  },
  {
   "cell_type": "code",
   "execution_count": 4,
   "metadata": {},
   "outputs": [],
   "source": [
    "eigth_ten.to_csv('eigth_ten.csv', index=False)"
   ]
  },
  {
   "cell_type": "code",
   "execution_count": 46,
   "metadata": {},
   "outputs": [],
   "source": [
    "r = pd.read_csv('indi_datasets/rentacent.csv') \n",
    "r['company_name']='Rent_A_Center'  \n",
    "\n",
    "s = pd.read_csv('indi_datasets/signetjewl.csv') \n",
    "s['company_name']='Signet_Jewelers'  \n",
    "\n",
    "g = pd.read_csv('indi_datasets/gannett.csv') \n",
    "g['company_name']='Gannett' \n",
    "\n",
    "i = pd.read_csv('indi_datasets/intertek.csv') \n",
    "i['company_name']='Intertek'  \n",
    "\n",
    "ga = pd.read_csv('indi_datasets/gamestop.csv') \n",
    "ga['company_name']='Gamestop'  \n",
    "\n",
    "su = pd.read_csv('indi_datasets/suncor.csv') \n",
    "su['company_name']='Suncor' \n",
    "\n",
    "re = pd.read_csv('indi_datasets/rescare.csv') \n",
    "re['company_name']='ResCare'  \n",
    "\n",
    "d = pd.read_csv('indi_datasets/dyson.csv') \n",
    "d['company_name']='Dyson'  \n",
    "\n",
    "c = pd.read_csv('indi_datasets/compucom.csv') \n",
    "c['company_name']='CompuCom'  \n",
    "\n",
    "dol = pd.read_csv('indi_datasets/dollargen.csv') \n",
    "dol['company_name']='Dollar_General'  "
   ]
  },
  {
   "cell_type": "code",
   "execution_count": 47,
   "metadata": {},
   "outputs": [
    {
     "data": {
      "text/plain": [
       "10"
      ]
     },
     "execution_count": 47,
     "metadata": {},
     "output_type": "execute_result"
    }
   ],
   "source": [
    "ninth_ten = pd.concat([r, s, g, i, ga, su, re, d, c, dol])  \n",
    "ninth_ten.company_name.nunique() "
   ]
  },
  {
   "cell_type": "code",
   "execution_count": 11,
   "metadata": {},
   "outputs": [],
   "source": [
    "ninth_ten.to_csv('ninth_ten.csv', index=False)"
   ]
  },
  {
   "cell_type": "code",
   "execution_count": 48,
   "metadata": {},
   "outputs": [],
   "source": [
    "o = pd.read_csv('indi_datasets/officemax.csv') \n",
    "o['company_name']='Office_Max'  \n",
    "\n",
    "c = pd.read_csv('indi_datasets/conifer.csv') \n",
    "c['company_name']='Conifer_Health'  \n",
    "\n",
    "r = pd.read_csv('indi_datasets/regus.csv') \n",
    "r['company_name']='Regus' \n",
    "\n",
    "cs = pd.read_csv('indi_datasets/csx.csv') \n",
    "cs['company_name']='CSX'  \n",
    "\n",
    "n = pd.read_csv('indi_datasets/norfoldsouth.csv') \n",
    "n['company_name']='Norfold_South'  \n",
    "\n",
    "a = pd.read_csv('indi_datasets/arizonastate.csv') \n",
    "a['company_name']='Arizona_State' \n",
    "\n",
    "i = pd.read_csv('indi_datasets/intuit.csv') \n",
    "i['company_name']='Intuit'  \n",
    "\n",
    "w = pd.read_csv('indi_datasets/washuni.csv') \n",
    "w['company_name']='Washington_University'  \n",
    "\n",
    "l = pd.read_csv('indi_datasets/lululemon.csv') \n",
    "l['company_name']='Lululemon'  \n",
    "\n",
    "u = pd.read_csv('indi_datasets/uofpenn.csv') \n",
    "u['company_name']='University_of_Penn'  "
   ]
  },
  {
   "cell_type": "code",
   "execution_count": 49,
   "metadata": {},
   "outputs": [
    {
     "data": {
      "text/plain": [
       "10"
      ]
     },
     "execution_count": 49,
     "metadata": {},
     "output_type": "execute_result"
    }
   ],
   "source": [
    "tenth_ten = pd.concat([o, c, r, cs, n, a, i, w, l, u])  \n",
    "tenth_ten.company_name.nunique() "
   ]
  },
  {
   "cell_type": "code",
   "execution_count": 17,
   "metadata": {},
   "outputs": [],
   "source": [
    "tenth_ten.to_csv('tenth_ten.csv', index=False)"
   ]
  },
  {
   "cell_type": "code",
   "execution_count": 50,
   "metadata": {},
   "outputs": [],
   "source": [
    "n = pd.read_csv('indi_datasets/nih.csv') \n",
    "n['company_name']='NIH'  \n",
    "\n",
    "u = pd.read_csv('indi_datasets/uofminn.csv') \n",
    "u['company_name']='Uni_of_Minnesota'  \n",
    "\n",
    "g = pd.read_csv('indi_datasets/gmuni.csv') \n",
    "g['company_name']='George_Mason_Uni' \n",
    "\n",
    "uc = pd.read_csv('indi_datasets/ucdavis.csv') \n",
    "uc['company_name']='UC_Davis'  \n",
    "\n",
    "r = pd.read_csv('indi_datasets/redhat.csv') \n",
    "r['company_name']='Redhat'  \n",
    "\n",
    "a = pd.read_csv('indi_datasets/akamai.csv') \n",
    "a['company_name']='Akamai' \n",
    "\n",
    "nv = pd.read_csv('indi_datasets/nvidia.csv') \n",
    "nv['company_name']='Nvidia'  \n",
    "\n",
    "h = pd.read_csv('indi_datasets/hubspot.csv') \n",
    "h['company_name']='Hubspot'  \n",
    "\n",
    "d = pd.read_csv('indi_datasets/docusign.csv') \n",
    "d['company_name']='Docusign'  \n",
    "\n",
    "s = pd.read_csv('indi_datasets/sap.csv') \n",
    "s['company_name']='SAP' "
   ]
  },
  {
   "cell_type": "code",
   "execution_count": 51,
   "metadata": {},
   "outputs": [
    {
     "data": {
      "text/plain": [
       "10"
      ]
     },
     "execution_count": 51,
     "metadata": {},
     "output_type": "execute_result"
    }
   ],
   "source": [
    "eleventh_ten = pd.concat([n, u, g, uc, r, a, nv, h, d, s])  \n",
    "eleventh_ten.company_name.nunique() "
   ]
  },
  {
   "cell_type": "code",
   "execution_count": 12,
   "metadata": {},
   "outputs": [],
   "source": [
    "eleventh_ten.to_csv('eleventh_ten.csv', index=False)"
   ]
  },
  {
   "cell_type": "code",
   "execution_count": 52,
   "metadata": {},
   "outputs": [],
   "source": [
    "o = pd.read_csv('indi_datasets/carnmellon.csv') \n",
    "o['company_name']='Carnegie_Mellon'  \n",
    "\n",
    "c = pd.read_csv('indi_datasets/bainco.csv') \n",
    "c['company_name']='Bain&Co'  \n",
    "\n",
    "r = pd.read_csv('indi_datasets/powerhomr.csv') \n",
    "r['company_name']='Power_Home_Remodel' \n",
    "\n",
    "cs = pd.read_csv('indi_datasets/stjudech.csv') \n",
    "cs['company_name']='StJudes_Childrens_Hosp'  \n",
    "\n",
    "n = pd.read_csv('indi_datasets/deltaair.csv') \n",
    "n['company_name']='Delta_Air'  \n",
    "\n",
    "a = pd.read_csv('indi_datasets/salesforce.csv') \n",
    "a['company_name']='Salesforce' \n",
    "\n",
    "i = pd.read_csv('indi_datasets/mitedu.csv') \n",
    "i['company_name']='MIT'  \n",
    "\n",
    "w = pd.read_csv('indi_datasets/northsidehosp.csv') \n",
    "w['company_name']='Northside_Hosp'  \n",
    "\n",
    "l = pd.read_csv('indi_datasets/swair.csv') \n",
    "l['company_name']='SW_Air'  \n",
    "\n",
    "u = pd.read_csv('indi_datasets/ejgallowine.csv') \n",
    "u['company_name']='EJ_Gallo_Winery' "
   ]
  },
  {
   "cell_type": "code",
   "execution_count": 53,
   "metadata": {},
   "outputs": [
    {
     "data": {
      "text/plain": [
       "10"
      ]
     },
     "execution_count": 53,
     "metadata": {},
     "output_type": "execute_result"
    }
   ],
   "source": [
    "twelvth_ten = pd.concat([o, c, r, cs, n, a, i, w, l, u])  \n",
    "twelvth_ten.company_name.nunique() "
   ]
  },
  {
   "cell_type": "code",
   "execution_count": 14,
   "metadata": {},
   "outputs": [],
   "source": [
    "twelvth_ten.to_csv('twelvth_ten.csv', index=False)"
   ]
  },
  {
   "cell_type": "code",
   "execution_count": 54,
   "metadata": {},
   "outputs": [],
   "source": [
    "o = pd.read_csv('indi_datasets/adobe.csv') \n",
    "o['company_name']='Adobe'  \n",
    "\n",
    "c = pd.read_csv('indi_datasets/wwtech.csv') \n",
    "c['company_name']='World_Wide_Tech'  \n",
    "\n",
    "r = pd.read_csv('indi_datasets/mathworks.csv') \n",
    "r['company_name']='Mathworks' \n",
    "\n",
    "cs = pd.read_csv('indi_datasets/paylocity.csv') \n",
    "cs['company_name']='Paylocity'  \n",
    "\n",
    "n = pd.read_csv('indi_datasets/uscoastguard.csv') \n",
    "n['company_name']='US_Coastguard'  \n",
    "\n",
    "a = pd.read_csv('indi_datasets/morissonhealth.csv') \n",
    "a['company_name']='Morisson_Health' \n",
    "\n",
    "i = pd.read_csv('indi_datasets/mckinseyandco.csv') \n",
    "i['company_name']='Mckinsey_and_Co'  \n",
    "\n",
    "w = pd.read_csv('indi_datasets/bostonco.csv') \n",
    "w['company_name']='Boston_Consulting'  \n",
    "\n",
    "l = pd.read_csv('indi_datasets/paycom.csv') \n",
    "l['company_name']='Paycom'  \n",
    "\n",
    "u = pd.read_csv('indi_datasets/royalcarib.csv') \n",
    "u['company_name']='Royal_Caribbean' "
   ]
  },
  {
   "cell_type": "code",
   "execution_count": 55,
   "metadata": {},
   "outputs": [
    {
     "data": {
      "text/plain": [
       "10"
      ]
     },
     "execution_count": 55,
     "metadata": {},
     "output_type": "execute_result"
    }
   ],
   "source": [
    "thirteenth_ten = pd.concat([o, c, r, cs, n, a, i, w, l, u])  \n",
    "thirteenth_ten.company_name.nunique() "
   ]
  },
  {
   "cell_type": "code",
   "execution_count": 7,
   "metadata": {},
   "outputs": [],
   "source": [
    "thirteenth_ten.to_csv('thirteenth_ten.csv', index=False)"
   ]
  },
  {
   "cell_type": "code",
   "execution_count": 56,
   "metadata": {},
   "outputs": [],
   "source": [
    "o = pd.read_csv('indi_datasets/mdacancer.csv') \n",
    "o['company_name']='MDAnderson_Cancer'  \n",
    "\n",
    "c = pd.read_csv('indi_datasets/vans.csv') \n",
    "c['company_name']='Vans'  \n",
    "\n",
    "r = pd.read_csv('indi_datasets/heb.csv') \n",
    "r['company_name']='HEB' \n",
    "\n",
    "cs = pd.read_csv('indi_datasets/patni.csv') \n",
    "cs['company_name']='Patni_CS'  \n",
    "\n",
    "n = pd.read_csv('indi_datasets/inoutburger.csv') \n",
    "n['company_name']='InnOut_Burger'  \n",
    "\n",
    "a = pd.read_csv('indi_datasets/indeed.csv') \n",
    "a['company_name']='Indeed' \n",
    "\n",
    "i = pd.read_csv('indi_datasets/mastercard.csv') \n",
    "i['company_name']='Mastercard'  \n",
    "\n",
    "w = pd.read_csv('indi_datasets/genetech.csv') \n",
    "w['company_name']='Genentech'  \n",
    "\n",
    "l = pd.read_csv('indi_datasets/zillow.csv') \n",
    "l['company_name']='Zillow'  \n",
    "\n",
    "u = pd.read_csv('indi_datasets/square.csv') \n",
    "u['company_name']='Square'  "
   ]
  },
  {
   "cell_type": "code",
   "execution_count": 57,
   "metadata": {},
   "outputs": [
    {
     "data": {
      "text/plain": [
       "10"
      ]
     },
     "execution_count": 57,
     "metadata": {},
     "output_type": "execute_result"
    }
   ],
   "source": [
    "fourteenth_ten = pd.concat([o, c, r, cs, n, a, i, w, l, u])  \n",
    "fourteenth_ten.company_name.nunique() "
   ]
  },
  {
   "cell_type": "code",
   "execution_count": 10,
   "metadata": {},
   "outputs": [],
   "source": [
    "fourteenth_ten.to_csv('fourteenth_ten.csv', index=False)"
   ]
  },
  {
   "cell_type": "code",
   "execution_count": 58,
   "metadata": {},
   "outputs": [],
   "source": [
    "o = pd.read_csv('indi_datasets/iheart.csv') \n",
    "o['company_name']='iHeart_Media'  \n",
    "\n",
    "c = pd.read_csv('indi_datasets/g4ssecure.csv') \n",
    "c['company_name']='G4S_Secure'  \n",
    "\n",
    "r = pd.read_csv('indi_datasets/mattressfirm.csv') \n",
    "r['company_name']='Mattress_Firm' \n",
    "\n",
    "cs = pd.read_csv('indi_datasets/dxctech.csv') \n",
    "cs['company_name']='DXC_Tech'  \n",
    "\n",
    "n = pd.read_csv('indi_datasets/uniqlo.csv') \n",
    "n['company_name']='Uniqlo'  \n",
    "\n",
    "a = pd.read_csv('indi_datasets/pilotflying.csv') \n",
    "a['company_name']='Pilot_Flying_J' \n",
    "\n",
    "i = pd.read_csv('indi_datasets/autonation.csv') \n",
    "i['company_name']='Auto_Nation'  \n",
    "\n",
    "w = pd.read_csv('indi_datasets/sogeti.csv') \n",
    "w['company_name']='Sogeti'  \n",
    "\n",
    "l = pd.read_csv('indi_datasets/hdsupply.csv') \n",
    "l['company_name']='HD_Supply'  \n",
    "\n",
    "u = pd.read_csv('indi_datasets/ssadmin.csv') \n",
    "u['company_name']='Social_Security_Admin'  "
   ]
  },
  {
   "cell_type": "code",
   "execution_count": 59,
   "metadata": {},
   "outputs": [
    {
     "data": {
      "text/plain": [
       "10"
      ]
     },
     "execution_count": 59,
     "metadata": {},
     "output_type": "execute_result"
    }
   ],
   "source": [
    "fifteenth_ten = pd.concat([o, c, r, cs, n, a, i, w, l, u])  \n",
    "fifteenth_ten.company_name.nunique() "
   ]
  },
  {
   "cell_type": "code",
   "execution_count": 4,
   "metadata": {},
   "outputs": [],
   "source": [
    "fifteenth_ten.to_csv('fifteenth_ten.csv', index=False)"
   ]
  },
  {
   "cell_type": "code",
   "execution_count": 63,
   "metadata": {},
   "outputs": [],
   "source": [
    "full_dataset = pd.concat([first_ten, sec_ten, third_ten, fourth_ten, fifth_ten, sixth_ten, seventh_ten, eigth_ten, ninth_ten, tenth_ten,\n",
    "                         eleventh_ten, twelvth_ten, thirteenth_ten, fourteenth_ten, fifteenth_ten])  "
   ]
  },
  {
   "cell_type": "code",
   "execution_count": 64,
   "metadata": {},
   "outputs": [
    {
     "data": {
      "text/plain": [
       "150"
      ]
     },
     "execution_count": 64,
     "metadata": {},
     "output_type": "execute_result"
    }
   ],
   "source": [
    "full_dataset.company_name.nunique() "
   ]
  },
  {
   "cell_type": "code",
   "execution_count": 65,
   "metadata": {},
   "outputs": [],
   "source": [
    "full_dataset.to_csv('full_dataset.csv', index=False)"
   ]
  },
  {
   "cell_type": "code",
   "execution_count": 70,
   "metadata": {},
   "outputs": [
    {
     "data": {
      "text/plain": [
       "date                  817\n",
       "employee_title       4896\n",
       "location             1822\n",
       "employee_status        70\n",
       "review_title         9534\n",
       "helpful                61\n",
       "pros                13588\n",
       "cons                14335\n",
       "advice_to_mgmt       4092\n",
       "rating_overall          5\n",
       "rating_balance          9\n",
       "rating_culture          8\n",
       "rating_career           9\n",
       "rating_comp             9\n",
       "rating_mgmt             5\n",
       "recommends              8\n",
       "positive_outlook        3\n",
       "approves_of_CEO         3\n",
       "company_name          150\n",
       "dtype: int64"
      ]
     },
     "execution_count": 70,
     "metadata": {},
     "output_type": "execute_result"
    }
   ],
   "source": [
    "full_dataset.nunique()"
   ]
  },
  {
   "cell_type": "code",
   "execution_count": 72,
   "metadata": {},
   "outputs": [
    {
     "data": {
      "text/plain": [
       "14926"
      ]
     },
     "execution_count": 72,
     "metadata": {},
     "output_type": "execute_result"
    }
   ],
   "source": [
    "len(full_dataset)"
   ]
  },
  {
   "cell_type": "code",
   "execution_count": null,
   "metadata": {},
   "outputs": [],
   "source": []
  }
 ],
 "metadata": {
  "kernelspec": {
   "display_name": "learn-env",
   "language": "python",
   "name": "learn-env"
  },
  "language_info": {
   "codemirror_mode": {
    "name": "ipython",
    "version": 3
   },
   "file_extension": ".py",
   "mimetype": "text/x-python",
   "name": "python",
   "nbconvert_exporter": "python",
   "pygments_lexer": "ipython3",
   "version": "3.6.9"
  }
 },
 "nbformat": 4,
 "nbformat_minor": 4
}

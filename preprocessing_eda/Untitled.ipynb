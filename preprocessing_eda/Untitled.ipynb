{
 "cells": [
  {
   "cell_type": "code",
   "execution_count": 14,
   "metadata": {},
   "outputs": [
    {
     "name": "stderr",
     "output_type": "stream",
     "text": [
      "[nltk_data] Downloading package averaged_perceptron_tagger to\n",
      "[nltk_data]     /Users/ji/nltk_data...\n",
      "[nltk_data]   Package averaged_perceptron_tagger is already up-to-\n",
      "[nltk_data]       date!\n"
     ]
    },
    {
     "data": {
      "text/plain": [
       "True"
      ]
     },
     "execution_count": 14,
     "metadata": {},
     "output_type": "execute_result"
    }
   ],
   "source": [
    "#import packages\n",
    "import pandas as pd\n",
    "import numpy as np \n",
    "\n",
    "#Imports for plotting\n",
    "from ast import literal_eval \n",
    "import pickle\n",
    "import seaborn as sns\n",
    "import matplotlib.pyplot as plt   \n",
    "from matplotlib import cm\n",
    "import matplotlib_venn as venn\n",
    "from matplotlib_venn import venn2, venn2_circles, venn3, venn3_circles\n",
    "%matplotlib inline\n",
    "\n",
    "#options\n",
    "pd.options.mode.chained_assignment = None\n",
    "pd.set_option('display.max_colwidth', 100)\n",
    "pd.options.display.max_rows = 50\n",
    "import warnings\n",
    "warnings.filterwarnings('ignore') \n",
    "\n",
    "#NLP Packages\n",
    "from textwrap import wrap\n",
    "from textblob import TextBlob \n",
    "from wordcloud import WordCloud, ImageColorGenerator \n",
    "import nltk\n",
    "from nltk.collocations import *\n",
    "from nltk.tokenize import word_tokenize\n",
    "from nltk.corpus import stopwords, wordnet\n",
    "from nltk.stem import WordNetLemmatizer \n",
    "from nltk.probability import FreqDist \n",
    "from nltk import RegexpTokenizer, PorterStemmer, pos_tag  \n",
    "from collections import Counter\n",
    "from sklearn.feature_extraction.text import CountVectorizer\n",
    "from sklearn.feature_extraction.text import TfidfVectorizer\n",
    "from sklearn.decomposition import LatentDirichletAllocation, NMF\n",
    "import string\n",
    "import re  \n",
    "\n",
    "from sklearn.model_selection import train_test_split \n",
    "\n",
    "from sklearn.feature_extraction.text import CountVectorizer\n",
    "from sklearn.feature_extraction.text import TfidfVectorizer #WBOT\n",
    "from sklearn.feature_extraction.text import TfidfTransformer\n",
    "\n",
    "\n",
    "nltk.download('averaged_perceptron_tagger') "
   ]
  },
  {
   "cell_type": "code",
   "execution_count": 15,
   "metadata": {},
   "outputs": [
    {
     "data": {
      "text/html": [
       "<div>\n",
       "<style scoped>\n",
       "    .dataframe tbody tr th:only-of-type {\n",
       "        vertical-align: middle;\n",
       "    }\n",
       "\n",
       "    .dataframe tbody tr th {\n",
       "        vertical-align: top;\n",
       "    }\n",
       "\n",
       "    .dataframe thead th {\n",
       "        text-align: right;\n",
       "    }\n",
       "</style>\n",
       "<table border=\"1\" class=\"dataframe\">\n",
       "  <thead>\n",
       "    <tr style=\"text-align: right;\">\n",
       "      <th></th>\n",
       "      <th>rating_overall</th>\n",
       "      <th>employee_title_title_known</th>\n",
       "      <th>employee_title_title_unknown</th>\n",
       "      <th>employee_status_current_employee</th>\n",
       "      <th>employee_status_former_employee</th>\n",
       "      <th>employee_status_unknown_status</th>\n",
       "      <th>helpful_helpful</th>\n",
       "      <th>helpful_not_helpful</th>\n",
       "      <th>recommends_does_not_recommend</th>\n",
       "      <th>recommends_recommends</th>\n",
       "      <th>...</th>\n",
       "      <th>adv</th>\n",
       "      <th>verb</th>\n",
       "      <th>characters</th>\n",
       "      <th>tokens</th>\n",
       "      <th>words</th>\n",
       "      <th>sentences</th>\n",
       "      <th>avg_word_len</th>\n",
       "      <th>avg_sent_len</th>\n",
       "      <th>stem_str</th>\n",
       "      <th>sentiment</th>\n",
       "    </tr>\n",
       "  </thead>\n",
       "  <tbody>\n",
       "    <tr>\n",
       "      <th>0</th>\n",
       "      <td>5.0</td>\n",
       "      <td>1</td>\n",
       "      <td>0</td>\n",
       "      <td>1</td>\n",
       "      <td>0</td>\n",
       "      <td>0</td>\n",
       "      <td>0</td>\n",
       "      <td>1</td>\n",
       "      <td>0</td>\n",
       "      <td>1</td>\n",
       "      <td>...</td>\n",
       "      <td>0.181818</td>\n",
       "      <td>0.181818</td>\n",
       "      <td>94</td>\n",
       "      <td>11</td>\n",
       "      <td>17</td>\n",
       "      <td>3</td>\n",
       "      <td>5.529412</td>\n",
       "      <td>5.666667</td>\n",
       "      <td>great alway room improv everybodi work togeth con love job helpfu</td>\n",
       "      <td>0.65</td>\n",
       "    </tr>\n",
       "  </tbody>\n",
       "</table>\n",
       "<p>1 rows × 42 columns</p>\n",
       "</div>"
      ],
      "text/plain": [
       "   rating_overall  employee_title_title_known  employee_title_title_unknown  \\\n",
       "0             5.0                           1                             0   \n",
       "\n",
       "   employee_status_current_employee  employee_status_former_employee  \\\n",
       "0                                 1                                0   \n",
       "\n",
       "   employee_status_unknown_status  helpful_helpful  helpful_not_helpful  \\\n",
       "0                               0                0                    1   \n",
       "\n",
       "   recommends_does_not_recommend  recommends_recommends  ...       adv  \\\n",
       "0                              0                      1  ...  0.181818   \n",
       "\n",
       "       verb  characters  tokens  words  sentences  avg_word_len  avg_sent_len  \\\n",
       "0  0.181818          94      11     17          3      5.529412      5.666667   \n",
       "\n",
       "                                                            stem_str  \\\n",
       "0  great alway room improv everybodi work togeth con love job helpfu   \n",
       "\n",
       "   sentiment  \n",
       "0       0.65  \n",
       "\n",
       "[1 rows x 42 columns]"
      ]
     },
     "execution_count": 15,
     "metadata": {},
     "output_type": "execute_result"
    }
   ],
   "source": [
    "#Load data\n",
    "df = pd.read_pickle('df_processed_full.pickle')\n",
    "\n",
    "#Preview dataset\n",
    "df.head(1)"
   ]
  },
  {
   "cell_type": "code",
   "execution_count": 16,
   "metadata": {},
   "outputs": [
    {
     "data": {
      "text/plain": [
       "Index(['rating_overall', 'employee_title_title_known',\n",
       "       'employee_title_title_unknown', 'employee_status_current_employee',\n",
       "       'employee_status_former_employee', 'employee_status_unknown_status',\n",
       "       'helpful_helpful', 'helpful_not_helpful',\n",
       "       'recommends_does_not_recommend', 'recommends_recommends',\n",
       "       'recommends_unknown_recommends', 'area_central', 'area_east_coast',\n",
       "       'area_mountain', 'area_outside_US', 'area_unknown', 'area_west_coast',\n",
       "       'company_outlook_negative_outlook', 'company_outlook_neutral_outlook',\n",
       "       'company_outlook_outlook_unknown', 'company_outlook_positive_outlook',\n",
       "       'opinion_of_CEO_approves_of_CEO', 'opinion_of_CEO_disapproves_of_CEO',\n",
       "       'opinion_of_CEO_no_opinion_of_CEO',\n",
       "       'opinion_of_CEO_unknown_opinion_of_CEO', 'review_text', 'orig_text',\n",
       "       'lem', 'stem', 'pos', 'noun', 'adj', 'adv', 'verb', 'characters',\n",
       "       'tokens', 'words', 'sentences', 'avg_word_len', 'avg_sent_len',\n",
       "       'stem_str', 'sentiment'],\n",
       "      dtype='object')"
      ]
     },
     "execution_count": 16,
     "metadata": {},
     "output_type": "execute_result"
    }
   ],
   "source": [
    "df.keys()"
   ]
  },
  {
   "cell_type": "code",
   "execution_count": 24,
   "metadata": {},
   "outputs": [],
   "source": []
  },
  {
   "cell_type": "code",
   "execution_count": 26,
   "metadata": {},
   "outputs": [],
   "source": [
    "data_train, data_test, target_train, target_test = train_test_split(df['stem_str'] , df['rating_overall'], test_size=0.20, random_state=21)"
   ]
  },
  {
   "cell_type": "code",
   "execution_count": 27,
   "metadata": {},
   "outputs": [],
   "source": [
    "tfidf = TfidfVectorizer()"
   ]
  },
  {
   "cell_type": "code",
   "execution_count": 30,
   "metadata": {},
   "outputs": [
    {
     "data": {
      "text/html": [
       "<div>\n",
       "<style scoped>\n",
       "    .dataframe tbody tr th:only-of-type {\n",
       "        vertical-align: middle;\n",
       "    }\n",
       "\n",
       "    .dataframe tbody tr th {\n",
       "        vertical-align: top;\n",
       "    }\n",
       "\n",
       "    .dataframe thead th {\n",
       "        text-align: right;\n",
       "    }\n",
       "</style>\n",
       "<table border=\"1\" class=\"dataframe\">\n",
       "  <thead>\n",
       "    <tr style=\"text-align: right;\">\n",
       "      <th></th>\n",
       "      <th>rating_overall</th>\n",
       "      <th>employee_title_title_known</th>\n",
       "      <th>employee_title_title_unknown</th>\n",
       "      <th>employee_status_current_employee</th>\n",
       "      <th>employee_status_former_employee</th>\n",
       "      <th>employee_status_unknown_status</th>\n",
       "      <th>helpful_helpful</th>\n",
       "      <th>helpful_not_helpful</th>\n",
       "      <th>recommends_does_not_recommend</th>\n",
       "      <th>recommends_recommends</th>\n",
       "      <th>...</th>\n",
       "      <th>verb</th>\n",
       "      <th>characters</th>\n",
       "      <th>tokens</th>\n",
       "      <th>words</th>\n",
       "      <th>sentences</th>\n",
       "      <th>avg_word_len</th>\n",
       "      <th>avg_sent_len</th>\n",
       "      <th>stem_str</th>\n",
       "      <th>sentiment</th>\n",
       "      <th>naked_stem</th>\n",
       "    </tr>\n",
       "  </thead>\n",
       "  <tbody>\n",
       "    <tr>\n",
       "      <th>0</th>\n",
       "      <td>5.0</td>\n",
       "      <td>1</td>\n",
       "      <td>0</td>\n",
       "      <td>1</td>\n",
       "      <td>0</td>\n",
       "      <td>0</td>\n",
       "      <td>0</td>\n",
       "      <td>1</td>\n",
       "      <td>0</td>\n",
       "      <td>1</td>\n",
       "      <td>...</td>\n",
       "      <td>0.181818</td>\n",
       "      <td>94</td>\n",
       "      <td>11</td>\n",
       "      <td>17</td>\n",
       "      <td>3</td>\n",
       "      <td>5.529412</td>\n",
       "      <td>5.666667</td>\n",
       "      <td>great alway room improv everybodi work togeth con love job helpfu</td>\n",
       "      <td>0.65</td>\n",
       "      <td>great alway room improv everybodi work togeth con love job helpfu</td>\n",
       "    </tr>\n",
       "  </tbody>\n",
       "</table>\n",
       "<p>1 rows × 43 columns</p>\n",
       "</div>"
      ],
      "text/plain": [
       "   rating_overall  employee_title_title_known  employee_title_title_unknown  \\\n",
       "0             5.0                           1                             0   \n",
       "\n",
       "   employee_status_current_employee  employee_status_former_employee  \\\n",
       "0                                 1                                0   \n",
       "\n",
       "   employee_status_unknown_status  helpful_helpful  helpful_not_helpful  \\\n",
       "0                               0                0                    1   \n",
       "\n",
       "   recommends_does_not_recommend  recommends_recommends  ...      verb  \\\n",
       "0                              0                      1  ...  0.181818   \n",
       "\n",
       "   characters  tokens  words  sentences  avg_word_len  avg_sent_len  \\\n",
       "0          94      11     17          3      5.529412      5.666667   \n",
       "\n",
       "                                                            stem_str  \\\n",
       "0  great alway room improv everybodi work togeth con love job helpfu   \n",
       "\n",
       "   sentiment  \\\n",
       "0       0.65   \n",
       "\n",
       "                                                          naked_stem  \n",
       "0  great alway room improv everybodi work togeth con love job helpfu  \n",
       "\n",
       "[1 rows x 43 columns]"
      ]
     },
     "execution_count": 30,
     "metadata": {},
     "output_type": "execute_result"
    }
   ],
   "source": [
    "df.head(1)"
   ]
  },
  {
   "cell_type": "code",
   "execution_count": 28,
   "metadata": {},
   "outputs": [
    {
     "data": {
      "text/plain": [
       "array([0.29794728, 0.31284565, 0.11244996, ..., 0.2281703 , 0.38126832,\n",
       "       0.27143862])"
      ]
     },
     "execution_count": 28,
     "metadata": {},
     "output_type": "execute_result"
    }
   ],
   "source": [
    "tfidf_data_train = tfidf.fit_transform(data_train)\n",
    "tfidf_data_test = tfidf.transform(data_test)\n",
    "tfidf_data_test.data"
   ]
  },
  {
   "cell_type": "code",
   "execution_count": 29,
   "metadata": {},
   "outputs": [
    {
     "data": {
      "text/plain": [
       "array([[0., 0., 0., ..., 0., 0., 0.],\n",
       "       [0., 0., 0., ..., 0., 0., 0.],\n",
       "       [0., 0., 0., ..., 0., 0., 0.],\n",
       "       ...,\n",
       "       [0., 0., 0., ..., 0., 0., 0.],\n",
       "       [0., 0., 0., ..., 0., 0., 0.],\n",
       "       [0., 0., 0., ..., 0., 0., 0.]])"
      ]
     },
     "execution_count": 29,
     "metadata": {},
     "output_type": "execute_result"
    }
   ],
   "source": [
    "tfidf_data_test.toarray()"
   ]
  },
  {
   "cell_type": "code",
   "execution_count": null,
   "metadata": {},
   "outputs": [],
   "source": []
  },
  {
   "cell_type": "code",
   "execution_count": null,
   "metadata": {},
   "outputs": [],
   "source": []
  },
  {
   "cell_type": "code",
   "execution_count": null,
   "metadata": {},
   "outputs": [],
   "source": []
  },
  {
   "cell_type": "code",
   "execution_count": null,
   "metadata": {},
   "outputs": [],
   "source": []
  },
  {
   "cell_type": "code",
   "execution_count": null,
   "metadata": {},
   "outputs": [],
   "source": []
  },
  {
   "cell_type": "code",
   "execution_count": null,
   "metadata": {},
   "outputs": [],
   "source": []
  },
  {
   "cell_type": "code",
   "execution_count": null,
   "metadata": {},
   "outputs": [],
   "source": []
  },
  {
   "cell_type": "code",
   "execution_count": null,
   "metadata": {},
   "outputs": [],
   "source": []
  },
  {
   "cell_type": "code",
   "execution_count": null,
   "metadata": {},
   "outputs": [],
   "source": []
  },
  {
   "cell_type": "code",
   "execution_count": null,
   "metadata": {},
   "outputs": [],
   "source": []
  },
  {
   "cell_type": "code",
   "execution_count": null,
   "metadata": {},
   "outputs": [],
   "source": []
  },
  {
   "cell_type": "code",
   "execution_count": null,
   "metadata": {},
   "outputs": [],
   "source": []
  }
 ],
 "metadata": {
  "kernelspec": {
   "display_name": "learn-env",
   "language": "python",
   "name": "learn-env"
  },
  "language_info": {
   "codemirror_mode": {
    "name": "ipython",
    "version": 3
   },
   "file_extension": ".py",
   "mimetype": "text/x-python",
   "name": "python",
   "nbconvert_exporter": "python",
   "pygments_lexer": "ipython3",
   "version": "3.6.9"
  }
 },
 "nbformat": 4,
 "nbformat_minor": 4
}

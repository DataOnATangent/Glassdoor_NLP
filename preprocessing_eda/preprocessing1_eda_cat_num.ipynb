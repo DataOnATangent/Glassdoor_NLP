{
 "cells": [
  {
   "cell_type": "markdown",
   "metadata": {},
   "source": [
    "# Preprocessing and EDA of Catagorical/Numerical Variables\n",
    "\n",
    "In this notebook I will be taking steps to prepare my non text columns for modeling including EDA and processing. I will be attempting to retain as much data as possible but will be feature engineering primary from text as aopposed to these other columns"
   ]
  },
  {
   "cell_type": "markdown",
   "metadata": {},
   "source": [
    "### Process Steps\n",
    "\n",
    "1. [Step 1: Load Packages](#step1) \n",
    "2. [Step 2: Check Target Class for Imbalance](#step2)\n",
    "3. [Step 3: Preprocessing Categorical and Date Columns](#step3) \n",
    "4. [Step 4: Dealing with Rating Columns](#step4) \n",
    "5. [Step 5: Convert All Categorical Features to Dummies](#step5)   \n",
    "5. [Step 6: Save Processed Dataframe](#step6)  \n"
   ]
  },
  {
   "cell_type": "markdown",
   "metadata": {},
   "source": [
    "<a name=\"step1\"></a>\n",
    "### Step 1: Load Packages"
   ]
  },
  {
   "cell_type": "code",
   "execution_count": 1,
   "metadata": {},
   "outputs": [
    {
     "name": "stderr",
     "output_type": "stream",
     "text": [
      "[nltk_data] Downloading package averaged_perceptron_tagger to\n",
      "[nltk_data]     /Users/ji/nltk_data...\n",
      "[nltk_data]   Package averaged_perceptron_tagger is already up-to-\n",
      "[nltk_data]       date!\n"
     ]
    },
    {
     "data": {
      "text/plain": [
       "True"
      ]
     },
     "execution_count": 1,
     "metadata": {},
     "output_type": "execute_result"
    }
   ],
   "source": [
    "#import packages\n",
    "import pandas as pd\n",
    "import numpy as np \n",
    "\n",
    "#Imports for plotting\n",
    "import seaborn as sns\n",
    "import matplotlib.pyplot as plt \n",
    "%matplotlib inline\n",
    "\n",
    "#options\n",
    "pd.options.display.max_rows = 50\n",
    "import warnings\n",
    "warnings.filterwarnings('ignore') \n",
    "\n",
    "#NLP Packages\n",
    "from textblob import TextBlob \n",
    "from wordcloud import WordCloud \n",
    "import nltk\n",
    "from nltk.collocations import *\n",
    "from nltk.tokenize import word_tokenize\n",
    "from nltk.corpus import stopwords, wordnet\n",
    "from nltk.stem import WordNetLemmatizer \n",
    "from nltk.probability import FreqDist \n",
    "from nltk import RegexpTokenizer, PorterStemmer, pos_tag \n",
    "import string\n",
    "import re\n",
    "\n",
    "nltk.download('averaged_perceptron_tagger')"
   ]
  },
  {
   "cell_type": "code",
   "execution_count": 2,
   "metadata": {},
   "outputs": [
    {
     "data": {
      "text/html": [
       "<div>\n",
       "<style scoped>\n",
       "    .dataframe tbody tr th:only-of-type {\n",
       "        vertical-align: middle;\n",
       "    }\n",
       "\n",
       "    .dataframe tbody tr th {\n",
       "        vertical-align: top;\n",
       "    }\n",
       "\n",
       "    .dataframe thead th {\n",
       "        text-align: right;\n",
       "    }\n",
       "</style>\n",
       "<table border=\"1\" class=\"dataframe\">\n",
       "  <thead>\n",
       "    <tr style=\"text-align: right;\">\n",
       "      <th></th>\n",
       "      <th>date</th>\n",
       "      <th>employee_title</th>\n",
       "      <th>location</th>\n",
       "      <th>employee_status</th>\n",
       "      <th>review_title</th>\n",
       "      <th>helpful</th>\n",
       "      <th>pros</th>\n",
       "      <th>cons</th>\n",
       "      <th>advice_to_mgmt</th>\n",
       "      <th>rating_overall</th>\n",
       "      <th>rating_balance</th>\n",
       "      <th>rating_culture</th>\n",
       "      <th>rating_career</th>\n",
       "      <th>rating_comp</th>\n",
       "      <th>rating_mgmt</th>\n",
       "      <th>recommends</th>\n",
       "      <th>positive_outlook</th>\n",
       "      <th>approves_of_CEO</th>\n",
       "      <th>company_name</th>\n",
       "    </tr>\n",
       "  </thead>\n",
       "  <tbody>\n",
       "    <tr>\n",
       "      <th>0</th>\n",
       "      <td>Fri Feb 26 2021</td>\n",
       "      <td>Forklift Operator Waerhouse Fabrication</td>\n",
       "      <td>Atlanta, GA</td>\n",
       "      <td>Current Employee</td>\n",
       "      <td>great</td>\n",
       "      <td>0</td>\n",
       "      <td>always room for improvement. everybody works t...</td>\n",
       "      <td>no cons i love my job\\nHelpfu</td>\n",
       "      <td>NaN</td>\n",
       "      <td>5.0</td>\n",
       "      <td>4.0</td>\n",
       "      <td>4.0</td>\n",
       "      <td>4.0</td>\n",
       "      <td>4.0</td>\n",
       "      <td>4.0</td>\n",
       "      <td>Recommends</td>\n",
       "      <td>Positive Outlook</td>\n",
       "      <td>No opinion of CEO</td>\n",
       "      <td>Amazon</td>\n",
       "    </tr>\n",
       "    <tr>\n",
       "      <th>1</th>\n",
       "      <td>Sun Jan 10 2016</td>\n",
       "      <td>Anonymous</td>\n",
       "      <td>Seattle, WA</td>\n",
       "      <td>Current Employee</td>\n",
       "      <td>You Get What You Put In</td>\n",
       "      <td>2685</td>\n",
       "      <td>Really smart people, a lot of opportunity for ...</td>\n",
       "      <td>You have to be self motivated. NO ONE will hol...</td>\n",
       "      <td>More on-boarding training before new employees...</td>\n",
       "      <td>5.0</td>\n",
       "      <td>4.0</td>\n",
       "      <td>5.0</td>\n",
       "      <td>5.0</td>\n",
       "      <td>5.0</td>\n",
       "      <td>5.0</td>\n",
       "      <td>Recommends</td>\n",
       "      <td>Positive Outlook</td>\n",
       "      <td>Approves of CEO</td>\n",
       "      <td>Amazon</td>\n",
       "    </tr>\n",
       "    <tr>\n",
       "      <th>2</th>\n",
       "      <td>Sat Feb 20 2016</td>\n",
       "      <td>Senior Engineering Manager</td>\n",
       "      <td>Seattle, WA</td>\n",
       "      <td>Current Employee</td>\n",
       "      <td>Exciting Work, Abusive Culture</td>\n",
       "      <td>2556</td>\n",
       "      <td>Jeff Bezos and his \"S-Team\" are brilliant and ...</td>\n",
       "      <td>The management process is abusive, and I'm cur...</td>\n",
       "      <td>Don't pretend that the recent NY Times article...</td>\n",
       "      <td>3.0</td>\n",
       "      <td>3.0</td>\n",
       "      <td>3.0</td>\n",
       "      <td>3.0</td>\n",
       "      <td>4.0</td>\n",
       "      <td>4.0</td>\n",
       "      <td>Doesn't Recommend</td>\n",
       "      <td>Positive Outlook</td>\n",
       "      <td>Approves of CEO</td>\n",
       "      <td>Amazon</td>\n",
       "    </tr>\n",
       "    <tr>\n",
       "      <th>3</th>\n",
       "      <td>Mon Dec 03 2018</td>\n",
       "      <td>Software Development Manager</td>\n",
       "      <td>Phoenix, AZ</td>\n",
       "      <td>Current Employee</td>\n",
       "      <td>Amazing company and the most driven and smarte...</td>\n",
       "      <td>758</td>\n",
       "      <td>- You can learn a lot very quickly in a very s...</td>\n",
       "      <td>- Can be overwhelming, very steep learning cur...</td>\n",
       "      <td>NaN</td>\n",
       "      <td>5.0</td>\n",
       "      <td>3.0</td>\n",
       "      <td>4.0</td>\n",
       "      <td>5.0</td>\n",
       "      <td>5.0</td>\n",
       "      <td>5.0</td>\n",
       "      <td>Recommends</td>\n",
       "      <td>Positive Outlook</td>\n",
       "      <td>Approves of CEO</td>\n",
       "      <td>Amazon</td>\n",
       "    </tr>\n",
       "    <tr>\n",
       "      <th>4</th>\n",
       "      <td>Fri Feb 23 2018</td>\n",
       "      <td>Software Development Manager</td>\n",
       "      <td>Phoenix, AZ</td>\n",
       "      <td>Current Employee</td>\n",
       "      <td>An Amazing Place to Work</td>\n",
       "      <td>786</td>\n",
       "      <td>I've been at Amazon for a month now, and I've ...</td>\n",
       "      <td>No cons, so far - seriously. Like I said, I'm ...</td>\n",
       "      <td>NaN</td>\n",
       "      <td>5.0</td>\n",
       "      <td>4.0</td>\n",
       "      <td>5.0</td>\n",
       "      <td>5.0</td>\n",
       "      <td>5.0</td>\n",
       "      <td>5.0</td>\n",
       "      <td>Recommends</td>\n",
       "      <td>Positive Outlook</td>\n",
       "      <td>Approves of CEO</td>\n",
       "      <td>Amazon</td>\n",
       "    </tr>\n",
       "  </tbody>\n",
       "</table>\n",
       "</div>"
      ],
      "text/plain": [
       "              date                            employee_title     location  \\\n",
       "0  Fri Feb 26 2021   Forklift Operator Waerhouse Fabrication  Atlanta, GA   \n",
       "1  Sun Jan 10 2016                                 Anonymous  Seattle, WA   \n",
       "2  Sat Feb 20 2016                Senior Engineering Manager  Seattle, WA   \n",
       "3  Mon Dec 03 2018              Software Development Manager  Phoenix, AZ   \n",
       "4  Fri Feb 23 2018              Software Development Manager  Phoenix, AZ   \n",
       "\n",
       "     employee_status                                       review_title  \\\n",
       "0  Current Employee                                               great   \n",
       "1  Current Employee                             You Get What You Put In   \n",
       "2  Current Employee                      Exciting Work, Abusive Culture   \n",
       "3  Current Employee   Amazing company and the most driven and smarte...   \n",
       "4  Current Employee                            An Amazing Place to Work   \n",
       "\n",
       "   helpful                                               pros  \\\n",
       "0        0  always room for improvement. everybody works t...   \n",
       "1     2685  Really smart people, a lot of opportunity for ...   \n",
       "2     2556  Jeff Bezos and his \"S-Team\" are brilliant and ...   \n",
       "3      758  - You can learn a lot very quickly in a very s...   \n",
       "4      786  I've been at Amazon for a month now, and I've ...   \n",
       "\n",
       "                                                cons  \\\n",
       "0                      no cons i love my job\\nHelpfu   \n",
       "1  You have to be self motivated. NO ONE will hol...   \n",
       "2  The management process is abusive, and I'm cur...   \n",
       "3  - Can be overwhelming, very steep learning cur...   \n",
       "4  No cons, so far - seriously. Like I said, I'm ...   \n",
       "\n",
       "                                      advice_to_mgmt  rating_overall  \\\n",
       "0                                                NaN             5.0   \n",
       "1  More on-boarding training before new employees...             5.0   \n",
       "2  Don't pretend that the recent NY Times article...             3.0   \n",
       "3                                                NaN             5.0   \n",
       "4                                                NaN             5.0   \n",
       "\n",
       "   rating_balance  rating_culture  rating_career  rating_comp  rating_mgmt  \\\n",
       "0             4.0             4.0            4.0          4.0          4.0   \n",
       "1             4.0             5.0            5.0          5.0          5.0   \n",
       "2             3.0             3.0            3.0          4.0          4.0   \n",
       "3             3.0             4.0            5.0          5.0          5.0   \n",
       "4             4.0             5.0            5.0          5.0          5.0   \n",
       "\n",
       "          recommends  positive_outlook    approves_of_CEO company_name  \n",
       "0         Recommends  Positive Outlook  No opinion of CEO       Amazon  \n",
       "1         Recommends  Positive Outlook    Approves of CEO       Amazon  \n",
       "2  Doesn't Recommend  Positive Outlook    Approves of CEO       Amazon  \n",
       "3         Recommends  Positive Outlook    Approves of CEO       Amazon  \n",
       "4         Recommends  Positive Outlook    Approves of CEO       Amazon  "
      ]
     },
     "execution_count": 2,
     "metadata": {},
     "output_type": "execute_result"
    }
   ],
   "source": [
    "df = pd.read_csv('full_dataset.csv')  \n",
    "df.head()"
   ]
  },
  {
   "cell_type": "markdown",
   "metadata": {},
   "source": [
    "<a name=\"step2\"></a>\n",
    "### Step 2: Check Target Class for Imbalance \n",
    "\n",
    "Based off the graph below I can tell that some rebalancing will likely be needed. "
   ]
  },
  {
   "cell_type": "code",
   "execution_count": 3,
   "metadata": {},
   "outputs": [
    {
     "data": {
      "text/plain": [
       "Text(0.5, 1.0, 'Distribution of Class')"
      ]
     },
     "execution_count": 3,
     "metadata": {},
     "output_type": "execute_result"
    },
    {
     "data": {
      "image/png": "[encoded data removed]",
      "text/plain": [
       "<Figure size 432x288 with 1 Axes>"
      ]
     },
     "metadata": {
      "needs_background": "light"
     },
     "output_type": "display_data"
    }
   ],
   "source": [
    "# Checking for class imbalance\n",
    "sns.countplot(df['rating_overall'], palette='Set3').set_title('Distribution of Class')"
   ]
  },
  {
   "cell_type": "code",
   "execution_count": 4,
   "metadata": {},
   "outputs": [],
   "source": [
    "def label_function(rating): \n",
    "    if rating >= 5: \n",
    "        return 'positive' \n",
    "    elif rating <= 2: \n",
    "        return 'negative' \n",
    "    else: \n",
    "        return 'neutral' \n",
    "    \n",
    "df['label'] = df['rating_overall'].apply(label_function)"
   ]
  },
  {
   "cell_type": "code",
   "execution_count": 5,
   "metadata": {},
   "outputs": [
    {
     "data": {
      "text/plain": [
       "Text(0.5, 1.0, 'Distribution of Class')"
      ]
     },
     "execution_count": 5,
     "metadata": {},
     "output_type": "execute_result"
    },
    {
     "data": {
      "image/png": "[encoded data removed]",
      "text/plain": [
       "<Figure size 432x288 with 1 Axes>"
      ]
     },
     "metadata": {
      "needs_background": "light"
     },
     "output_type": "display_data"
    }
   ],
   "source": [
    "sns.countplot(df['label'], palette='Set3').set_title('Distribution of Class')"
   ]
  },
  {
   "cell_type": "markdown",
   "metadata": {},
   "source": [
    "<a name=\"step3\"></a>\n",
    "### Step 3: Preprocessing Categorical and Date Columns\n",
    "\n",
    "Although this project focuses on sentiment analysis, since I hope to improve my model with exogenous factors I want to do some work to make sure the results are interpretable. I will do this by catagorizing missing values as unknown, since there may be a reason why the user chose not to enter this information, and by simplying some widely varies columns such as employee title into general catagories. "
   ]
  },
  {
   "cell_type": "code",
   "execution_count": 6,
   "metadata": {},
   "outputs": [
    {
     "data": {
      "text/plain": [
       "date                    0\n",
       "employee_title        122\n",
       "location             3914\n",
       "employee_status         0\n",
       "review_title           62\n",
       "helpful                 0\n",
       "pros                  775\n",
       "cons                    1\n",
       "advice_to_mgmt      10379\n",
       "rating_overall          0\n",
       "rating_balance       3358\n",
       "rating_culture       3455\n",
       "rating_career        3500\n",
       "rating_comp          3544\n",
       "rating_mgmt          3659\n",
       "recommends           4450\n",
       "positive_outlook     5395\n",
       "approves_of_CEO      5786\n",
       "company_name            0\n",
       "label                   0\n",
       "dtype: int64"
      ]
     },
     "execution_count": 6,
     "metadata": {},
     "output_type": "execute_result"
    }
   ],
   "source": [
    "#Checks for missing values in each column\n",
    "df.isna().sum()"
   ]
  },
  {
   "cell_type": "code",
   "execution_count": 7,
   "metadata": {},
   "outputs": [],
   "source": [
    "#Deal with missing values by making them into an unkown category in some columns\n",
    "df['employee_title'].fillna('title_unknown', inplace=True) \n",
    "df['location'].fillna('unknown,NA', inplace=True) \n",
    "df['recommends'].fillna('unknown_recommends', inplace=True) \n",
    "df['positive_outlook'].fillna('outlook_unknown', inplace=True) \n",
    "df['approves_of_CEO'].fillna('unknown_opinion_of_CEO', inplace=True) "
   ]
  },
  {
   "cell_type": "markdown",
   "metadata": {},
   "source": [
    "#### Adressing Date"
   ]
  },
  {
   "cell_type": "code",
   "execution_count": 8,
   "metadata": {},
   "outputs": [
    {
     "data": {
      "text/plain": [
       "date\n",
       "2008        8\n",
       "2009        8\n",
       "2010       14\n",
       "2011        9\n",
       "2012        9\n",
       "2013       10\n",
       "2014       39\n",
       "2015       42\n",
       "2016       40\n",
       "2017       56\n",
       "2018      120\n",
       "2019      178\n",
       "2020     2237\n",
       "2021    12156\n",
       "Name: date, dtype: int64"
      ]
     },
     "execution_count": 8,
     "metadata": {},
     "output_type": "execute_result"
    }
   ],
   "source": [
    "#Sets date column as a date object\n",
    "df['date']= pd.to_datetime(df['date'])  #Sets date column as a date object for the purpose of resampling \n",
    "df['date'].groupby([df.date.dt.year]).agg('count') #Looks at the counts of reviews by month "
   ]
  },
  {
   "cell_type": "markdown",
   "metadata": {},
   "source": [
    "#### Adressing Employee Title\n",
    "Next I adress simplyfying the employee titles. Since we have are looking at various industries, titles are very varied for this reason I am chosing to change this into a binary and focus on whether or not this was information given. "
   ]
  },
  {
   "cell_type": "code",
   "execution_count": 9,
   "metadata": {},
   "outputs": [
    {
     "data": {
      "image/png": "[encoded data removed]",
      "text/plain": [
       "<Figure size 432x288 with 1 Axes>"
      ]
     },
     "metadata": {
      "needs_background": "light"
     },
     "output_type": "display_data"
    }
   ],
   "source": [
    "df['employee_title'].loc[df['employee_title'] != 'title_unknown'] = 'title_known' #Replaces all other entries with 'known'\n",
    "\n",
    "sns.countplot(df['employee_title'], palette='Set3').set_title('Distribution of Class'); #plots distribution\n"
   ]
  },
  {
   "cell_type": "markdown",
   "metadata": {},
   "source": [
    "#### Adressing location\n",
    "For location I decided it would be best to look at region as as generally associated with time zone so I have split the country into 4 regions, as well as catagorized those outside the US and unkown respectively.  "
   ]
  },
  {
   "cell_type": "code",
   "execution_count": 10,
   "metadata": {},
   "outputs": [],
   "source": [
    "df['area'] = df.location.str[-2:]  #Creates new column using last two characters from location column\n",
    "\n",
    "#Assigns the last two letters to a region of the US \n",
    "df['area'] = df['area'].replace(['CA','NV','OR','WA','AK', 'HI'], 'west_coast')\n",
    "df['area'] = df['area'].replace(['MT', 'ID', 'WY', 'UT', 'CO', 'AZ', 'NM'], 'mountain')\n",
    "df['area'] = df['area'].replace(['ND', 'SD', 'NE', 'KS','OK','TX', 'MN', 'IA', 'MO', 'AR', 'LA', 'WI', 'IL', 'MS', 'AL', 'KY', 'TN' ], 'central') \n",
    "df['area'] = df['area'].replace(['ME', 'VT', 'NH', 'MA', 'RI', 'CT', 'NY', 'PA', 'NJ', 'DE', 'MD', 'DC', 'VA', 'WV', 'OH', 'MI','IN',\n",
    "                           'GA', 'SC', 'NC', 'FL', 'PR'], 'east_coast')\n",
    "df['area'] = df['area'].replace(['AB', 'ON', 'ai', 'GU', 'BC', 'QC', 'lo', 'ng', 'nt', 'VI', 'ār', 'nd', 'on', 'st', 're', 'ad','da',\n",
    "                           'ar', 'er', 'ya'], 'outside_US') \n",
    "#Replaces NA value with Unknown \n",
    "df['area'] = df['area'].replace(['NA'],'unknown')\n",
    "\n",
    "del df['location'] #Drops the old location column"
   ]
  },
  {
   "cell_type": "code",
   "execution_count": 11,
   "metadata": {},
   "outputs": [
    {
     "data": {
      "image/png": "[encoded data removed]",
      "text/plain": [
       "<Figure size 540x360 with 1 Axes>"
      ]
     },
     "metadata": {
      "needs_background": "light"
     },
     "output_type": "display_data"
    }
   ],
   "source": [
    "#plots distribution of Area column\n",
    "g = sns.factorplot(\"area\", data=df, aspect=1.5, kind=\"count\", palette='Set3')\n",
    "g.set_xticklabels(rotation=45) \n",
    "g.fig.suptitle(\"Distribution of Class\", fontsize=24);"
   ]
  },
  {
   "cell_type": "markdown",
   "metadata": {},
   "source": [
    "#### Adressing Employee Status\n",
    "\n",
    "This column is largely filled so here I rename the main two catagories for the sake of consistency and catagorize the rest as unkown. "
   ]
  },
  {
   "cell_type": "code",
   "execution_count": 12,
   "metadata": {},
   "outputs": [
    {
     "data": {
      "image/png": "[encoded data removed]",
      "text/plain": [
       "<Figure size 540x360 with 1 Axes>"
      ]
     },
     "metadata": {
      "needs_background": "light"
     },
     "output_type": "display_data"
    }
   ],
   "source": [
    "df['employee_status'] = df['employee_status'].replace(['Current Employee ', 'Former Employee '],['current_employee','former_employee'])\n",
    "df['employee_status'] = df['employee_status'].replace(['Site Selection Program Manager in Menlo Park, CA',' in Fairfax, VA', ' in Baltimore, MD', ' ', ' in Timonium, MD',\n",
    "       ' in Washington, DC', 'Attorney ', ' in Century City, CA','Attorney in Columbia, MD', 'Legal Secretary in Century City, CA',\n",
    "       'Employee in Washington, DC', ' in Memphis, TN', 'Co', 'Scientific Technical Writer/Media Planner in Memphis, TN','Sales Representative in Green Bay, WI',\n",
    "       'Technical Representative in Trois', 'Area Representative ','Associate Software Engineer in Bellevue, WA','Senior Marketing Research Manager in Bellevue, WA',\n",
    "        ' in Bellevue, WA','Director of Business Development in Bellevue, WA','Test Manager in Bellevue, WA','Service Desk Representative in Bellevue, WA',\n",
    "       'Software Engineer in Bellevue, WA','Cloud Software Engineer in Bothell, WA', 'Software Engineer ','Senior Software Engineer ', 'Delivery Driver in Auburn, ME',\n",
    "       'Store Manager in Orlando, FL', 'GM Manager ', 'Clinical Project Manager in Blue Bell, PA', ' in Inglewood, CA','Senior Executive Administrator/Associate in Denver, CO',\n",
    "       'Phone Agent in Chicago, IL','Customer Experience Specialist in Aurora, IL', ' in Chicago, IL','Dyson Expert in Portland, OR','Customer Service Agent in Remote, OR',\n",
    "       'Computer Programmer in Brooklyn, NY','Project Manager in Cincinnati, OH','Project Manager in New York, NY', ' in Portland, OR','Project Coordinator in Bloomington, IL',\n",
    "       'Advertising in Los Angeles, CA','Project Manager in San Jose, CA','Senior Software Engineer in Atlanta, GA', ' in Cambridge, MA','Software Specialist in Cincinnati, OH',\n",
    "       'Project Manager in Holtsville, NY','Software Specialist in Baltimore, MD','IT Project Manager in Marlborough, MA','Telecom Business Analyst in Farmington, MN',\n",
    "       'Software Engineer in Boston, MA','Project Manager in Bloomington, IL','Senior Software Engineer in Chicago, IL','Business Analyst in Jersey City, NJ',\n",
    "       'Team Lead in Bloomington, IL','Senior Software Engineer in Bloomington, IL','Software Specialist in California City, CA', 'Software Specialist in Baldwin Park, CA', ' in Tampa, FL',\n",
    "       'Network Support Engineer in Bridgeport, CT','Solution Architect in Milpitas, CA', 'Director in Boston, MA','Assistant Vice President in Washington, DC',\n",
    "       ' in Saint Louis, MO','Meat Eater Tester Manager in American Fork, UT',' in Atlanta, GA'], 'unknown_status')  #Replaces all other entries with 'unknown'\n",
    "\n",
    "df['employee_status'].value_counts() \n",
    "\n",
    "\n",
    "g = sns.factorplot(\"employee_status\", data=df, aspect=1.5, kind=\"count\", palette='Set3')\n",
    "g.set_xticklabels(rotation=45);"
   ]
  },
  {
   "cell_type": "markdown",
   "metadata": {},
   "source": [
    "#### Adressing Helpful\n",
    "\n",
    "Since most reviews are unrated in this category, I will be turning this into a binary to be used during feature engineering at a later point."
   ]
  },
  {
   "cell_type": "code",
   "execution_count": 13,
   "metadata": {},
   "outputs": [
    {
     "data": {
      "image/png": "[encoded data removed]",
      "text/plain": [
       "<Figure size 540x360 with 1 Axes>"
      ]
     },
     "metadata": {
      "needs_background": "light"
     },
     "output_type": "display_data"
    }
   ],
   "source": [
    "df['helpful'].loc[df['helpful'] != 0] = 1 \n",
    "df['helpful'] = df['helpful'].replace([0, 1], ['not_helpful','helpful']) \n",
    "\n",
    "df.helpful.value_counts() \n",
    "\n",
    "g = sns.factorplot(\"helpful\", data=df, aspect=1.5, kind=\"count\", palette='Set3');"
   ]
  },
  {
   "cell_type": "markdown",
   "metadata": {},
   "source": [
    "#### Adressing Recommends\n",
    "\n",
    "This column has been negatively affected by Glassdoor recent change in system and as result has entries that do not fit this column, they will be catagorized into unknown. "
   ]
  },
  {
   "cell_type": "code",
   "execution_count": 14,
   "metadata": {},
   "outputs": [
    {
     "data": {
      "text/plain": [
       "recommends            7817\n",
       "unknown_recommends    4746\n",
       "does_not_recommend    2363\n",
       "Name: recommends, dtype: int64"
      ]
     },
     "execution_count": 14,
     "metadata": {},
     "output_type": "execute_result"
    }
   ],
   "source": [
    "#Replaces names for consistency\n",
    "df['recommends'] = df['recommends'].replace(['Recommends', \"Doesn't Recommend\"],['recommends','does_not_recommend'])\n",
    "#Recatagorizes into unknown class\n",
    "df['recommends'] = df['recommends'].replace(['Approves of CEO', 'Positive Outlook', 'No opinion of CEO', 'Neutral Outlook', \n",
    "                                             'Disapproves of CEO', 'Negative Outlook'], 'unknown_recommends') \n",
    "\n",
    "\n",
    "df.recommends.value_counts() "
   ]
  },
  {
   "cell_type": "code",
   "execution_count": 15,
   "metadata": {},
   "outputs": [
    {
     "data": {
      "image/png": "[encoded data removed]",
      "text/plain": [
       "<Figure size 540x360 with 1 Axes>"
      ]
     },
     "metadata": {
      "needs_background": "light"
     },
     "output_type": "display_data"
    }
   ],
   "source": [
    "g = sns.factorplot(\"recommends\", data=df, aspect=1.5, kind=\"count\", palette='Set3')\n",
    "g.set_xticklabels(rotation=45);"
   ]
  },
  {
   "cell_type": "markdown",
   "metadata": {},
   "source": [
    "#### Adressing Positive_outlook and Approves_of_CEO\n",
    "\n",
    "These two columns only need to be renamed to match the rest of the data so I will clean them together."
   ]
  },
  {
   "cell_type": "code",
   "execution_count": 16,
   "metadata": {},
   "outputs": [],
   "source": [
    "#Renames values in positive outlook column\n",
    "df['company_outlook'] = df['positive_outlook'].replace(['Positive Outlook', \"Neutral Outlook\", \"Negative Outlook\"],\n",
    "                                                       ['positive_outlook','neutral_outlook', 'negative_outlook']) \n",
    "\n",
    "del df['positive_outlook'] #Drops the old  column \n",
    "\n",
    "#Renames values in positive outlook column\n",
    "df['opinion_of_CEO'] = df['approves_of_CEO'].replace(['Approves of CEO', \"No opinion of CEO\", \"Disapproves of CEO\"],\n",
    "                                                       ['approves_of_CEO','no_opinion_of_CEO', 'disapproves_of_CEO']) \n",
    "\n",
    "del df['approves_of_CEO'] #Drops the old  column "
   ]
  },
  {
   "cell_type": "code",
   "execution_count": 17,
   "metadata": {},
   "outputs": [
    {
     "data": {
      "text/plain": [
       "positive_outlook    6383\n",
       "outlook_unknown     5395\n",
       "neutral_outlook     1945\n",
       "negative_outlook    1203\n",
       "Name: company_outlook, dtype: int64"
      ]
     },
     "execution_count": 17,
     "metadata": {},
     "output_type": "execute_result"
    }
   ],
   "source": [
    "df['company_outlook'].value_counts()"
   ]
  },
  {
   "cell_type": "code",
   "execution_count": 18,
   "metadata": {},
   "outputs": [
    {
     "data": {
      "image/png": "[encoded data removed]",
      "text/plain": [
       "<Figure size 540x360 with 1 Axes>"
      ]
     },
     "metadata": {
      "needs_background": "light"
     },
     "output_type": "display_data"
    }
   ],
   "source": [
    "#Plots outlook\n",
    "g = sns.factorplot(\"company_outlook\", data=df, aspect=1.5, kind=\"count\", palette='Set3')\n",
    "g.set_xticklabels(rotation=45);"
   ]
  },
  {
   "cell_type": "code",
   "execution_count": 19,
   "metadata": {},
   "outputs": [
    {
     "data": {
      "image/png": "[encoded data removed]",
      "text/plain": [
       "<Figure size 540x360 with 1 Axes>"
      ]
     },
     "metadata": {
      "needs_background": "light"
     },
     "output_type": "display_data"
    }
   ],
   "source": [
    "#Plot opnion of CEO\n",
    "g = sns.factorplot(\"opinion_of_CEO\", data=df, aspect=1.5, kind=\"count\", palette='Set3')\n",
    "g.set_xticklabels(rotation=45);"
   ]
  },
  {
   "cell_type": "code",
   "execution_count": 20,
   "metadata": {},
   "outputs": [
    {
     "data": {
      "text/html": [
       "<div>\n",
       "<style scoped>\n",
       "    .dataframe tbody tr th:only-of-type {\n",
       "        vertical-align: middle;\n",
       "    }\n",
       "\n",
       "    .dataframe tbody tr th {\n",
       "        vertical-align: top;\n",
       "    }\n",
       "\n",
       "    .dataframe thead th {\n",
       "        text-align: right;\n",
       "    }\n",
       "</style>\n",
       "<table border=\"1\" class=\"dataframe\">\n",
       "  <thead>\n",
       "    <tr style=\"text-align: right;\">\n",
       "      <th></th>\n",
       "      <th>date</th>\n",
       "      <th>employee_title</th>\n",
       "      <th>employee_status</th>\n",
       "      <th>review_title</th>\n",
       "      <th>helpful</th>\n",
       "      <th>pros</th>\n",
       "      <th>cons</th>\n",
       "      <th>advice_to_mgmt</th>\n",
       "      <th>rating_overall</th>\n",
       "      <th>rating_balance</th>\n",
       "      <th>rating_culture</th>\n",
       "      <th>rating_career</th>\n",
       "      <th>rating_comp</th>\n",
       "      <th>rating_mgmt</th>\n",
       "      <th>recommends</th>\n",
       "      <th>company_name</th>\n",
       "      <th>label</th>\n",
       "      <th>area</th>\n",
       "      <th>company_outlook</th>\n",
       "      <th>opinion_of_CEO</th>\n",
       "    </tr>\n",
       "  </thead>\n",
       "  <tbody>\n",
       "    <tr>\n",
       "      <th>0</th>\n",
       "      <td>2021-02-26</td>\n",
       "      <td>title_known</td>\n",
       "      <td>current_employee</td>\n",
       "      <td>great</td>\n",
       "      <td>not_helpful</td>\n",
       "      <td>always room for improvement. everybody works t...</td>\n",
       "      <td>no cons i love my job\\nHelpfu</td>\n",
       "      <td>NaN</td>\n",
       "      <td>5.0</td>\n",
       "      <td>4.0</td>\n",
       "      <td>4.0</td>\n",
       "      <td>4.0</td>\n",
       "      <td>4.0</td>\n",
       "      <td>4.0</td>\n",
       "      <td>recommends</td>\n",
       "      <td>Amazon</td>\n",
       "      <td>positive</td>\n",
       "      <td>east_coast</td>\n",
       "      <td>positive_outlook</td>\n",
       "      <td>no_opinion_of_CEO</td>\n",
       "    </tr>\n",
       "    <tr>\n",
       "      <th>1</th>\n",
       "      <td>2016-01-10</td>\n",
       "      <td>title_known</td>\n",
       "      <td>current_employee</td>\n",
       "      <td>You Get What You Put In</td>\n",
       "      <td>helpful</td>\n",
       "      <td>Really smart people, a lot of opportunity for ...</td>\n",
       "      <td>You have to be self motivated. NO ONE will hol...</td>\n",
       "      <td>More on-boarding training before new employees...</td>\n",
       "      <td>5.0</td>\n",
       "      <td>4.0</td>\n",
       "      <td>5.0</td>\n",
       "      <td>5.0</td>\n",
       "      <td>5.0</td>\n",
       "      <td>5.0</td>\n",
       "      <td>recommends</td>\n",
       "      <td>Amazon</td>\n",
       "      <td>positive</td>\n",
       "      <td>west_coast</td>\n",
       "      <td>positive_outlook</td>\n",
       "      <td>approves_of_CEO</td>\n",
       "    </tr>\n",
       "    <tr>\n",
       "      <th>2</th>\n",
       "      <td>2016-02-20</td>\n",
       "      <td>title_known</td>\n",
       "      <td>current_employee</td>\n",
       "      <td>Exciting Work, Abusive Culture</td>\n",
       "      <td>helpful</td>\n",
       "      <td>Jeff Bezos and his \"S-Team\" are brilliant and ...</td>\n",
       "      <td>The management process is abusive, and I'm cur...</td>\n",
       "      <td>Don't pretend that the recent NY Times article...</td>\n",
       "      <td>3.0</td>\n",
       "      <td>3.0</td>\n",
       "      <td>3.0</td>\n",
       "      <td>3.0</td>\n",
       "      <td>4.0</td>\n",
       "      <td>4.0</td>\n",
       "      <td>does_not_recommend</td>\n",
       "      <td>Amazon</td>\n",
       "      <td>neutral</td>\n",
       "      <td>west_coast</td>\n",
       "      <td>positive_outlook</td>\n",
       "      <td>approves_of_CEO</td>\n",
       "    </tr>\n",
       "    <tr>\n",
       "      <th>3</th>\n",
       "      <td>2018-12-03</td>\n",
       "      <td>title_known</td>\n",
       "      <td>current_employee</td>\n",
       "      <td>Amazing company and the most driven and smarte...</td>\n",
       "      <td>helpful</td>\n",
       "      <td>- You can learn a lot very quickly in a very s...</td>\n",
       "      <td>- Can be overwhelming, very steep learning cur...</td>\n",
       "      <td>NaN</td>\n",
       "      <td>5.0</td>\n",
       "      <td>3.0</td>\n",
       "      <td>4.0</td>\n",
       "      <td>5.0</td>\n",
       "      <td>5.0</td>\n",
       "      <td>5.0</td>\n",
       "      <td>recommends</td>\n",
       "      <td>Amazon</td>\n",
       "      <td>positive</td>\n",
       "      <td>mountain</td>\n",
       "      <td>positive_outlook</td>\n",
       "      <td>approves_of_CEO</td>\n",
       "    </tr>\n",
       "    <tr>\n",
       "      <th>4</th>\n",
       "      <td>2018-02-23</td>\n",
       "      <td>title_known</td>\n",
       "      <td>current_employee</td>\n",
       "      <td>An Amazing Place to Work</td>\n",
       "      <td>helpful</td>\n",
       "      <td>I've been at Amazon for a month now, and I've ...</td>\n",
       "      <td>No cons, so far - seriously. Like I said, I'm ...</td>\n",
       "      <td>NaN</td>\n",
       "      <td>5.0</td>\n",
       "      <td>4.0</td>\n",
       "      <td>5.0</td>\n",
       "      <td>5.0</td>\n",
       "      <td>5.0</td>\n",
       "      <td>5.0</td>\n",
       "      <td>recommends</td>\n",
       "      <td>Amazon</td>\n",
       "      <td>positive</td>\n",
       "      <td>mountain</td>\n",
       "      <td>positive_outlook</td>\n",
       "      <td>approves_of_CEO</td>\n",
       "    </tr>\n",
       "  </tbody>\n",
       "</table>\n",
       "</div>"
      ],
      "text/plain": [
       "        date employee_title   employee_status  \\\n",
       "0 2021-02-26    title_known  current_employee   \n",
       "1 2016-01-10    title_known  current_employee   \n",
       "2 2016-02-20    title_known  current_employee   \n",
       "3 2018-12-03    title_known  current_employee   \n",
       "4 2018-02-23    title_known  current_employee   \n",
       "\n",
       "                                        review_title      helpful  \\\n",
       "0                                              great  not_helpful   \n",
       "1                            You Get What You Put In      helpful   \n",
       "2                     Exciting Work, Abusive Culture      helpful   \n",
       "3  Amazing company and the most driven and smarte...      helpful   \n",
       "4                           An Amazing Place to Work      helpful   \n",
       "\n",
       "                                                pros  \\\n",
       "0  always room for improvement. everybody works t...   \n",
       "1  Really smart people, a lot of opportunity for ...   \n",
       "2  Jeff Bezos and his \"S-Team\" are brilliant and ...   \n",
       "3  - You can learn a lot very quickly in a very s...   \n",
       "4  I've been at Amazon for a month now, and I've ...   \n",
       "\n",
       "                                                cons  \\\n",
       "0                      no cons i love my job\\nHelpfu   \n",
       "1  You have to be self motivated. NO ONE will hol...   \n",
       "2  The management process is abusive, and I'm cur...   \n",
       "3  - Can be overwhelming, very steep learning cur...   \n",
       "4  No cons, so far - seriously. Like I said, I'm ...   \n",
       "\n",
       "                                      advice_to_mgmt  rating_overall  \\\n",
       "0                                                NaN             5.0   \n",
       "1  More on-boarding training before new employees...             5.0   \n",
       "2  Don't pretend that the recent NY Times article...             3.0   \n",
       "3                                                NaN             5.0   \n",
       "4                                                NaN             5.0   \n",
       "\n",
       "   rating_balance  rating_culture  rating_career  rating_comp  rating_mgmt  \\\n",
       "0             4.0             4.0            4.0          4.0          4.0   \n",
       "1             4.0             5.0            5.0          5.0          5.0   \n",
       "2             3.0             3.0            3.0          4.0          4.0   \n",
       "3             3.0             4.0            5.0          5.0          5.0   \n",
       "4             4.0             5.0            5.0          5.0          5.0   \n",
       "\n",
       "           recommends company_name     label        area   company_outlook  \\\n",
       "0          recommends       Amazon  positive  east_coast  positive_outlook   \n",
       "1          recommends       Amazon  positive  west_coast  positive_outlook   \n",
       "2  does_not_recommend       Amazon   neutral  west_coast  positive_outlook   \n",
       "3          recommends       Amazon  positive    mountain  positive_outlook   \n",
       "4          recommends       Amazon  positive    mountain  positive_outlook   \n",
       "\n",
       "      opinion_of_CEO  \n",
       "0  no_opinion_of_CEO  \n",
       "1    approves_of_CEO  \n",
       "2    approves_of_CEO  \n",
       "3    approves_of_CEO  \n",
       "4    approves_of_CEO  "
      ]
     },
     "execution_count": 20,
     "metadata": {},
     "output_type": "execute_result"
    }
   ],
   "source": [
    "df.head()"
   ]
  },
  {
   "cell_type": "markdown",
   "metadata": {},
   "source": [
    "<a name=\"step4\"></a>\n",
    "### Step 4: Deal w/ Missing Continuous Values  \n",
    "\n",
    "While my target is not missing any values the other rating columns do contain missing values. For the purpose of the project I will choose to drop these columns as I suspect data leakage would occure otherwise."
   ]
  },
  {
   "cell_type": "code",
   "execution_count": 21,
   "metadata": {},
   "outputs": [
    {
     "data": {
      "image/png": "[encoded data removed]",
      "text/plain": [
       "<Figure size 720x432 with 2 Axes>"
      ]
     },
     "metadata": {
      "needs_background": "light"
     },
     "output_type": "display_data"
    }
   ],
   "source": [
    "# Looking for any hidden correlations between continuous variables\n",
    "\n",
    "fig, ax = plt.subplots(figsize=(10, 6))\n",
    "\n",
    "corr = df.corr()\n",
    "\n",
    "sns.heatmap(corr, center=0, annot=True)\n",
    "\n",
    "plt.show()"
   ]
  },
  {
   "cell_type": "code",
   "execution_count": 23,
   "metadata": {},
   "outputs": [
    {
     "data": {
      "text/plain": [
       "date                   0\n",
       "employee_title         0\n",
       "employee_status        0\n",
       "review_title          62\n",
       "helpful                0\n",
       "pros                 775\n",
       "cons                   1\n",
       "advice_to_mgmt     10379\n",
       "rating_overall         0\n",
       "rating_balance         0\n",
       "rating_culture         0\n",
       "rating_career          0\n",
       "rating_comp            0\n",
       "rating_mgmt            0\n",
       "recommends             0\n",
       "company_name           0\n",
       "label                  0\n",
       "area                   0\n",
       "company_outlook        0\n",
       "opinion_of_CEO         0\n",
       "dtype: int64"
      ]
     },
     "execution_count": 23,
     "metadata": {},
     "output_type": "execute_result"
    }
   ],
   "source": [
    "df.isna().sum()"
   ]
  },
  {
   "cell_type": "code",
   "execution_count": 32,
   "metadata": {},
   "outputs": [],
   "source": [
    "#Drops other ratings columns as well unneeded data, label, and company name columns\n",
    "df.drop(['date', 'rating_balance', 'rating_culture', 'rating_career', 'rating_comp', 'rating_mgmt', 'company_name', 'label'], axis = 1, inplace=True)"
   ]
  },
  {
   "cell_type": "markdown",
   "metadata": {},
   "source": [
    "<a name=\"step5\"></a>\n",
    "### Step 5: Convert All Categorical Features to Dummies \n",
    "\n",
    "In the modeling process I would like all of my categorical features to be dummies so I will be tranforming them here for that purpose."
   ]
  },
  {
   "cell_type": "code",
   "execution_count": 33,
   "metadata": {},
   "outputs": [
    {
     "data": {
      "text/plain": [
       "Index(['employee_title', 'employee_status', 'review_title', 'helpful', 'pros',\n",
       "       'cons', 'advice_to_mgmt', 'rating_overall', 'recommends', 'area',\n",
       "       'company_outlook', 'opinion_of_CEO'],\n",
       "      dtype='object')"
      ]
     },
     "execution_count": 33,
     "metadata": {},
     "output_type": "execute_result"
    }
   ],
   "source": [
    "df.keys()"
   ]
  },
  {
   "cell_type": "code",
   "execution_count": 38,
   "metadata": {},
   "outputs": [],
   "source": [
    "df = pd.get_dummies(data=df, columns=['employee_title', 'employee_status', 'helpful', 'recommends', 'area', 'company_outlook', \n",
    "                                 'opinion_of_CEO'])"
   ]
  },
  {
   "cell_type": "code",
   "execution_count": 39,
   "metadata": {},
   "outputs": [
    {
     "data": {
      "text/plain": [
       "Index(['review_title', 'pros', 'cons', 'advice_to_mgmt', 'rating_overall',\n",
       "       'employee_title_title_known', 'employee_title_title_unknown',\n",
       "       'employee_status_current_employee', 'employee_status_former_employee',\n",
       "       'employee_status_unknown_status', 'helpful_helpful',\n",
       "       'helpful_not_helpful', 'recommends_does_not_recommend',\n",
       "       'recommends_recommends', 'recommends_unknown_recommends',\n",
       "       'area_central', 'area_east_coast', 'area_mountain', 'area_outside_US',\n",
       "       'area_unknown', 'area_west_coast', 'company_outlook_negative_outlook',\n",
       "       'company_outlook_neutral_outlook', 'company_outlook_outlook_unknown',\n",
       "       'company_outlook_positive_outlook', 'opinion_of_CEO_approves_of_CEO',\n",
       "       'opinion_of_CEO_disapproves_of_CEO', 'opinion_of_CEO_no_opinion_of_CEO',\n",
       "       'opinion_of_CEO_unknown_opinion_of_CEO'],\n",
       "      dtype='object')"
      ]
     },
     "execution_count": 39,
     "metadata": {},
     "output_type": "execute_result"
    }
   ],
   "source": [
    "df.keys()"
   ]
  },
  {
   "cell_type": "markdown",
   "metadata": {},
   "source": [
    "<a name=\"step6\"></a>\n",
    "### Step 6: Save Dateframe"
   ]
  },
  {
   "cell_type": "code",
   "execution_count": 40,
   "metadata": {},
   "outputs": [],
   "source": [
    "import pickle \n",
    "\n",
    "df.to_pickle('df_processed.pickle') "
   ]
  },
  {
   "cell_type": "code",
   "execution_count": 42,
   "metadata": {},
   "outputs": [],
   "source": [
    "df.to_csv('df_processed_full.csv')"
   ]
  }
 ],
 "metadata": {
  "kernelspec": {
   "display_name": "learn-env",
   "language": "python",
   "name": "learn-env"
  },
  "language_info": {
   "codemirror_mode": {
    "name": "ipython",
    "version": 3
   },
   "file_extension": ".py",
   "mimetype": "text/x-python",
   "name": "python",
   "nbconvert_exporter": "python",
   "pygments_lexer": "ipython3",
   "version": "3.6.9"
  }
 },
 "nbformat": 4,
 "nbformat_minor": 4
}

{
 "cells": [
  {
   "cell_type": "markdown",
   "metadata": {},
   "source": [
    "# Modeling \n",
    "\n",
    "Having fully processed my data I am now ready to begin testing model to find the best move forward with for this data set. Based on previous experience I am choosing to test decision tree, KNN, random forest, and XGBoost "
   ]
  },
  {
   "cell_type": "markdown",
   "metadata": {},
   "source": [
    "### Table of Content\n",
    "\n",
    "1. [Load Packages](#part1) \n",
    "2. [Split, Vectorize, and Concat](#part2)\n",
    "3. [Model Testing](#part3)  \n",
    "    1.[Decision Tree](#part3a) \n",
    "    2.[Random Forest](#part3b) \n",
    "    3.[XGBoost](#part3c)\n",
    "    4.[KNN](#part3d) \n",
    "    5.[Light Gradient Boosted Machine (LightGBM)](#part3e)\n",
    "4. [Conclusion and Next Steps](#part4) \n"
   ]
  },
  {
   "cell_type": "markdown",
   "metadata": {},
   "source": [
    "<a name=\"part1\"></a>\n",
    "## Load Packages and Prepare Dataframe \n",
    "\n",
    "There are a few columns I will need to drop before train test split and I will do that here. "
   ]
  },
  {
   "cell_type": "code",
   "execution_count": 1,
   "metadata": {},
   "outputs": [],
   "source": [
    "#import packages\n",
    "import pandas as pd\n",
    "import numpy as np \n",
    "\n",
    "#Imports for plotting\n",
    "from ast import literal_eval \n",
    "import pickle\n",
    "import seaborn as sns\n",
    "import matplotlib.pyplot as plt   \n",
    "%matplotlib inline\n",
    "\n",
    "#options\n",
    "pd.options.mode.chained_assignment = None\n",
    "pd.set_option('display.max_colwidth', 100)\n",
    "pd.options.display.max_rows = 50\n",
    "import warnings\n",
    "warnings.filterwarnings('ignore') \n",
    "\n",
    "#NLP Packages\n",
    "import nltk\n",
    "from nltk.collocations import *\n",
    "from nltk.tokenize import word_tokenize\n",
    "from nltk.corpus import stopwords, wordnet\n",
    "from nltk.stem import WordNetLemmatizer \n",
    "from nltk.probability import FreqDist \n",
    "from nltk import RegexpTokenizer, PorterStemmer, pos_tag  \n",
    "from collections import Counter\n",
    "from sklearn.feature_extraction.text import CountVectorizer\n",
    "from sklearn.feature_extraction.text import TfidfVectorizer\n",
    "from sklearn.decomposition import LatentDirichletAllocation, NMF\n",
    "import string\n",
    "import re   \n",
    "from mpl_toolkits.mplot3d import Axes3D\n",
    "\n",
    "# sklearn\n",
    "from sklearn.feature_extraction.text import TfidfTransformer  \n",
    "from sklearn.ensemble import RandomForestClassifier\n",
    "from sklearn.preprocessing import StandardScaler\n",
    "from sklearn.model_selection import train_test_split, GridSearchCV, RandomizedSearchCV\n",
    "from sklearn.metrics import roc_curve, auc, accuracy_score, precision_score, f1_score, recall_score, confusion_matrix\n",
    "\n",
    "# xgboost\n",
    "from xgboost import XGBClassifier\n",
    "\n"
   ]
  },
  {
   "cell_type": "code",
   "execution_count": 2,
   "metadata": {},
   "outputs": [
    {
     "data": {
      "text/html": [
       "<div>\n",
       "<style scoped>\n",
       "    .dataframe tbody tr th:only-of-type {\n",
       "        vertical-align: middle;\n",
       "    }\n",
       "\n",
       "    .dataframe tbody tr th {\n",
       "        vertical-align: top;\n",
       "    }\n",
       "\n",
       "    .dataframe thead th {\n",
       "        text-align: right;\n",
       "    }\n",
       "</style>\n",
       "<table border=\"1\" class=\"dataframe\">\n",
       "  <thead>\n",
       "    <tr style=\"text-align: right;\">\n",
       "      <th></th>\n",
       "      <th>rating_overall</th>\n",
       "      <th>employee_title_title_known</th>\n",
       "      <th>employee_title_title_unknown</th>\n",
       "      <th>employee_status_current_employee</th>\n",
       "      <th>employee_status_former_employee</th>\n",
       "      <th>employee_status_unknown_status</th>\n",
       "      <th>helpful_helpful</th>\n",
       "      <th>helpful_not_helpful</th>\n",
       "      <th>recommends_does_not_recommend</th>\n",
       "      <th>recommends_recommends</th>\n",
       "      <th>...</th>\n",
       "      <th>adv</th>\n",
       "      <th>verb</th>\n",
       "      <th>characters</th>\n",
       "      <th>tokens</th>\n",
       "      <th>words</th>\n",
       "      <th>sentences</th>\n",
       "      <th>avg_word_len</th>\n",
       "      <th>avg_sent_len</th>\n",
       "      <th>stem_str</th>\n",
       "      <th>sentiment</th>\n",
       "    </tr>\n",
       "  </thead>\n",
       "  <tbody>\n",
       "    <tr>\n",
       "      <th>0</th>\n",
       "      <td>5.0</td>\n",
       "      <td>1</td>\n",
       "      <td>0</td>\n",
       "      <td>1</td>\n",
       "      <td>0</td>\n",
       "      <td>0</td>\n",
       "      <td>0</td>\n",
       "      <td>1</td>\n",
       "      <td>0</td>\n",
       "      <td>1</td>\n",
       "      <td>...</td>\n",
       "      <td>0.181818</td>\n",
       "      <td>0.181818</td>\n",
       "      <td>94</td>\n",
       "      <td>11</td>\n",
       "      <td>17</td>\n",
       "      <td>3</td>\n",
       "      <td>5.529412</td>\n",
       "      <td>5.666667</td>\n",
       "      <td>great alway room improv everybodi work togeth con love job helpfu</td>\n",
       "      <td>0.65</td>\n",
       "    </tr>\n",
       "  </tbody>\n",
       "</table>\n",
       "<p>1 rows × 42 columns</p>\n",
       "</div>"
      ],
      "text/plain": [
       "   rating_overall  employee_title_title_known  employee_title_title_unknown  \\\n",
       "0             5.0                           1                             0   \n",
       "\n",
       "   employee_status_current_employee  employee_status_former_employee  \\\n",
       "0                                 1                                0   \n",
       "\n",
       "   employee_status_unknown_status  helpful_helpful  helpful_not_helpful  \\\n",
       "0                               0                0                    1   \n",
       "\n",
       "   recommends_does_not_recommend  recommends_recommends  ...       adv  \\\n",
       "0                              0                      1  ...  0.181818   \n",
       "\n",
       "       verb  characters  tokens  words  sentences  avg_word_len  avg_sent_len  \\\n",
       "0  0.181818          94      11     17          3      5.529412      5.666667   \n",
       "\n",
       "                                                            stem_str  \\\n",
       "0  great alway room improv everybodi work togeth con love job helpfu   \n",
       "\n",
       "   sentiment  \n",
       "0       0.65  \n",
       "\n",
       "[1 rows x 42 columns]"
      ]
     },
     "execution_count": 2,
     "metadata": {},
     "output_type": "execute_result"
    }
   ],
   "source": [
    "#Load data\n",
    "df = pd.read_pickle('df_processed_full.pickle')\n",
    "\n",
    "#Preview dataset\n",
    "df.head(1)"
   ]
  },
  {
   "cell_type": "code",
   "execution_count": 3,
   "metadata": {},
   "outputs": [],
   "source": [
    "needed = ['rating_overall', 'employee_title_title_known','employee_title_title_unknown', 'employee_status_current_employee', \n",
    "          'employee_status_former_employee', 'employee_status_unknown_status', 'helpful_helpful', 'helpful_not_helpful','recommends_does_not_recommend',\n",
    "          'recommends_recommends','recommends_unknown_recommends', 'area_central', 'area_east_coast','area_mountain', 'area_outside_US', \n",
    "          'area_unknown', 'area_west_coast','company_outlook_negative_outlook', 'company_outlook_neutral_outlook',\n",
    "          'company_outlook_outlook_unknown', 'company_outlook_positive_outlook', 'opinion_of_CEO_approves_of_CEO', \n",
    "          'opinion_of_CEO_disapproves_of_CEO', 'opinion_of_CEO_no_opinion_of_CEO','opinion_of_CEO_unknown_opinion_of_CEO', \n",
    "           'noun', 'adj', 'adv', 'verb', 'characters','tokens', 'words', 'sentences', 'avg_word_len', 'avg_sent_len', 'stem_str', 'sentiment']\n",
    "\n",
    "dfa = df[needed] "
   ]
  },
  {
   "cell_type": "markdown",
   "metadata": {},
   "source": [
    "<a name=\"part2\"></a>\n",
    "## Split, Vectorize, and Concat \n",
    "\n",
    "Now my data is ready to split into testing and training sets, vectorize the text column, and concat it back with the rest of the data set."
   ]
  },
  {
   "cell_type": "code",
   "execution_count": 4,
   "metadata": {},
   "outputs": [],
   "source": [
    "# Seperate target from features \n",
    "X = dfa.drop(columns=['rating_overall'])\n",
    "y = df['rating_overall']\n",
    "\n",
    "# Splitting data into testing and traning sets:\n",
    "X_train, X_test, y_train, y_test = train_test_split(X, y, test_size=0.80, random_state=21)"
   ]
  },
  {
   "cell_type": "code",
   "execution_count": 5,
   "metadata": {},
   "outputs": [
    {
     "name": "stdout",
     "output_type": "stream",
     "text": [
      "(2985, 36)\n",
      "(11941, 36)\n"
     ]
    }
   ],
   "source": [
    "#Check the shae\n",
    "print(X_train.shape) \n",
    "print(X_test.shape)"
   ]
  },
  {
   "cell_type": "code",
   "execution_count": 6,
   "metadata": {},
   "outputs": [],
   "source": [
    "#Set up TFIDF Vectorizer using bigrams and trigrams\n",
    "vectorizer = TfidfVectorizer(ngram_range=(2, 3),  # include uni and 3-rams only\n",
    "                            max_df=.999, min_df=.0025) "
   ]
  },
  {
   "cell_type": "code",
   "execution_count": 7,
   "metadata": {},
   "outputs": [],
   "source": [
    "#Apply Vectorizer\n",
    "tfidf_data_train = vectorizer.fit_transform(X_train['stem_str'])\n",
    "tfidf_data_test = vectorizer.transform(X_test['stem_str'])"
   ]
  },
  {
   "cell_type": "code",
   "execution_count": 8,
   "metadata": {},
   "outputs": [
    {
     "name": "stdout",
     "output_type": "stream",
     "text": [
      "(2985, 981)\n",
      "(11941, 981)\n"
     ]
    }
   ],
   "source": [
    "print(tfidf_data_train.shape) \n",
    "print(tfidf_data_test.shape)"
   ]
  },
  {
   "cell_type": "code",
   "execution_count": 9,
   "metadata": {},
   "outputs": [],
   "source": [
    "#Drop original text columns\n",
    "X_train = X_train.drop(columns=['stem_str'])\n",
    "X_test = X_test.drop(columns=['stem_str'])"
   ]
  },
  {
   "cell_type": "code",
   "execution_count": 10,
   "metadata": {},
   "outputs": [
    {
     "name": "stdout",
     "output_type": "stream",
     "text": [
      "Average Number of Non-Zero Elements in Vectorized Articles: 6.588274706867671\n",
      "Percentage of columns containing 0: 0.9932841236423368\n"
     ]
    }
   ],
   "source": [
    "#Check number of zero columns and percent\n",
    "non_zero_cols = tfidf_data_train.nnz / float(tfidf_data_train.shape[0])\n",
    "print(\"Average Number of Non-Zero Elements in Vectorized Articles: {}\".format(non_zero_cols))\n",
    "\n",
    "percent_sparse = 1 - (non_zero_cols / float(tfidf_data_train.shape[1]))\n",
    "print('Percentage of columns containing 0: {}'.format(percent_sparse))"
   ]
  },
  {
   "cell_type": "code",
   "execution_count": 11,
   "metadata": {},
   "outputs": [],
   "source": [
    "# Convert tfidf to array and concatenate train and test sets\n",
    "X_train = pd.concat([pd.DataFrame(tfidf_data_train.toarray()), X_train.reset_index()], axis = 1)\n",
    "X_test = pd.concat([pd.DataFrame(tfidf_data_test.toarray()), X_test.reset_index()], axis = 1)"
   ]
  },
  {
   "cell_type": "markdown",
   "metadata": {},
   "source": [
    "<a name=\"part3\"></a>\n",
    "## Model Testing \n",
    "\n",
    "Below I will run decision tree, random forest, xgboost, and knn to see which one gives the best results for my data before moving on to tuning that model."
   ]
  },
  {
   "cell_type": "markdown",
   "metadata": {},
   "source": [
    "<a name=\"part3a\"></a>\n",
    "### Decision Tree"
   ]
  },
  {
   "cell_type": "code",
   "execution_count": 12,
   "metadata": {},
   "outputs": [],
   "source": [
    "#Import packages\n",
    "from sklearn.tree import DecisionTreeClassifier"
   ]
  },
  {
   "cell_type": "code",
   "execution_count": 13,
   "metadata": {},
   "outputs": [
    {
     "data": {
      "text/plain": [
       "DecisionTreeClassifier(ccp_alpha=0.0, class_weight=None, criterion='entropy',\n",
       "                       max_depth=None, max_features=None, max_leaf_nodes=None,\n",
       "                       min_impurity_decrease=0.0, min_impurity_split=None,\n",
       "                       min_samples_leaf=1, min_samples_split=2,\n",
       "                       min_weight_fraction_leaf=0.0, presort='deprecated',\n",
       "                       random_state=23, splitter='best')"
      ]
     },
     "execution_count": 13,
     "metadata": {},
     "output_type": "execute_result"
    }
   ],
   "source": [
    "#Instantiate Decision tree model\n",
    "clf = DecisionTreeClassifier(criterion='entropy', random_state=23)\n",
    "#Fit the model to data\n",
    "clf.fit(X_train, y_train) "
   ]
  },
  {
   "cell_type": "code",
   "execution_count": 14,
   "metadata": {},
   "outputs": [],
   "source": [
    "#Run Test Predictions\n",
    "dt_test_preds = clf.predict(X_test)"
   ]
  },
  {
   "cell_type": "code",
   "execution_count": 15,
   "metadata": {},
   "outputs": [
    {
     "data": {
      "image/png": "[encoded data removed]",
      "text/plain": [
       "<Figure size 432x288 with 2 Axes>"
      ]
     },
     "metadata": {
      "needs_background": "light"
     },
     "output_type": "display_data"
    }
   ],
   "source": [
    "#Get the confusion matrix\n",
    "cf_matrix = confusion_matrix(y_test, dt_test_preds)\n",
    "\n",
    "sns.heatmap(cf_matrix/np.sum(cf_matrix), annot=True, \n",
    "            fmt='.2%', cmap='Blues') \n",
    "plt.show()"
   ]
  },
  {
   "cell_type": "code",
   "execution_count": 16,
   "metadata": {},
   "outputs": [
    {
     "name": "stdout",
     "output_type": "stream",
     "text": [
      "Decision Tree:\n",
      "---------------\n",
      "Recall: 0.5013\n",
      "Testing Accuracy: 0.5013\n",
      "F1 Score: 0.4999\n"
     ]
    }
   ],
   "source": [
    "#Run Metrics\n",
    "rf_recall = recall_score(y_test, dt_test_preds, average='weighted')\n",
    "rf_acc_score = accuracy_score(y_test, dt_test_preds)\n",
    "rf_f1_score = f1_score(y_test, dt_test_preds, average='weighted')\n",
    "print('Decision Tree:')\n",
    "print(3*'-----')\n",
    "\n",
    "print('Recall: {:.4}'.format(rf_recall))\n",
    "print(\"Testing Accuracy: {:.4}\".format(rf_acc_score))\n",
    "print(\"F1 Score: {:.4}\".format(rf_f1_score))"
   ]
  },
  {
   "cell_type": "markdown",
   "metadata": {},
   "source": [
    "<a name=\"part3b\"></a>\n",
    "### Random Forest"
   ]
  },
  {
   "cell_type": "code",
   "execution_count": 17,
   "metadata": {},
   "outputs": [
    {
     "data": {
      "text/plain": [
       "RandomForestClassifier(bootstrap=True, ccp_alpha=0.0, class_weight=None,\n",
       "                       criterion='gini', max_depth=None, max_features='auto',\n",
       "                       max_leaf_nodes=None, max_samples=None,\n",
       "                       min_impurity_decrease=0.0, min_impurity_split=None,\n",
       "                       min_samples_leaf=1, min_samples_split=2,\n",
       "                       min_weight_fraction_leaf=0.0, n_estimators=100,\n",
       "                       n_jobs=None, oob_score=False, random_state=23, verbose=0,\n",
       "                       warm_start=False)"
      ]
     },
     "execution_count": 17,
     "metadata": {},
     "output_type": "execute_result"
    }
   ],
   "source": [
    "#Initialize Classifier \n",
    "rf_classifier = RandomForestClassifier(n_estimators=100, random_state=23)\n",
    "#Fit Classifier to Data\n",
    "rf_classifier.fit(X_train, y_train)"
   ]
  },
  {
   "cell_type": "code",
   "execution_count": 18,
   "metadata": {},
   "outputs": [],
   "source": [
    "#Run Test Predictions\n",
    "rf_test_preds = rf_classifier.predict(X_test)"
   ]
  },
  {
   "cell_type": "code",
   "execution_count": 19,
   "metadata": {},
   "outputs": [
    {
     "data": {
      "image/png": "[encoded data removed]",
      "text/plain": [
       "<Figure size 432x288 with 2 Axes>"
      ]
     },
     "metadata": {
      "needs_background": "light"
     },
     "output_type": "display_data"
    }
   ],
   "source": [
    "#Get the confusion matrix\n",
    "cf_matrix = confusion_matrix(y_test, rf_test_preds)\n",
    "\n",
    "sns.heatmap(cf_matrix/np.sum(cf_matrix), annot=True, \n",
    "            fmt='.2%', cmap='Blues') \n",
    "plt.show()"
   ]
  },
  {
   "cell_type": "code",
   "execution_count": 20,
   "metadata": {},
   "outputs": [
    {
     "name": "stdout",
     "output_type": "stream",
     "text": [
      "Random Forest with Stematized Features:\n",
      "---------------\n",
      "Recall: 0.5817\n",
      "Testing Accuracy: 0.5817\n",
      "F1 Score: 0.558\n"
     ]
    }
   ],
   "source": [
    "#Run Metrics\n",
    "rf_recall = recall_score(y_test, rf_test_preds, average='weighted')\n",
    "rf_acc_score = accuracy_score(y_test, rf_test_preds)\n",
    "rf_f1_score = f1_score(y_test, rf_test_preds, average='weighted')\n",
    "print('Random Forest with Stematized Features:')\n",
    "print(3*'-----')\n",
    "\n",
    "print('Recall: {:.4}'.format(rf_recall))\n",
    "print(\"Testing Accuracy: {:.4}\".format(rf_acc_score))\n",
    "print(\"F1 Score: {:.4}\".format(rf_f1_score))"
   ]
  },
  {
   "cell_type": "markdown",
   "metadata": {},
   "source": [
    "<a name=\"part3c\"></a>\n",
    "### XGBoost"
   ]
  },
  {
   "cell_type": "code",
   "execution_count": 21,
   "metadata": {},
   "outputs": [
    {
     "data": {
      "text/plain": [
       "XGBClassifier(base_score=0.5, booster='gbtree', colsample_bylevel=1,\n",
       "              colsample_bynode=1, colsample_bytree=1, gamma=0,\n",
       "              learning_rate=0.1, max_delta_step=0, max_depth=3,\n",
       "              min_child_weight=1, missing=None, n_estimators=100, n_jobs=1,\n",
       "              nthread=None, objective='multi:softprob', random_state=23,\n",
       "              reg_alpha=0, reg_lambda=1, scale_pos_weight=1, seed=None,\n",
       "              silent=None, subsample=1, verbosity=1)"
      ]
     },
     "execution_count": 21,
     "metadata": {},
     "output_type": "execute_result"
    }
   ],
   "source": [
    "#Instantiate Model\n",
    "xgb = XGBClassifier(random_state=23)\n",
    "#Fit model to the data\n",
    "xgb.fit(X_train, y_train)"
   ]
  },
  {
   "cell_type": "code",
   "execution_count": 22,
   "metadata": {},
   "outputs": [],
   "source": [
    "#Run predictions\n",
    "xgb_test_preds = xgb.predict(X_test)"
   ]
  },
  {
   "cell_type": "code",
   "execution_count": 23,
   "metadata": {},
   "outputs": [
    {
     "data": {
      "image/png": "[encoded data removed]",
      "text/plain": [
       "<Figure size 432x288 with 2 Axes>"
      ]
     },
     "metadata": {
      "needs_background": "light"
     },
     "output_type": "display_data"
    }
   ],
   "source": [
    "#Get the confusion matrix\n",
    "cf_matrix = confusion_matrix(y_test, rf_test_preds)\n",
    "\n",
    "sns.heatmap(cf_matrix/np.sum(cf_matrix), annot=True, \n",
    "            fmt='.2%', cmap='Blues') \n",
    "plt.show()"
   ]
  },
  {
   "cell_type": "code",
   "execution_count": 24,
   "metadata": {},
   "outputs": [
    {
     "name": "stdout",
     "output_type": "stream",
     "text": [
      "XGBOOST:\n",
      "---------------\n",
      "Recall: 0.5856\n",
      "Testing Accuracy: 0.5856\n",
      "F1 Score: 0.5674\n"
     ]
    }
   ],
   "source": [
    "#Run metrics\n",
    "xgb_recall = recall_score(y_test, xgb_test_preds, average='weighted')\n",
    "xgb_acc_score = accuracy_score(y_test, xgb_test_preds)\n",
    "xgb_f1_score = f1_score(y_test, xgb_test_preds, average='weighted')\n",
    "\n",
    "print('XGBOOST:')\n",
    "print(3*'-----')\n",
    "\n",
    "print('Recall: {:.4}'.format(xgb_recall))\n",
    "\n",
    "print(\"Testing Accuracy: {:.4}\".format(xgb_acc_score))\n",
    "print(\"F1 Score: {:.4}\".format(xgb_f1_score))"
   ]
  },
  {
   "cell_type": "markdown",
   "metadata": {},
   "source": [
    "<a name=\"part3d\"></a>\n",
    "### KNN "
   ]
  },
  {
   "cell_type": "code",
   "execution_count": 25,
   "metadata": {},
   "outputs": [],
   "source": [
    "from sklearn.neighbors import KNeighborsClassifier \n",
    "\n",
    "#Scale X_train and X_test for knn\n",
    "scaler = StandardScaler()\n",
    "scaled_X_train = scaler.fit_transform(X_train)\n",
    "scaled_X_test = scaler.transform(X_test)"
   ]
  },
  {
   "cell_type": "code",
   "execution_count": 26,
   "metadata": {},
   "outputs": [],
   "source": [
    "# Instantiate KNeighborsClassifier\n",
    "clf = KNeighborsClassifier()\n",
    "\n",
    "# Fit the classifier\n",
    "clf.fit(scaled_X_train, y_train)\n",
    "\n",
    "# Predict on the test set\n",
    "knn_preds = clf.predict(scaled_X_test)"
   ]
  },
  {
   "cell_type": "code",
   "execution_count": 27,
   "metadata": {},
   "outputs": [
    {
     "data": {
      "image/png": "[encoded data removed]",
      "text/plain": [
       "<Figure size 432x288 with 2 Axes>"
      ]
     },
     "metadata": {
      "needs_background": "light"
     },
     "output_type": "display_data"
    }
   ],
   "source": [
    "#Get the confusion matrix\n",
    "cf_matrix = confusion_matrix(y_test, knn_preds)\n",
    "\n",
    "sns.heatmap(cf_matrix/np.sum(cf_matrix), annot=True, \n",
    "            fmt='.2%', cmap='Blues') \n",
    "plt.show()"
   ]
  },
  {
   "cell_type": "code",
   "execution_count": 28,
   "metadata": {},
   "outputs": [
    {
     "name": "stdout",
     "output_type": "stream",
     "text": [
      "KNN:\n",
      "---------------\n",
      "Recall: 0.4477\n",
      "Testing Accuracy: 0.4477\n",
      "F1 Score: 0.4392\n"
     ]
    }
   ],
   "source": [
    "#Run metrics\n",
    "xgb_recall = recall_score(y_test, knn_preds, average='weighted')\n",
    "xgb_acc_score = accuracy_score(y_test, knn_preds)\n",
    "xgb_f1_score = f1_score(y_test, knn_preds, average='weighted')\n",
    "\n",
    "print('KNN:')\n",
    "print(3*'-----')\n",
    "\n",
    "print('Recall: {:.4}'.format(xgb_recall))\n",
    "\n",
    "print(\"Testing Accuracy: {:.4}\".format(xgb_acc_score))\n",
    "print(\"F1 Score: {:.4}\".format(xgb_f1_score))"
   ]
  },
  {
   "cell_type": "markdown",
   "metadata": {},
   "source": [
    "<a name=\"part3e\"></a>\n",
    "### Light Gradient Boosted Machine (LightGBM) "
   ]
  },
  {
   "cell_type": "code",
   "execution_count": 36,
   "metadata": {},
   "outputs": [
    {
     "data": {
      "text/plain": [
       "LGBMClassifier(boosting_type='gbdt', class_weight=None, colsample_bytree=1.0,\n",
       "               importance_type='split', learning_rate=0.1, max_depth=-1,\n",
       "               min_child_samples=20, min_child_weight=0.001, min_split_gain=0.0,\n",
       "               n_estimators=100, n_jobs=-1, num_leaves=31, objective=None,\n",
       "               random_state=66, reg_alpha=0.0, reg_lambda=0.0, silent=True,\n",
       "               subsample=1.0, subsample_for_bin=200000, subsample_freq=0)"
      ]
     },
     "execution_count": 36,
     "metadata": {},
     "output_type": "execute_result"
    }
   ],
   "source": [
    "#Import Light GBM\n",
    "from lightgbm import LGBMClassifier\n",
    "\n",
    "# define the model\n",
    "lgbm = LGBMClassifier(random_state=66)\n",
    "\n",
    "#Fit model to the data\n",
    "lgbm.fit(X_train, y_train)"
   ]
  },
  {
   "cell_type": "code",
   "execution_count": 37,
   "metadata": {},
   "outputs": [],
   "source": [
    "#Run predictions\n",
    "lgm_test_preds = lgbm.predict(X_test)"
   ]
  },
  {
   "cell_type": "code",
   "execution_count": 38,
   "metadata": {},
   "outputs": [
    {
     "data": {
      "image/png": "[encoded data removed]",
      "text/plain": [
       "<Figure size 432x288 with 2 Axes>"
      ]
     },
     "metadata": {
      "needs_background": "light"
     },
     "output_type": "display_data"
    }
   ],
   "source": [
    "#Get the confusion matrix\n",
    "cf_matrix = confusion_matrix(y_test, knn_preds)\n",
    "\n",
    "sns.heatmap(cf_matrix/np.sum(cf_matrix), annot=True, \n",
    "            fmt='.2%', cmap='Blues') \n",
    "plt.show()"
   ]
  },
  {
   "cell_type": "code",
   "execution_count": 39,
   "metadata": {},
   "outputs": [
    {
     "name": "stdout",
     "output_type": "stream",
     "text": [
      "LGBM:\n",
      "---------------\n",
      "Recall: 0.581\n",
      "Testing Accuracy: 0.581\n",
      "F1 Score: 0.5719\n"
     ]
    }
   ],
   "source": [
    "#Run metrics\n",
    "xgb_recall = recall_score(y_test, lgm_test_preds, average='weighted')\n",
    "xgb_acc_score = accuracy_score(y_test, lgm_test_preds)\n",
    "xgb_f1_score = f1_score(y_test, lgm_test_preds, average='weighted')\n",
    "\n",
    "print('LGBM:')\n",
    "print(3*'-----')\n",
    "\n",
    "print('Recall: {:.4}'.format(xgb_recall))\n",
    "\n",
    "print(\"Testing Accuracy: {:.4}\".format(xgb_acc_score))\n",
    "print(\"F1 Score: {:.4}\".format(xgb_f1_score))"
   ]
  },
  {
   "cell_type": "markdown",
   "metadata": {},
   "source": [
    "<a name=\"part4\"></a>\n",
    "### Conclusion \n",
    "\n",
    "In the end my best model was XGBoost with 59% accuracy. This indicates it was able to accurately classfy reviews 59% percent of the time. This indicates that machine learning could be a better way to score company reviews and this the overall company rating versus relying on a self reported score. For my next steps I will try to improve on my two best models using grid search to see if I can improve accuracy scores. "
   ]
  }
 ],
 "metadata": {
  "kernelspec": {
   "display_name": "learn-env",
   "language": "python",
   "name": "learn-env"
  },
  "language_info": {
   "codemirror_mode": {
    "name": "ipython",
    "version": 3
   },
   "file_extension": ".py",
   "mimetype": "text/x-python",
   "name": "python",
   "nbconvert_exporter": "python",
   "pygments_lexer": "ipython3",
   "version": "3.6.9"
  }
 },
 "nbformat": 4,
 "nbformat_minor": 4
}

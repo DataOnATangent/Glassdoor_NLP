{
 "cells": [
  {
   "cell_type": "markdown",
   "metadata": {},
   "source": [
    "# Modeling \n",
    "\n",
    "Having fully processed my data I am now ready to begin testing model to find the best move forward with for this data set. Based on previous experience I am choosing to test decision tree, KNN, random forest, and XGBoost "
   ]
  },
  {
   "cell_type": "markdown",
   "metadata": {},
   "source": [
    "### Table of Content\n",
    "\n",
    "1. [Load Packages](#part1) \n",
    "2. [Split, Vectorize, and Concat](#part2)\n",
    "3. [Model Testing](#part3)  \n",
    "    1.[Decision Tree](#part3a) \n",
    "    2.[Random Forest](#part3b) \n",
    "    3.[XGBoost](#part3c)\n",
    "    4.[KNN](#part3d) \n",
    "    5.[Light Gradient Boosted Machine (LightGBM)](#part3e)\n",
    "4. [Conclusion and Next Steps](#part4) \n"
   ]
  },
  {
   "cell_type": "markdown",
   "metadata": {},
   "source": [
    "<a name=\"part1\"></a>\n",
    "## Load Packages and Prepare Dataframe \n",
    "\n",
    "There are a few columns I will need to drop before train test split and I will do that here. "
   ]
  },
  {
   "cell_type": "code",
   "execution_count": 55,
   "metadata": {},
   "outputs": [],
   "source": [
    "#import packages\n",
    "import pandas as pd\n",
    "import numpy as np \n",
    "\n",
    "#Imports for plotting\n",
    "from ast import literal_eval \n",
    "import pickle\n",
    "import seaborn as sns\n",
    "import matplotlib.pyplot as plt   \n",
    "%matplotlib inline\n",
    "\n",
    "#options\n",
    "pd.options.mode.chained_assignment = None\n",
    "pd.set_option('display.max_colwidth', 100)\n",
    "pd.options.display.max_rows = 50\n",
    "import warnings\n",
    "warnings.filterwarnings('ignore') \n",
    "\n",
    "#NLP Packages\n",
    "import nltk\n",
    "from nltk.collocations import *\n",
    "from nltk.tokenize import word_tokenize\n",
    "from nltk.corpus import stopwords, wordnet\n",
    "from nltk.stem import WordNetLemmatizer \n",
    "from nltk.probability import FreqDist \n",
    "from nltk import RegexpTokenizer, PorterStemmer, pos_tag  \n",
    "from collections import Counter\n",
    "from sklearn.feature_extraction.text import CountVectorizer\n",
    "from sklearn.feature_extraction.text import TfidfVectorizer\n",
    "from sklearn.decomposition import LatentDirichletAllocation, NMF\n",
    "import string\n",
    "import re   \n",
    "from mpl_toolkits.mplot3d import Axes3D\n",
    "\n",
    "# sklearn\n",
    "from sklearn.feature_extraction.text import TfidfTransformer  \n",
    "from sklearn.ensemble import RandomForestClassifier\n",
    "from sklearn.preprocessing import StandardScaler\n",
    "from sklearn.model_selection import train_test_split, GridSearchCV, RandomizedSearchCV\n",
    "from sklearn.metrics import roc_curve, auc, accuracy_score, precision_score, f1_score, recall_score, confusion_matrix\n",
    "\n",
    "# xgboost\n",
    "from xgboost import XGBClassifier\n",
    "\n"
   ]
  },
  {
   "cell_type": "code",
   "execution_count": 56,
   "metadata": {},
   "outputs": [
    {
     "data": {
      "text/html": [
       "<div>\n",
       "<style scoped>\n",
       "    .dataframe tbody tr th:only-of-type {\n",
       "        vertical-align: middle;\n",
       "    }\n",
       "\n",
       "    .dataframe tbody tr th {\n",
       "        vertical-align: top;\n",
       "    }\n",
       "\n",
       "    .dataframe thead th {\n",
       "        text-align: right;\n",
       "    }\n",
       "</style>\n",
       "<table border=\"1\" class=\"dataframe\">\n",
       "  <thead>\n",
       "    <tr style=\"text-align: right;\">\n",
       "      <th></th>\n",
       "      <th>rating_overall</th>\n",
       "      <th>employee_title_title_known</th>\n",
       "      <th>employee_title_title_unknown</th>\n",
       "      <th>employee_status_current_employee</th>\n",
       "      <th>employee_status_former_employee</th>\n",
       "      <th>employee_status_unknown_status</th>\n",
       "      <th>helpful_helpful</th>\n",
       "      <th>helpful_not_helpful</th>\n",
       "      <th>recommends_does_not_recommend</th>\n",
       "      <th>recommends_recommends</th>\n",
       "      <th>...</th>\n",
       "      <th>adv</th>\n",
       "      <th>verb</th>\n",
       "      <th>characters</th>\n",
       "      <th>tokens</th>\n",
       "      <th>words</th>\n",
       "      <th>sentences</th>\n",
       "      <th>avg_word_len</th>\n",
       "      <th>avg_sent_len</th>\n",
       "      <th>stem_str</th>\n",
       "      <th>sentiment</th>\n",
       "    </tr>\n",
       "  </thead>\n",
       "  <tbody>\n",
       "    <tr>\n",
       "      <th>0</th>\n",
       "      <td>5.0</td>\n",
       "      <td>1</td>\n",
       "      <td>0</td>\n",
       "      <td>1</td>\n",
       "      <td>0</td>\n",
       "      <td>0</td>\n",
       "      <td>0</td>\n",
       "      <td>1</td>\n",
       "      <td>0</td>\n",
       "      <td>1</td>\n",
       "      <td>...</td>\n",
       "      <td>0.181818</td>\n",
       "      <td>0.181818</td>\n",
       "      <td>94</td>\n",
       "      <td>11</td>\n",
       "      <td>17</td>\n",
       "      <td>3</td>\n",
       "      <td>5.529412</td>\n",
       "      <td>5.666667</td>\n",
       "      <td>great alway room improv everybodi work togeth con love job helpfu</td>\n",
       "      <td>0.65</td>\n",
       "    </tr>\n",
       "  </tbody>\n",
       "</table>\n",
       "<p>1 rows × 42 columns</p>\n",
       "</div>"
      ],
      "text/plain": [
       "   rating_overall  employee_title_title_known  employee_title_title_unknown  \\\n",
       "0             5.0                           1                             0   \n",
       "\n",
       "   employee_status_current_employee  employee_status_former_employee  \\\n",
       "0                                 1                                0   \n",
       "\n",
       "   employee_status_unknown_status  helpful_helpful  helpful_not_helpful  \\\n",
       "0                               0                0                    1   \n",
       "\n",
       "   recommends_does_not_recommend  recommends_recommends  ...       adv  \\\n",
       "0                              0                      1  ...  0.181818   \n",
       "\n",
       "       verb  characters  tokens  words  sentences  avg_word_len  avg_sent_len  \\\n",
       "0  0.181818          94      11     17          3      5.529412      5.666667   \n",
       "\n",
       "                                                            stem_str  \\\n",
       "0  great alway room improv everybodi work togeth con love job helpfu   \n",
       "\n",
       "   sentiment  \n",
       "0       0.65  \n",
       "\n",
       "[1 rows x 42 columns]"
      ]
     },
     "execution_count": 56,
     "metadata": {},
     "output_type": "execute_result"
    }
   ],
   "source": [
    "#Load data\n",
    "df = pd.read_pickle('df_processed_full.pickle')\n",
    "\n",
    "#Preview dataset\n",
    "df.head(1)"
   ]
  },
  {
   "cell_type": "code",
   "execution_count": 57,
   "metadata": {},
   "outputs": [],
   "source": [
    "needed = ['rating_overall', 'employee_title_title_known','employee_title_title_unknown', 'employee_status_current_employee', \n",
    "          'employee_status_former_employee', 'employee_status_unknown_status', 'helpful_helpful', 'helpful_not_helpful','recommends_does_not_recommend',\n",
    "          'recommends_recommends','recommends_unknown_recommends', 'area_central', 'area_east_coast','area_mountain', 'area_outside_US', \n",
    "          'area_unknown', 'area_west_coast','company_outlook_negative_outlook', 'company_outlook_neutral_outlook',\n",
    "          'company_outlook_outlook_unknown', 'company_outlook_positive_outlook', 'opinion_of_CEO_approves_of_CEO', \n",
    "          'opinion_of_CEO_disapproves_of_CEO', 'opinion_of_CEO_no_opinion_of_CEO','opinion_of_CEO_unknown_opinion_of_CEO', \n",
    "           'noun', 'adj', 'adv', 'verb', 'characters','tokens', 'words', 'sentences', 'avg_word_len', 'avg_sent_len', 'stem_str', 'sentiment']\n",
    "\n",
    "dfa = df[needed] "
   ]
  },
  {
   "cell_type": "markdown",
   "metadata": {},
   "source": [
    "<a name=\"part2\"></a>\n",
    "## Split, Vectorize, and Concat \n",
    "\n",
    "Now my data is ready to split into testing and training sets, vectorize the text column, and concat it back with the rest of the data set."
   ]
  },
  {
   "cell_type": "code",
   "execution_count": 58,
   "metadata": {},
   "outputs": [],
   "source": [
    "# Seperate target from features \n",
    "X = dfa.drop(columns=['rating_overall'])\n",
    "y = dfa['rating_overall'] \n",
    "\n",
    "\n",
    "# Splitting data into testing and traning sets:\n",
    "X_train, X_test, y_train, y_test = train_test_split(X, y, test_size=0.80, random_state=21)"
   ]
  },
  {
   "cell_type": "code",
   "execution_count": 59,
   "metadata": {},
   "outputs": [
    {
     "name": "stdout",
     "output_type": "stream",
     "text": [
      "(2985, 36)\n",
      "(11941, 36)\n"
     ]
    }
   ],
   "source": [
    "#Check the shae\n",
    "print(X_train.shape) \n",
    "print(X_test.shape)"
   ]
  },
  {
   "cell_type": "code",
   "execution_count": 66,
   "metadata": {},
   "outputs": [],
   "source": [
    "#Set up TFIDF Vectorizer using bigrams and trigrams\n",
    "vectorizer = TfidfVectorizer(ngram_range=(2, 3),  # include uni and 3-rams only\n",
    "                            max_df=.999, min_df=.007) "
   ]
  },
  {
   "cell_type": "code",
   "execution_count": 67,
   "metadata": {},
   "outputs": [],
   "source": [
    "#Apply Vectorizer\n",
    "tfidf_data_train = vectorizer.fit_transform(X_train['stem_str'])\n",
    "tfidf_data_test = vectorizer.transform(X_test['stem_str'])"
   ]
  },
  {
   "cell_type": "code",
   "execution_count": 68,
   "metadata": {},
   "outputs": [
    {
     "name": "stdout",
     "output_type": "stream",
     "text": [
      "(2985, 233)\n",
      "(11941, 233)\n"
     ]
    }
   ],
   "source": [
    "print(tfidf_data_train.shape) \n",
    "print(tfidf_data_test.shape)"
   ]
  },
  {
   "cell_type": "code",
   "execution_count": 69,
   "metadata": {},
   "outputs": [],
   "source": [
    "#Drop original text columns\n",
    "X_train = X_train.drop(columns=['stem_str'])\n",
    "X_test = X_test.drop(columns=['stem_str']) \n",
    "# y_train = X_train.drop(columns=['stem_str'])\n",
    "# y_test = X_test.drop(columns=['stem_str'])"
   ]
  },
  {
   "cell_type": "code",
   "execution_count": 70,
   "metadata": {},
   "outputs": [
    {
     "name": "stdout",
     "output_type": "stream",
     "text": [
      "<class 'pandas.core.frame.DataFrame'>\n",
      "Int64Index: 2985 entries, 11454 to 5327\n",
      "Data columns (total 35 columns):\n",
      "employee_title_title_known               2985 non-null int64\n",
      "employee_title_title_unknown             2985 non-null int64\n",
      "employee_status_current_employee         2985 non-null int64\n",
      "employee_status_former_employee          2985 non-null int64\n",
      "employee_status_unknown_status           2985 non-null int64\n",
      "helpful_helpful                          2985 non-null int64\n",
      "helpful_not_helpful                      2985 non-null int64\n",
      "recommends_does_not_recommend            2985 non-null int64\n",
      "recommends_recommends                    2985 non-null int64\n",
      "recommends_unknown_recommends            2985 non-null int64\n",
      "area_central                             2985 non-null int64\n",
      "area_east_coast                          2985 non-null int64\n",
      "area_mountain                            2985 non-null int64\n",
      "area_outside_US                          2985 non-null int64\n",
      "area_unknown                             2985 non-null int64\n",
      "area_west_coast                          2985 non-null int64\n",
      "company_outlook_negative_outlook         2985 non-null int64\n",
      "company_outlook_neutral_outlook          2985 non-null int64\n",
      "company_outlook_outlook_unknown          2985 non-null int64\n",
      "company_outlook_positive_outlook         2985 non-null int64\n",
      "opinion_of_CEO_approves_of_CEO           2985 non-null int64\n",
      "opinion_of_CEO_disapproves_of_CEO        2985 non-null int64\n",
      "opinion_of_CEO_no_opinion_of_CEO         2985 non-null int64\n",
      "opinion_of_CEO_unknown_opinion_of_CEO    2985 non-null int64\n",
      "noun                                     2985 non-null float64\n",
      "adj                                      2985 non-null float64\n",
      "adv                                      2985 non-null float64\n",
      "verb                                     2985 non-null float64\n",
      "characters                               2985 non-null int64\n",
      "tokens                                   2985 non-null int64\n",
      "words                                    2985 non-null int64\n",
      "sentences                                2985 non-null int64\n",
      "avg_word_len                             2985 non-null float64\n",
      "avg_sent_len                             2985 non-null float64\n",
      "sentiment                                2985 non-null float64\n",
      "dtypes: float64(7), int64(28)\n",
      "memory usage: 839.5 KB\n"
     ]
    }
   ],
   "source": [
    "X_train.info()"
   ]
  },
  {
   "cell_type": "code",
   "execution_count": 71,
   "metadata": {},
   "outputs": [
    {
     "name": "stdout",
     "output_type": "stream",
     "text": [
      "Average Number of Non-Zero Elements in Vectorized Articles: 3.5608040201005027\n",
      "Percentage of columns containing 0: 0.9847175793128734\n"
     ]
    }
   ],
   "source": [
    "#Check number of zero columns and percent\n",
    "non_zero_cols = tfidf_data_train.nnz / float(tfidf_data_train.shape[0])\n",
    "print(\"Average Number of Non-Zero Elements in Vectorized Articles: {}\".format(non_zero_cols))\n",
    "\n",
    "percent_sparse = 1 - (non_zero_cols / float(tfidf_data_train.shape[1]))\n",
    "print('Percentage of columns containing 0: {}'.format(percent_sparse))"
   ]
  },
  {
   "cell_type": "code",
   "execution_count": 72,
   "metadata": {},
   "outputs": [],
   "source": [
    "# Convert tfidf to array and concatenate train and test sets\n",
    "X_train = pd.concat([pd.DataFrame(tfidf_data_train.toarray()), X_train.reset_index()], axis = 1)\n",
    "X_test = pd.concat([pd.DataFrame(tfidf_data_test.toarray()), X_test.reset_index()], axis = 1)"
   ]
  },
  {
   "cell_type": "markdown",
   "metadata": {},
   "source": [
    "<a name=\"part3\"></a>\n",
    "## Model Testing \n",
    "\n",
    "Below I will run decision tree, random forest, xgboost, and knn to see which one gives the best results for my data before moving on to tuning that model."
   ]
  },
  {
   "cell_type": "markdown",
   "metadata": {},
   "source": [
    "<a name=\"part3a\"></a>\n",
    "### Decision Tree"
   ]
  },
  {
   "cell_type": "code",
   "execution_count": 73,
   "metadata": {},
   "outputs": [],
   "source": [
    "#Import packages\n",
    "from sklearn.tree import DecisionTreeClassifier"
   ]
  },
  {
   "cell_type": "code",
   "execution_count": 74,
   "metadata": {},
   "outputs": [
    {
     "data": {
      "text/plain": [
       "DecisionTreeClassifier(ccp_alpha=0.0, class_weight=None, criterion='entropy',\n",
       "                       max_depth=None, max_features=None, max_leaf_nodes=None,\n",
       "                       min_impurity_decrease=0.0, min_impurity_split=None,\n",
       "                       min_samples_leaf=1, min_samples_split=2,\n",
       "                       min_weight_fraction_leaf=0.0, presort='deprecated',\n",
       "                       random_state=23, splitter='best')"
      ]
     },
     "execution_count": 74,
     "metadata": {},
     "output_type": "execute_result"
    }
   ],
   "source": [
    "#Instantiate Decision tree model\n",
    "clf = DecisionTreeClassifier(criterion='entropy', random_state=23)\n",
    "#Fit the model to data\n",
    "clf.fit(X_train, y_train) "
   ]
  },
  {
   "cell_type": "code",
   "execution_count": 75,
   "metadata": {},
   "outputs": [],
   "source": [
    "#Run Test Predictions\n",
    "dt_test_preds = clf.predict(X_test)"
   ]
  },
  {
   "cell_type": "code",
   "execution_count": 76,
   "metadata": {},
   "outputs": [
    {
     "data": {
      "image/png": "[encoded data removed]",
      "text/plain": [
       "<Figure size 432x288 with 2 Axes>"
      ]
     },
     "metadata": {
      "needs_background": "light"
     },
     "output_type": "display_data"
    }
   ],
   "source": [
    "#Get the confusion matrix\n",
    "cf_matrix = confusion_matrix(y_test, dt_test_preds)\n",
    "\n",
    "sns.heatmap(cf_matrix/np.sum(cf_matrix), annot=True, \n",
    "            fmt='.2%', cmap='Blues') \n",
    "plt.show()"
   ]
  },
  {
   "cell_type": "code",
   "execution_count": 77,
   "metadata": {},
   "outputs": [
    {
     "name": "stdout",
     "output_type": "stream",
     "text": [
      "Decision Tree:\n",
      "---------------\n",
      "Recall: 0.4974\n",
      "Testing Accuracy: 0.4974\n",
      "F1 Score: 0.4974\n"
     ]
    }
   ],
   "source": [
    "#Run Metrics\n",
    "dt_recall = recall_score(y_test, dt_test_preds, average='weighted')\n",
    "dt_acc_score = accuracy_score(y_test, dt_test_preds)\n",
    "dt_f1_score = f1_score(y_test, dt_test_preds, average='weighted')\n",
    "print('Decision Tree:')\n",
    "print(3*'-----')\n",
    "\n",
    "print('Recall: {:.4}'.format(dt_recall))\n",
    "print(\"Testing Accuracy: {:.4}\".format(dt_acc_score))\n",
    "print(\"F1 Score: {:.4}\".format(dt_f1_score))"
   ]
  },
  {
   "cell_type": "markdown",
   "metadata": {},
   "source": [
    "<a name=\"part3b\"></a>\n",
    "### Random Forest"
   ]
  },
  {
   "cell_type": "code",
   "execution_count": 78,
   "metadata": {},
   "outputs": [
    {
     "data": {
      "text/plain": [
       "RandomForestClassifier(bootstrap=True, ccp_alpha=0.0, class_weight=None,\n",
       "                       criterion='gini', max_depth=None, max_features='auto',\n",
       "                       max_leaf_nodes=None, max_samples=None,\n",
       "                       min_impurity_decrease=0.0, min_impurity_split=None,\n",
       "                       min_samples_leaf=1, min_samples_split=2,\n",
       "                       min_weight_fraction_leaf=0.0, n_estimators=100,\n",
       "                       n_jobs=None, oob_score=False, random_state=23, verbose=0,\n",
       "                       warm_start=False)"
      ]
     },
     "execution_count": 78,
     "metadata": {},
     "output_type": "execute_result"
    }
   ],
   "source": [
    "#Initialize Classifier \n",
    "rf_classifier = RandomForestClassifier(n_estimators=100, random_state=23)\n",
    "#Fit Classifier to Data\n",
    "rf_classifier.fit(X_train, y_train)"
   ]
  },
  {
   "cell_type": "code",
   "execution_count": 79,
   "metadata": {},
   "outputs": [],
   "source": [
    "#Run Test Predictions\n",
    "rf_test_preds = rf_classifier.predict(X_test)"
   ]
  },
  {
   "cell_type": "code",
   "execution_count": 80,
   "metadata": {},
   "outputs": [
    {
     "data": {
      "image/png": "[encoded data removed]",
      "text/plain": [
       "<Figure size 432x288 with 2 Axes>"
      ]
     },
     "metadata": {
      "needs_background": "light"
     },
     "output_type": "display_data"
    }
   ],
   "source": [
    "#Get the confusion matrix\n",
    "cf_matrix = confusion_matrix(y_test, rf_test_preds)\n",
    "\n",
    "sns.heatmap(cf_matrix/np.sum(cf_matrix), annot=True, \n",
    "            fmt='.2%', cmap='Blues') \n",
    "plt.show()"
   ]
  },
  {
   "cell_type": "code",
   "execution_count": 81,
   "metadata": {},
   "outputs": [
    {
     "name": "stdout",
     "output_type": "stream",
     "text": [
      "Random Forest with Stematized Features:\n",
      "---------------\n",
      "Recall: 0.5808\n",
      "Testing Accuracy: 0.5808\n",
      "F1 Score: 0.5598\n"
     ]
    }
   ],
   "source": [
    "#Run Metrics\n",
    "rf_recall = recall_score(y_test, rf_test_preds, average='weighted')\n",
    "rf_acc_score = accuracy_score(y_test, rf_test_preds)\n",
    "rf_f1_score = f1_score(y_test, rf_test_preds, average='weighted')\n",
    "print('Random Forest with Stematized Features:')\n",
    "print(3*'-----')\n",
    "\n",
    "print('Recall: {:.4}'.format(rf_recall))\n",
    "print(\"Testing Accuracy: {:.4}\".format(rf_acc_score))\n",
    "print(\"F1 Score: {:.4}\".format(rf_f1_score))"
   ]
  },
  {
   "cell_type": "markdown",
   "metadata": {},
   "source": [
    "<a name=\"part3c\"></a>\n",
    "### XGBoost"
   ]
  },
  {
   "cell_type": "code",
   "execution_count": 82,
   "metadata": {},
   "outputs": [
    {
     "data": {
      "text/plain": [
       "XGBClassifier(base_score=0.5, booster='gbtree', colsample_bylevel=1,\n",
       "              colsample_bynode=1, colsample_bytree=1, gamma=0,\n",
       "              learning_rate=0.1, max_delta_step=0, max_depth=3,\n",
       "              min_child_weight=1, missing=None, n_estimators=100, n_jobs=1,\n",
       "              nthread=None, objective='multi:softprob', random_state=23,\n",
       "              reg_alpha=0, reg_lambda=1, scale_pos_weight=1, seed=None,\n",
       "              silent=None, subsample=1, verbosity=1)"
      ]
     },
     "execution_count": 82,
     "metadata": {},
     "output_type": "execute_result"
    }
   ],
   "source": [
    "#Instantiate Model\n",
    "xgb = XGBClassifier(random_state=23)\n",
    "#Fit model to the data\n",
    "xgb.fit(X_train, y_train)"
   ]
  },
  {
   "cell_type": "code",
   "execution_count": 83,
   "metadata": {},
   "outputs": [],
   "source": [
    "#Run predictions\n",
    "xgb_test_preds = xgb.predict(X_test)"
   ]
  },
  {
   "cell_type": "code",
   "execution_count": 84,
   "metadata": {},
   "outputs": [
    {
     "data": {
      "image/png": "[encoded data removed]",
      "text/plain": [
       "<Figure size 432x288 with 2 Axes>"
      ]
     },
     "metadata": {
      "needs_background": "light"
     },
     "output_type": "display_data"
    }
   ],
   "source": [
    "#Get the confusion matrix\n",
    "cf_matrix = confusion_matrix(y_test, xgb_test_preds)\n",
    "\n",
    "sns.heatmap(cf_matrix/np.sum(cf_matrix), annot=True, \n",
    "            fmt='.2%', cmap='Blues') \n",
    "plt.show()"
   ]
  },
  {
   "cell_type": "code",
   "execution_count": 85,
   "metadata": {},
   "outputs": [
    {
     "name": "stdout",
     "output_type": "stream",
     "text": [
      "XGBOOST:\n",
      "---------------\n",
      "Recall: 0.59\n",
      "Testing Accuracy: 0.59\n",
      "F1 Score: 0.5722\n"
     ]
    }
   ],
   "source": [
    "#Run metrics\n",
    "xgb_recall = recall_score(y_test, xgb_test_preds, average='weighted')\n",
    "xgb_acc_score = accuracy_score(y_test, xgb_test_preds)\n",
    "xgb_f1_score = f1_score(y_test, xgb_test_preds, average='weighted')\n",
    "\n",
    "print('XGBOOST:')\n",
    "print(3*'-----')\n",
    "\n",
    "print('Recall: {:.4}'.format(xgb_recall))\n",
    "\n",
    "print(\"Testing Accuracy: {:.4}\".format(xgb_acc_score))\n",
    "print(\"F1 Score: {:.4}\".format(xgb_f1_score))"
   ]
  },
  {
   "cell_type": "markdown",
   "metadata": {},
   "source": [
    "<a name=\"part3d\"></a>\n",
    "### KNN "
   ]
  },
  {
   "cell_type": "code",
   "execution_count": 86,
   "metadata": {},
   "outputs": [],
   "source": [
    "from sklearn.neighbors import KNeighborsClassifier \n",
    "\n",
    "#Scale X_train and X_test for knn\n",
    "scaler = StandardScaler()\n",
    "scaled_X_train = scaler.fit_transform(X_train)\n",
    "scaled_X_test = scaler.transform(X_test)"
   ]
  },
  {
   "cell_type": "code",
   "execution_count": 87,
   "metadata": {},
   "outputs": [],
   "source": [
    "# Instantiate KNeighborsClassifier\n",
    "knnc = KNeighborsClassifier()\n",
    "\n",
    "# Fit the classifier\n",
    "knnc.fit(scaled_X_train, y_train)\n",
    "\n",
    "# Predict on the test set\n",
    "knn_preds = knnc.predict(scaled_X_test)"
   ]
  },
  {
   "cell_type": "code",
   "execution_count": 88,
   "metadata": {},
   "outputs": [
    {
     "data": {
      "image/png": "[encoded data removed]",
      "text/plain": [
       "<Figure size 432x288 with 2 Axes>"
      ]
     },
     "metadata": {
      "needs_background": "light"
     },
     "output_type": "display_data"
    }
   ],
   "source": [
    "#Get the confusion matrix\n",
    "cf_matrix = confusion_matrix(y_test, knn_preds)\n",
    "\n",
    "sns.heatmap(cf_matrix/np.sum(cf_matrix), annot=True, \n",
    "            fmt='.2%', cmap='Blues') \n",
    "plt.show()"
   ]
  },
  {
   "cell_type": "code",
   "execution_count": 89,
   "metadata": {},
   "outputs": [
    {
     "name": "stdout",
     "output_type": "stream",
     "text": [
      "KNN:\n",
      "---------------\n",
      "Recall: 0.465\n",
      "Testing Accuracy: 0.465\n",
      "F1 Score: 0.4545\n"
     ]
    }
   ],
   "source": [
    "#Run metrics\n",
    "knn_recall = recall_score(y_test, knn_preds, average='weighted')\n",
    "knn_acc_score = accuracy_score(y_test, knn_preds)\n",
    "knn_f1_score = f1_score(y_test, knn_preds, average='weighted')\n",
    "\n",
    "print('KNN:')\n",
    "print(3*'-----')\n",
    "\n",
    "print('Recall: {:.4}'.format(knn_recall))\n",
    "\n",
    "print(\"Testing Accuracy: {:.4}\".format(knn_acc_score))\n",
    "print(\"F1 Score: {:.4}\".format(knn_f1_score))"
   ]
  },
  {
   "cell_type": "markdown",
   "metadata": {},
   "source": [
    "<a name=\"part3e\"></a>\n",
    "### Light Gradient Boosted Machine (LightGBM) "
   ]
  },
  {
   "cell_type": "code",
   "execution_count": 90,
   "metadata": {},
   "outputs": [
    {
     "data": {
      "text/plain": [
       "LGBMClassifier(boosting_type='gbdt', class_weight=None, colsample_bytree=1.0,\n",
       "               importance_type='split', learning_rate=0.1, max_depth=-1,\n",
       "               min_child_samples=20, min_child_weight=0.001, min_split_gain=0.0,\n",
       "               n_estimators=100, n_jobs=-1, num_leaves=31, objective=None,\n",
       "               random_state=66, reg_alpha=0.0, reg_lambda=0.0, silent=True,\n",
       "               subsample=1.0, subsample_for_bin=200000, subsample_freq=0)"
      ]
     },
     "execution_count": 90,
     "metadata": {},
     "output_type": "execute_result"
    }
   ],
   "source": [
    "#Import Light GBM\n",
    "from lightgbm import LGBMClassifier\n",
    "\n",
    "# define the model\n",
    "lgbm = LGBMClassifier(random_state=66)\n",
    "\n",
    "#Fit model to the data\n",
    "lgbm.fit(X_train, y_train)"
   ]
  },
  {
   "cell_type": "code",
   "execution_count": 91,
   "metadata": {},
   "outputs": [],
   "source": [
    "#Run predictions\n",
    "lgbm_test_preds = lgbm.predict(X_test)"
   ]
  },
  {
   "cell_type": "code",
   "execution_count": 92,
   "metadata": {},
   "outputs": [
    {
     "data": {
      "image/png": "[encoded data removed]",
      "text/plain": [
       "<Figure size 432x288 with 2 Axes>"
      ]
     },
     "metadata": {
      "needs_background": "light"
     },
     "output_type": "display_data"
    }
   ],
   "source": [
    "#Get the confusion matrix\n",
    "cf_matrix = confusion_matrix(y_test, lgbm_test_preds)\n",
    "\n",
    "sns.heatmap(cf_matrix/np.sum(cf_matrix), annot=True, \n",
    "            fmt='.2%', cmap='Blues') \n",
    "plt.show()"
   ]
  },
  {
   "cell_type": "code",
   "execution_count": 93,
   "metadata": {},
   "outputs": [
    {
     "name": "stdout",
     "output_type": "stream",
     "text": [
      "LGBM:\n",
      "---------------\n",
      "Recall: 0.5827\n",
      "Testing Accuracy: 0.5827\n",
      "F1 Score: 0.5743\n"
     ]
    }
   ],
   "source": [
    "#Run metrics\n",
    "lgbm_recall = recall_score(y_test, lgbm_test_preds, average='weighted')\n",
    "lgbm_acc_score = accuracy_score(y_test, lgbm_test_preds)\n",
    "lgbm_f1_score = f1_score(y_test, lgbm_test_preds, average='weighted')\n",
    "\n",
    "print('LGBM:')\n",
    "print(3*'-----')\n",
    "\n",
    "print('Recall: {:.4}'.format(lgbm_recall))\n",
    "\n",
    "print(\"Testing Accuracy: {:.4}\".format(lgbm_acc_score))\n",
    "print(\"F1 Score: {:.4}\".format(lgbm_f1_score))"
   ]
  },
  {
   "cell_type": "markdown",
   "metadata": {},
   "source": [
    "<a name=\"part4\"></a>\n",
    "## Model Refinement  \n",
    "Having tested a few different models, I will now attempt to improve upon them by tuning. Since three of the models performed about the same, I will grid search those three. \n",
    "\n",
    "\n",
    "### Random Forest Random Search"
   ]
  },
  {
   "cell_type": "code",
   "execution_count": 34,
   "metadata": {},
   "outputs": [
    {
     "name": "stdout",
     "output_type": "stream",
     "text": [
      "Parameters currently in use:\n",
      "\n",
      "{'bootstrap': True,\n",
      " 'ccp_alpha': 0.0,\n",
      " 'class_weight': None,\n",
      " 'criterion': 'gini',\n",
      " 'max_depth': None,\n",
      " 'max_features': 'auto',\n",
      " 'max_leaf_nodes': None,\n",
      " 'max_samples': None,\n",
      " 'min_impurity_decrease': 0.0,\n",
      " 'min_impurity_split': None,\n",
      " 'min_samples_leaf': 1,\n",
      " 'min_samples_split': 2,\n",
      " 'min_weight_fraction_leaf': 0.0,\n",
      " 'n_estimators': 100,\n",
      " 'n_jobs': None,\n",
      " 'oob_score': False,\n",
      " 'random_state': 23,\n",
      " 'verbose': 0,\n",
      " 'warm_start': False}\n"
     ]
    }
   ],
   "source": [
    "from pprint import pprint\n",
    "# Look at parameters used by our current forest\n",
    "print('Parameters currently in use:\\n')\n",
    "pprint(rf_classifier.get_params())"
   ]
  },
  {
   "cell_type": "code",
   "execution_count": 35,
   "metadata": {},
   "outputs": [],
   "source": [
    "from sklearn.model_selection import RandomizedSearchCV\n",
    "# Number of trees in random forest\n",
    "n_estimators = [int(x) for x in np.linspace(start = 0, stop = 2000, num = 50)]\n",
    "# Number of features to consider at every split\n",
    "max_features = ['auto', 'sqrt', 'log2']\n",
    "# Maximum number of levels in tree\n",
    "max_depth = [int(x) for x in np.linspace(0, 110, num = 11)]\n",
    "max_depth.append(None)\n",
    "# Minimum number of samples required to split a node\n",
    "min_samples_split = [2, 5, 10]\n",
    "# Minimum number of samples required at each leaf node\n",
    "min_samples_leaf = [1, 2, 4]\n",
    "# Method of selecting samples for training each tree\n",
    "bootstrap = [True, False]\n",
    "#\n",
    "n_jobs = [-1]\n",
    "# Create the random grid\n",
    "random_grid = {'n_estimators': n_estimators,\n",
    "               'max_features': max_features,\n",
    "               'max_depth': max_depth,\n",
    "               'min_samples_split': min_samples_split,\n",
    "               'min_samples_leaf': min_samples_leaf,\n",
    "               'bootstrap': bootstrap \n",
    "                }"
   ]
  },
  {
   "cell_type": "code",
   "execution_count": 37,
   "metadata": {},
   "outputs": [
    {
     "name": "stdout",
     "output_type": "stream",
     "text": [
      "Fitting 5 folds for each of 100 candidates, totalling 500 fits\n"
     ]
    },
    {
     "name": "stderr",
     "output_type": "stream",
     "text": [
      "[Parallel(n_jobs=-1)]: Using backend LokyBackend with 4 concurrent workers.\n",
      "[Parallel(n_jobs=-1)]: Done  33 tasks      | elapsed:  3.5min\n",
      "[Parallel(n_jobs=-1)]: Done 154 tasks      | elapsed: 14.5min\n",
      "[Parallel(n_jobs=-1)]: Done 357 tasks      | elapsed: 35.9min\n",
      "[Parallel(n_jobs=-1)]: Done 500 out of 500 | elapsed: 53.2min finished\n"
     ]
    },
    {
     "data": {
      "text/plain": [
       "RandomizedSearchCV(cv=5, error_score=nan,\n",
       "                   estimator=RandomForestClassifier(bootstrap=True,\n",
       "                                                    ccp_alpha=0.0,\n",
       "                                                    class_weight=None,\n",
       "                                                    criterion='gini',\n",
       "                                                    max_depth=None,\n",
       "                                                    max_features='auto',\n",
       "                                                    max_leaf_nodes=None,\n",
       "                                                    max_samples=None,\n",
       "                                                    min_impurity_decrease=0.0,\n",
       "                                                    min_impurity_split=None,\n",
       "                                                    min_samples_leaf=1,\n",
       "                                                    min_samples_split=2,\n",
       "                                                    min_weight_fraction_leaf=0.0,\n",
       "                                                    n_estimators=100,\n",
       "                                                    n_jobs...\n",
       "                                                      77, 88, 99, 110, None],\n",
       "                                        'max_features': ['auto', 'sqrt',\n",
       "                                                         'log2'],\n",
       "                                        'min_samples_leaf': [1, 2, 4],\n",
       "                                        'min_samples_split': [2, 5, 10],\n",
       "                                        'n_estimators': [0, 40, 81, 122, 163,\n",
       "                                                         204, 244, 285, 326,\n",
       "                                                         367, 408, 448, 489,\n",
       "                                                         530, 571, 612, 653,\n",
       "                                                         693, 734, 775, 816,\n",
       "                                                         857, 897, 938, 979,\n",
       "                                                         1020, 1061, 1102, 1142,\n",
       "                                                         1183, ...]},\n",
       "                   pre_dispatch='2*n_jobs', random_state=23, refit=True,\n",
       "                   return_train_score=False, scoring=None, verbose=2)"
      ]
     },
     "execution_count": 37,
     "metadata": {},
     "output_type": "execute_result"
    }
   ],
   "source": [
    "# Use the random grid to search for best hyperparameters\n",
    "# Random search of parameters, using 3 fold cross validation, \n",
    "# search across 100 different combinations, and use all available cores\n",
    "rf_random = RandomizedSearchCV(estimator = rf_classifier, param_distributions = random_grid, n_iter = 100, cv = 5, verbose=2, random_state=23, n_jobs = -1)\n",
    "# Fit the random search model\n",
    "rf_random.fit(X_train, y_train)"
   ]
  },
  {
   "cell_type": "code",
   "execution_count": 49,
   "metadata": {},
   "outputs": [
    {
     "data": {
      "text/plain": [
       "RandomForestClassifier(bootstrap=True, ccp_alpha=0.0, class_weight=None,\n",
       "                       criterion='gini', max_depth=None, max_features='auto',\n",
       "                       max_leaf_nodes=None, max_samples=None,\n",
       "                       min_impurity_decrease=0.0, min_impurity_split=None,\n",
       "                       min_samples_leaf=1, min_samples_split=2,\n",
       "                       min_weight_fraction_leaf=0.0, n_estimators=100,\n",
       "                       n_jobs=-1, oob_score=False, random_state=23, verbose=0,\n",
       "                       warm_start=False)"
      ]
     },
     "execution_count": 49,
     "metadata": {},
     "output_type": "execute_result"
    }
   ],
   "source": [
    "#Initialize Classifier with best parametrs from random search\n",
    "rf_rs_classifier = RandomForestClassifier(n_estimators=100, criterion='gini', max_depth=None, min_samples_split=2, min_samples_leaf=1, \n",
    "                                          min_weight_fraction_leaf=0.0, max_features='auto', max_leaf_nodes=None, min_impurity_decrease=0.0, \n",
    "                                          min_impurity_split=None, bootstrap=True, n_jobs=-1, max_samples=None, random_state=23)\n",
    "#Fit Classifier to Data\n",
    "rf_rs_classifier.fit(X_train, y_train)"
   ]
  },
  {
   "cell_type": "code",
   "execution_count": 55,
   "metadata": {},
   "outputs": [
    {
     "name": "stdout",
     "output_type": "stream",
     "text": [
      "Random Search RF:\n",
      "---------------\n",
      "Recall: 0.5817\n",
      "Testing Accuracy: 0.5817\n",
      "F1 Score: 0.558\n"
     ]
    }
   ],
   "source": [
    "#Run Test Predictions\n",
    "rf_best_preds = rf_rs_classifier.predict(X_test) \n",
    "\n",
    "#Run metrics\n",
    "rfb_recall = recall_score(y_test, rf_best_preds, average='weighted')\n",
    "rfb_acc_score = accuracy_score(y_test, rf_best_preds)\n",
    "rfb_f1_score = f1_score(y_test, rf_best_preds, average='weighted')\n",
    "\n",
    "print('Random Search RF:')\n",
    "print(3*'-----')\n",
    "\n",
    "print('Recall: {:.4}'.format(rfb_recall))\n",
    "\n",
    "print(\"Testing Accuracy: {:.4}\".format(rfb_acc_score))\n",
    "print(\"F1 Score: {:.4}\".format(rfb_f1_score))"
   ]
  },
  {
   "cell_type": "markdown",
   "metadata": {},
   "source": [
    "#### Random Forest Gridsearch \n",
    "\n",
    "Since I did not get any results from doing a random search I will only use grid search moving foward. "
   ]
  },
  {
   "cell_type": "code",
   "execution_count": 34,
   "metadata": {},
   "outputs": [],
   "source": [
    "# create dictionary of hyperparameters to tune\n",
    "param_grid = {'n_estimators': [100, 200],\n",
    "              'class_weight' : [\"balanced\", \"balanced_subsample\", None],\n",
    "              'max_depth': [None, 2, 10],\n",
    "              'max_features': [None, 4, 16, 24],\n",
    "              'min_samples_split' : [2, 3, 5, 8, 16],\n",
    "              'min_samples_leaf' : [1, 3, 5, 8]\n",
    "             }\n",
    "\n",
    "# create grid search object and fit to data\n",
    "grid_forest = GridSearchCV(RandomForestClassifier(random_state=23),\n",
    "                           param_grid,\n",
    "                           cv=2,\n",
    "                           scoring='accuracy',\n",
    "                           verbose=1,\n",
    "                           n_jobs=-1)\n",
    "\n",
    "#fit data\n",
    "grid_forest.fit(X_train, y_train)"
   ]
  },
  {
   "cell_type": "code",
   "execution_count": 36,
   "metadata": {},
   "outputs": [],
   "source": [
    "#pickle grid hyperparameters\n",
    "pickle_out = open(\"rf_grid.pickle\",\"wb\")\n",
    "pickle.dump(grid_forest, pickle_out)\n",
    "pickle_out.close()"
   ]
  },
  {
   "cell_type": "code",
   "execution_count": 40,
   "metadata": {},
   "outputs": [
    {
     "name": "stdout",
     "output_type": "stream",
     "text": [
      "Best RF Parameters:\n",
      "\n"
     ]
    },
    {
     "data": {
      "text/plain": [
       "{'class_weight': None,\n",
       " 'max_depth': 10,\n",
       " 'max_features': None,\n",
       " 'min_samples_leaf': 5,\n",
       " 'min_samples_split': 2,\n",
       " 'n_estimators': 200}"
      ]
     },
     "execution_count": 40,
     "metadata": {},
     "output_type": "execute_result"
    }
   ],
   "source": [
    "#print best parameters\n",
    "from pprint import pprint\n",
    "print('Best RF Parameters:\\n')\n",
    "# pprint(grid_forest.get_params()) \n",
    "grid_forest.best_params_"
   ]
  },
  {
   "cell_type": "code",
   "execution_count": 41,
   "metadata": {},
   "outputs": [
    {
     "name": "stdout",
     "output_type": "stream",
     "text": [
      "Grid Search RF:\n",
      "---------------\n",
      "Recall: 0.5865\n",
      "Testing Accuracy: 0.5865\n",
      "F1 Score: 0.5784\n"
     ]
    }
   ],
   "source": [
    "#Run Test Predictions\n",
    "rfg_best_preds = grid_forest.predict(X_test) \n",
    "\n",
    "#Run metrics\n",
    "rfbg_recall = recall_score(y_test, rfg_best_preds, average='weighted')\n",
    "rfbg_acc_score = accuracy_score(y_test, rfg_best_preds)\n",
    "rfbg_f1_score = f1_score(y_test, rfg_best_preds, average='weighted')\n",
    "\n",
    "#print results\n",
    "print('Grid Search RF:')\n",
    "print(3*'-----')\n",
    "\n",
    "print('Recall: {:.4}'.format(rfbg_recall))\n",
    "\n",
    "print(\"Testing Accuracy: {:.4}\".format(rfbg_acc_score))\n",
    "print(\"F1 Score: {:.4}\".format(rfbg_f1_score))"
   ]
  },
  {
   "cell_type": "markdown",
   "metadata": {},
   "source": [
    "#### XGBoost Grid Search "
   ]
  },
  {
   "cell_type": "code",
   "execution_count": 41,
   "metadata": {},
   "outputs": [
    {
     "name": "stdout",
     "output_type": "stream",
     "text": [
      "Fitting 2 folds for each of 144 candidates, totalling 288 fits\n"
     ]
    },
    {
     "name": "stderr",
     "output_type": "stream",
     "text": [
      "[Parallel(n_jobs=-1)]: Using backend LokyBackend with 4 concurrent workers.\n",
      "[Parallel(n_jobs=-1)]: Done  42 tasks      | elapsed:  7.0min\n"
     ]
    },
    {
     "ename": "KeyboardInterrupt",
     "evalue": "",
     "output_type": "error",
     "traceback": [
      "\u001b[0;31m---------------------------------------------------------------------------\u001b[0m",
      "\u001b[0;31mKeyboardInterrupt\u001b[0m                         Traceback (most recent call last)",
      "\u001b[0;32m<ipython-input-41-81fc4d611990>\u001b[0m in \u001b[0;36m<module>\u001b[0;34m()\u001b[0m\n\u001b[1;32m     15\u001b[0m \u001b[0;34m\u001b[0m\u001b[0m\n\u001b[1;32m     16\u001b[0m \u001b[0;31m#fit model\u001b[0m\u001b[0;34m\u001b[0m\u001b[0;34m\u001b[0m\u001b[0;34m\u001b[0m\u001b[0m\n\u001b[0;32m---> 17\u001b[0;31m \u001b[0mgrid_boost\u001b[0m\u001b[0;34m.\u001b[0m\u001b[0mfit\u001b[0m\u001b[0;34m(\u001b[0m\u001b[0mX_train\u001b[0m\u001b[0;34m,\u001b[0m \u001b[0my_train\u001b[0m\u001b[0;34m)\u001b[0m\u001b[0;34m\u001b[0m\u001b[0;34m\u001b[0m\u001b[0m\n\u001b[0m\u001b[1;32m     18\u001b[0m \u001b[0;34m\u001b[0m\u001b[0m\n\u001b[1;32m     19\u001b[0m \u001b[0;31m# pickle grid hyperparameters\u001b[0m\u001b[0;34m\u001b[0m\u001b[0;34m\u001b[0m\u001b[0;34m\u001b[0m\u001b[0m\n",
      "\u001b[0;32m/Users/ji/opt/anaconda3/envs/learn-env/lib/python3.6/site-packages/sklearn/model_selection/_search.py\u001b[0m in \u001b[0;36mfit\u001b[0;34m(self, X, y, groups, **fit_params)\u001b[0m\n\u001b[1;32m    708\u001b[0m                 \u001b[0;32mreturn\u001b[0m \u001b[0mresults\u001b[0m\u001b[0;34m\u001b[0m\u001b[0;34m\u001b[0m\u001b[0m\n\u001b[1;32m    709\u001b[0m \u001b[0;34m\u001b[0m\u001b[0m\n\u001b[0;32m--> 710\u001b[0;31m             \u001b[0mself\u001b[0m\u001b[0;34m.\u001b[0m\u001b[0m_run_search\u001b[0m\u001b[0;34m(\u001b[0m\u001b[0mevaluate_candidates\u001b[0m\u001b[0;34m)\u001b[0m\u001b[0;34m\u001b[0m\u001b[0;34m\u001b[0m\u001b[0m\n\u001b[0m\u001b[1;32m    711\u001b[0m \u001b[0;34m\u001b[0m\u001b[0m\n\u001b[1;32m    712\u001b[0m         \u001b[0;31m# For multi-metric evaluation, store the best_index_, best_params_ and\u001b[0m\u001b[0;34m\u001b[0m\u001b[0;34m\u001b[0m\u001b[0;34m\u001b[0m\u001b[0m\n",
      "\u001b[0;32m/Users/ji/opt/anaconda3/envs/learn-env/lib/python3.6/site-packages/sklearn/model_selection/_search.py\u001b[0m in \u001b[0;36m_run_search\u001b[0;34m(self, evaluate_candidates)\u001b[0m\n\u001b[1;32m   1149\u001b[0m     \u001b[0;32mdef\u001b[0m \u001b[0m_run_search\u001b[0m\u001b[0;34m(\u001b[0m\u001b[0mself\u001b[0m\u001b[0;34m,\u001b[0m \u001b[0mevaluate_candidates\u001b[0m\u001b[0;34m)\u001b[0m\u001b[0;34m:\u001b[0m\u001b[0;34m\u001b[0m\u001b[0;34m\u001b[0m\u001b[0m\n\u001b[1;32m   1150\u001b[0m         \u001b[0;34m\"\"\"Search all candidates in param_grid\"\"\"\u001b[0m\u001b[0;34m\u001b[0m\u001b[0;34m\u001b[0m\u001b[0m\n\u001b[0;32m-> 1151\u001b[0;31m         \u001b[0mevaluate_candidates\u001b[0m\u001b[0;34m(\u001b[0m\u001b[0mParameterGrid\u001b[0m\u001b[0;34m(\u001b[0m\u001b[0mself\u001b[0m\u001b[0;34m.\u001b[0m\u001b[0mparam_grid\u001b[0m\u001b[0;34m)\u001b[0m\u001b[0;34m)\u001b[0m\u001b[0;34m\u001b[0m\u001b[0;34m\u001b[0m\u001b[0m\n\u001b[0m\u001b[1;32m   1152\u001b[0m \u001b[0;34m\u001b[0m\u001b[0m\n\u001b[1;32m   1153\u001b[0m \u001b[0;34m\u001b[0m\u001b[0m\n",
      "\u001b[0;32m/Users/ji/opt/anaconda3/envs/learn-env/lib/python3.6/site-packages/sklearn/model_selection/_search.py\u001b[0m in \u001b[0;36mevaluate_candidates\u001b[0;34m(candidate_params)\u001b[0m\n\u001b[1;32m    687\u001b[0m                                \u001b[0;32mfor\u001b[0m \u001b[0mparameters\u001b[0m\u001b[0;34m,\u001b[0m \u001b[0;34m(\u001b[0m\u001b[0mtrain\u001b[0m\u001b[0;34m,\u001b[0m \u001b[0mtest\u001b[0m\u001b[0;34m)\u001b[0m\u001b[0;34m\u001b[0m\u001b[0;34m\u001b[0m\u001b[0m\n\u001b[1;32m    688\u001b[0m                                in product(candidate_params,\n\u001b[0;32m--> 689\u001b[0;31m                                           cv.split(X, y, groups)))\n\u001b[0m\u001b[1;32m    690\u001b[0m \u001b[0;34m\u001b[0m\u001b[0m\n\u001b[1;32m    691\u001b[0m                 \u001b[0;32mif\u001b[0m \u001b[0mlen\u001b[0m\u001b[0;34m(\u001b[0m\u001b[0mout\u001b[0m\u001b[0;34m)\u001b[0m \u001b[0;34m<\u001b[0m \u001b[0;36m1\u001b[0m\u001b[0;34m:\u001b[0m\u001b[0;34m\u001b[0m\u001b[0;34m\u001b[0m\u001b[0m\n",
      "\u001b[0;32m/Users/ji/opt/anaconda3/envs/learn-env/lib/python3.6/site-packages/joblib/parallel.py\u001b[0m in \u001b[0;36m__call__\u001b[0;34m(self, iterable)\u001b[0m\n\u001b[1;32m   1040\u001b[0m \u001b[0;34m\u001b[0m\u001b[0m\n\u001b[1;32m   1041\u001b[0m             \u001b[0;32mwith\u001b[0m \u001b[0mself\u001b[0m\u001b[0;34m.\u001b[0m\u001b[0m_backend\u001b[0m\u001b[0;34m.\u001b[0m\u001b[0mretrieval_context\u001b[0m\u001b[0;34m(\u001b[0m\u001b[0;34m)\u001b[0m\u001b[0;34m:\u001b[0m\u001b[0;34m\u001b[0m\u001b[0;34m\u001b[0m\u001b[0m\n\u001b[0;32m-> 1042\u001b[0;31m                 \u001b[0mself\u001b[0m\u001b[0;34m.\u001b[0m\u001b[0mretrieve\u001b[0m\u001b[0;34m(\u001b[0m\u001b[0;34m)\u001b[0m\u001b[0;34m\u001b[0m\u001b[0;34m\u001b[0m\u001b[0m\n\u001b[0m\u001b[1;32m   1043\u001b[0m             \u001b[0;31m# Make sure that we get a last message telling us we are done\u001b[0m\u001b[0;34m\u001b[0m\u001b[0;34m\u001b[0m\u001b[0;34m\u001b[0m\u001b[0m\n\u001b[1;32m   1044\u001b[0m             \u001b[0melapsed_time\u001b[0m \u001b[0;34m=\u001b[0m \u001b[0mtime\u001b[0m\u001b[0;34m.\u001b[0m\u001b[0mtime\u001b[0m\u001b[0;34m(\u001b[0m\u001b[0;34m)\u001b[0m \u001b[0;34m-\u001b[0m \u001b[0mself\u001b[0m\u001b[0;34m.\u001b[0m\u001b[0m_start_time\u001b[0m\u001b[0;34m\u001b[0m\u001b[0;34m\u001b[0m\u001b[0m\n",
      "\u001b[0;32m/Users/ji/opt/anaconda3/envs/learn-env/lib/python3.6/site-packages/joblib/parallel.py\u001b[0m in \u001b[0;36mretrieve\u001b[0;34m(self)\u001b[0m\n\u001b[1;32m    919\u001b[0m             \u001b[0;32mtry\u001b[0m\u001b[0;34m:\u001b[0m\u001b[0;34m\u001b[0m\u001b[0;34m\u001b[0m\u001b[0m\n\u001b[1;32m    920\u001b[0m                 \u001b[0;32mif\u001b[0m \u001b[0mgetattr\u001b[0m\u001b[0;34m(\u001b[0m\u001b[0mself\u001b[0m\u001b[0;34m.\u001b[0m\u001b[0m_backend\u001b[0m\u001b[0;34m,\u001b[0m \u001b[0;34m'supports_timeout'\u001b[0m\u001b[0;34m,\u001b[0m \u001b[0;32mFalse\u001b[0m\u001b[0;34m)\u001b[0m\u001b[0;34m:\u001b[0m\u001b[0;34m\u001b[0m\u001b[0;34m\u001b[0m\u001b[0m\n\u001b[0;32m--> 921\u001b[0;31m                     \u001b[0mself\u001b[0m\u001b[0;34m.\u001b[0m\u001b[0m_output\u001b[0m\u001b[0;34m.\u001b[0m\u001b[0mextend\u001b[0m\u001b[0;34m(\u001b[0m\u001b[0mjob\u001b[0m\u001b[0;34m.\u001b[0m\u001b[0mget\u001b[0m\u001b[0;34m(\u001b[0m\u001b[0mtimeout\u001b[0m\u001b[0;34m=\u001b[0m\u001b[0mself\u001b[0m\u001b[0;34m.\u001b[0m\u001b[0mtimeout\u001b[0m\u001b[0;34m)\u001b[0m\u001b[0;34m)\u001b[0m\u001b[0;34m\u001b[0m\u001b[0;34m\u001b[0m\u001b[0m\n\u001b[0m\u001b[1;32m    922\u001b[0m                 \u001b[0;32melse\u001b[0m\u001b[0;34m:\u001b[0m\u001b[0;34m\u001b[0m\u001b[0;34m\u001b[0m\u001b[0m\n\u001b[1;32m    923\u001b[0m                     \u001b[0mself\u001b[0m\u001b[0;34m.\u001b[0m\u001b[0m_output\u001b[0m\u001b[0;34m.\u001b[0m\u001b[0mextend\u001b[0m\u001b[0;34m(\u001b[0m\u001b[0mjob\u001b[0m\u001b[0;34m.\u001b[0m\u001b[0mget\u001b[0m\u001b[0;34m(\u001b[0m\u001b[0;34m)\u001b[0m\u001b[0;34m)\u001b[0m\u001b[0;34m\u001b[0m\u001b[0;34m\u001b[0m\u001b[0m\n",
      "\u001b[0;32m/Users/ji/opt/anaconda3/envs/learn-env/lib/python3.6/site-packages/joblib/_parallel_backends.py\u001b[0m in \u001b[0;36mwrap_future_result\u001b[0;34m(future, timeout)\u001b[0m\n\u001b[1;32m    540\u001b[0m         AsyncResults.get from multiprocessing.\"\"\"\n\u001b[1;32m    541\u001b[0m         \u001b[0;32mtry\u001b[0m\u001b[0;34m:\u001b[0m\u001b[0;34m\u001b[0m\u001b[0;34m\u001b[0m\u001b[0m\n\u001b[0;32m--> 542\u001b[0;31m             \u001b[0;32mreturn\u001b[0m \u001b[0mfuture\u001b[0m\u001b[0;34m.\u001b[0m\u001b[0mresult\u001b[0m\u001b[0;34m(\u001b[0m\u001b[0mtimeout\u001b[0m\u001b[0;34m=\u001b[0m\u001b[0mtimeout\u001b[0m\u001b[0;34m)\u001b[0m\u001b[0;34m\u001b[0m\u001b[0;34m\u001b[0m\u001b[0m\n\u001b[0m\u001b[1;32m    543\u001b[0m         \u001b[0;32mexcept\u001b[0m \u001b[0mCfTimeoutError\u001b[0m \u001b[0;32mas\u001b[0m \u001b[0me\u001b[0m\u001b[0;34m:\u001b[0m\u001b[0;34m\u001b[0m\u001b[0;34m\u001b[0m\u001b[0m\n\u001b[1;32m    544\u001b[0m             \u001b[0;32mraise\u001b[0m \u001b[0mTimeoutError\u001b[0m \u001b[0;32mfrom\u001b[0m \u001b[0me\u001b[0m\u001b[0;34m\u001b[0m\u001b[0;34m\u001b[0m\u001b[0m\n",
      "\u001b[0;32m/Users/ji/opt/anaconda3/envs/learn-env/lib/python3.6/concurrent/futures/_base.py\u001b[0m in \u001b[0;36mresult\u001b[0;34m(self, timeout)\u001b[0m\n\u001b[1;32m    425\u001b[0m                 \u001b[0;32mreturn\u001b[0m \u001b[0mself\u001b[0m\u001b[0;34m.\u001b[0m\u001b[0m__get_result\u001b[0m\u001b[0;34m(\u001b[0m\u001b[0;34m)\u001b[0m\u001b[0;34m\u001b[0m\u001b[0;34m\u001b[0m\u001b[0m\n\u001b[1;32m    426\u001b[0m \u001b[0;34m\u001b[0m\u001b[0m\n\u001b[0;32m--> 427\u001b[0;31m             \u001b[0mself\u001b[0m\u001b[0;34m.\u001b[0m\u001b[0m_condition\u001b[0m\u001b[0;34m.\u001b[0m\u001b[0mwait\u001b[0m\u001b[0;34m(\u001b[0m\u001b[0mtimeout\u001b[0m\u001b[0;34m)\u001b[0m\u001b[0;34m\u001b[0m\u001b[0;34m\u001b[0m\u001b[0m\n\u001b[0m\u001b[1;32m    428\u001b[0m \u001b[0;34m\u001b[0m\u001b[0m\n\u001b[1;32m    429\u001b[0m             \u001b[0;32mif\u001b[0m \u001b[0mself\u001b[0m\u001b[0;34m.\u001b[0m\u001b[0m_state\u001b[0m \u001b[0;32min\u001b[0m \u001b[0;34m[\u001b[0m\u001b[0mCANCELLED\u001b[0m\u001b[0;34m,\u001b[0m \u001b[0mCANCELLED_AND_NOTIFIED\u001b[0m\u001b[0;34m]\u001b[0m\u001b[0;34m:\u001b[0m\u001b[0;34m\u001b[0m\u001b[0;34m\u001b[0m\u001b[0m\n",
      "\u001b[0;32m/Users/ji/opt/anaconda3/envs/learn-env/lib/python3.6/threading.py\u001b[0m in \u001b[0;36mwait\u001b[0;34m(self, timeout)\u001b[0m\n\u001b[1;32m    293\u001b[0m         \u001b[0;32mtry\u001b[0m\u001b[0;34m:\u001b[0m    \u001b[0;31m# restore state no matter what (e.g., KeyboardInterrupt)\u001b[0m\u001b[0;34m\u001b[0m\u001b[0;34m\u001b[0m\u001b[0m\n\u001b[1;32m    294\u001b[0m             \u001b[0;32mif\u001b[0m \u001b[0mtimeout\u001b[0m \u001b[0;32mis\u001b[0m \u001b[0;32mNone\u001b[0m\u001b[0;34m:\u001b[0m\u001b[0;34m\u001b[0m\u001b[0;34m\u001b[0m\u001b[0m\n\u001b[0;32m--> 295\u001b[0;31m                 \u001b[0mwaiter\u001b[0m\u001b[0;34m.\u001b[0m\u001b[0macquire\u001b[0m\u001b[0;34m(\u001b[0m\u001b[0;34m)\u001b[0m\u001b[0;34m\u001b[0m\u001b[0;34m\u001b[0m\u001b[0m\n\u001b[0m\u001b[1;32m    296\u001b[0m                 \u001b[0mgotit\u001b[0m \u001b[0;34m=\u001b[0m \u001b[0;32mTrue\u001b[0m\u001b[0;34m\u001b[0m\u001b[0;34m\u001b[0m\u001b[0m\n\u001b[1;32m    297\u001b[0m             \u001b[0;32melse\u001b[0m\u001b[0;34m:\u001b[0m\u001b[0;34m\u001b[0m\u001b[0;34m\u001b[0m\u001b[0m\n",
      "\u001b[0;31mKeyboardInterrupt\u001b[0m: "
     ]
    }
   ],
   "source": [
    "# create dictionary of hyperparameters to tune\n",
    "param_grid = {'learning_rate': [0.1, 0.01],\n",
    "              'max_depth': [None, 2, 4, 10],\n",
    "              'min_child_weight': [1, 2, 3],\n",
    "              'subsample': [0.5, 0.7],\n",
    "              'n_estimators': [100, 200 ,300]}\n",
    "\n",
    "# create grid search object and fit to data\n",
    "grid_boost = GridSearchCV(XGBClassifier(random_state=23),\n",
    "                          param_grid,\n",
    "                          cv=2,\n",
    "                          scoring='accuracy',\n",
    "                          verbose=1,\n",
    "                          n_jobs=-1)\n",
    "\n",
    "#fit model\n",
    "grid_boost.fit(X_train, y_train)\n",
    "\n",
    "# pickle grid hyperparameters\n",
    "pickle_out = open(\"xgb_grid.pickle\",\"wb\")\n",
    "pickle.dump(grid_boost, pickle_out)\n",
    "pickle_out.close()"
   ]
  },
  {
   "cell_type": "code",
   "execution_count": null,
   "metadata": {},
   "outputs": [],
   "source": [
    "#print best parameters\n",
    "from pprint import pprint\n",
    "print('Best XGB Parameters:\\n')\n",
    "grid_boost.best_params_"
   ]
  },
  {
   "cell_type": "code",
   "execution_count": null,
   "metadata": {},
   "outputs": [],
   "source": [
    "#Run Test Predictions\n",
    "xgbb_best_preds = grid_boost.predict(X_test) \n",
    "\n",
    "#Run metrics\n",
    "xgbb_recall = recall_score(y_test, xgbb_best_preds, average='weighted')\n",
    "xgbb_acc_score = accuracy_score(y_test, xgbb_best_preds)\n",
    "xgbb_f1_score = f1_score(y_test, xgbb_best_preds, average='weighted')\n",
    "\n",
    "#print results\n",
    "print('Grid Search XGB:')\n",
    "print(3*'-----')\n",
    "\n",
    "print('Recall: {:.4}'.format(xgbb_recall))\n",
    "\n",
    "print(\"Testing Accuracy: {:.4}\".format(xgbb_acc_score))\n",
    "print(\"F1 Score: {:.4}\".format(xgbb_f1_score))"
   ]
  },
  {
   "cell_type": "markdown",
   "metadata": {},
   "source": [
    "#### LGBM Grid Search "
   ]
  },
  {
   "cell_type": "code",
   "execution_count": 37,
   "metadata": {},
   "outputs": [
    {
     "name": "stdout",
     "output_type": "stream",
     "text": [
      "Fitting 2 folds for each of 384 candidates, totalling 768 fits\n"
     ]
    },
    {
     "name": "stderr",
     "output_type": "stream",
     "text": [
      "[Parallel(n_jobs=-1)]: Using backend LokyBackend with 4 concurrent workers.\n",
      "[Parallel(n_jobs=-1)]: Done  42 tasks      | elapsed:   54.4s\n",
      "[Parallel(n_jobs=-1)]: Done 192 tasks      | elapsed:  4.0min\n",
      "[Parallel(n_jobs=-1)]: Done 442 tasks      | elapsed:  9.1min\n",
      "[Parallel(n_jobs=-1)]: Done 768 out of 768 | elapsed: 15.8min finished\n"
     ]
    }
   ],
   "source": [
    "# create dictionary of hyperparameters to tune\n",
    "param_grid = {'n_estimators': [100, 200],\n",
    "                'colsample_bytree': [0.7, 0.8],\n",
    "                'max_depth': [15, 20],\n",
    "                'num_leaves': [50, 100, 200],\n",
    "                'min_split_gain': [0.3,0.4],\n",
    "                'reg_alpha': [1.0, 1.1],\n",
    "                'reg_lambda': [1.45, 1.5],\n",
    "                'subsample': [0.7, 0.75],\n",
    "                'subsample_freq': [20]\n",
    "               }\n",
    "\n",
    "# create grid search object and fit to data\n",
    "grid_lgbm = GridSearchCV(lgbm,\n",
    "                        param_grid,\n",
    "                        cv=2,\n",
    "                        scoring='accuracy',\n",
    "                        verbose=1,\n",
    "                        n_jobs=-1,\n",
    "                        error_score=0)\n",
    "\n",
    "#fit model\n",
    "grid_lgbm.fit(X_train, y_train)\n",
    "\n",
    "# pickle grid hyperparameters\n",
    "pickle_out = open(\"lgbm_grid.pickle\",\"wb\")\n",
    "pickle.dump(grid_lgbm, pickle_out)\n",
    "pickle_out.close()"
   ]
  },
  {
   "cell_type": "code",
   "execution_count": 39,
   "metadata": {},
   "outputs": [
    {
     "name": "stdout",
     "output_type": "stream",
     "text": [
      "Best LGBM Parameters:\n",
      "\n"
     ]
    },
    {
     "data": {
      "text/plain": [
       "{'colsample_bytree': 0.7,\n",
       " 'max_depth': 15,\n",
       " 'min_split_gain': 0.4,\n",
       " 'n_estimators': 100,\n",
       " 'num_leaves': 50,\n",
       " 'reg_alpha': 1.0,\n",
       " 'reg_lambda': 1.5,\n",
       " 'subsample': 0.7,\n",
       " 'subsample_freq': 20}"
      ]
     },
     "execution_count": 39,
     "metadata": {},
     "output_type": "execute_result"
    }
   ],
   "source": [
    "#print best parameters\n",
    "from pprint import pprint\n",
    "print('Best LGBM Parameters:\\n')\n",
    "grid_lgbm.best_params_"
   ]
  },
  {
   "cell_type": "code",
   "execution_count": 40,
   "metadata": {},
   "outputs": [
    {
     "name": "stdout",
     "output_type": "stream",
     "text": [
      "Grid Search LGBM:\n",
      "---------------\n",
      "Recall: 0.5771\n",
      "Testing Accuracy: 0.5771\n",
      "F1 Score: 0.5678\n"
     ]
    }
   ],
   "source": [
    "#Run Test Predictions\n",
    "lgbmb_best_preds = grid_lgbm.predict(X_test) \n",
    "\n",
    "#Run metrics\n",
    "lgbmb_recall = recall_score(y_test, lgbmb_best_preds, average='weighted')\n",
    "lgbmb_acc_score = accuracy_score(y_test, lgbmb_best_preds)\n",
    "lgbmb_f1_score = f1_score(y_test, lgbmb_best_preds, average='weighted')\n",
    "\n",
    "#print results\n",
    "print('Grid Search LGBM:')\n",
    "print(3*'-----')\n",
    "\n",
    "print('Recall: {:.4}'.format(lgbmb_recall))\n",
    "\n",
    "print(\"Testing Accuracy: {:.4}\".format(lgbmb_acc_score))\n",
    "print(\"F1 Score: {:.4}\".format(lgbmb_f1_score))"
   ]
  },
  {
   "cell_type": "code",
   "execution_count": null,
   "metadata": {},
   "outputs": [],
   "source": []
  },
  {
   "cell_type": "code",
   "execution_count": null,
   "metadata": {},
   "outputs": [],
   "source": []
  },
  {
   "cell_type": "code",
   "execution_count": null,
   "metadata": {},
   "outputs": [],
   "source": []
  },
  {
   "cell_type": "code",
   "execution_count": 42,
   "metadata": {},
   "outputs": [],
   "source": [
    "# load grid hyperparameters\n",
    "\n",
    "grid_forest = pd.read_pickle('rf_grid.pickle')\n",
    "grid_boost = pd.read_pickle('xgb_grid.pickle')\n",
    "grid_lgbm = pd.read_pickle('lgbm_grid.pickle')"
   ]
  },
  {
   "cell_type": "code",
   "execution_count": 46,
   "metadata": {},
   "outputs": [],
   "source": [
    "\n",
    "\"\"\"random forest\"\"\"\n",
    "# print random forest hyperparameters\n",
    "# print(\"Random Forest:\",\n",
    "#       f\"num estimators = {grid_forest.best_params_['n_estimators']},\",\n",
    "#       #f\"criterion = {grid_forest.best_params_['criterion']},\",\n",
    "#       f\"max depth = {grid_forest.best_params_['max_depth']},\",\n",
    "#       f\"max features = {grid_forest.best_params_['max_features']}\")\n",
    "\n",
    "# instantiate random forest classifier\n",
    "rf_classifier = RandomForestClassifier(#criterion=grid_forest.best_params_['criterion'],\n",
    "                                       max_depth=grid_forest.best_params_['max_depth'],\n",
    "                                       max_features=grid_forest.best_params_['max_features'],\n",
    "                                       n_estimators=grid_forest.best_params_['n_estimators'],\n",
    "                                       class_weight=grid_forest.best_params_['class_weight'],\n",
    "                                       min_samples_leaf=grid_forest.best_params_['min_samples_leaf'],\n",
    "                                       min_samples_split=grid_forest.best_params_['min_samples_split'], \n",
    "                                       random_state=42)\n",
    "\n",
    "# fit and predict on random forest classifier\n",
    "rf_classifier.fit(X_train, y_train)\n",
    "rf_train_preds = rf_classifier.predict(X_train)\n",
    "rf_test_preds = rf_classifier.predict(X_test)"
   ]
  },
  {
   "cell_type": "code",
   "execution_count": 47,
   "metadata": {},
   "outputs": [],
   "source": [
    "\n",
    "\"\"\"xgboost\"\"\"\n",
    "# print xgboost hyperparameters\n",
    "# print(\"XGBoost:\",\n",
    "#       f\"learning rate = {grid_boost.best_params_['learning_rate']},\",\n",
    "#       f\"max depth = {grid_boost.best_params_['max_depth']},\",\n",
    "#       f\"min child weight = {grid_boost.best_params_['min_child_weight']},\",\n",
    "#       f\"subsample = {grid_boost.best_params_['subsample']},\",\n",
    "#       f\"num estimators = {grid_boost.best_params_['n_estimators']}\")\n",
    "\n",
    "# instantiate xgboost classifier\n",
    "xgb_classifier = XGBClassifier(learning_rate=grid_boost.best_params_['learning_rate'],\n",
    "                               max_depth=grid_boost.best_params_['max_depth'],\n",
    "                               min_child_weight=grid_boost.best_params_['min_child_weight'],\n",
    "                               subsample=grid_boost.best_params_['subsample'],\n",
    "                               n_estimators=grid_boost.best_params_['n_estimators'],\n",
    "                               random_state=42)\n",
    "\n",
    "# fit and predict on xgboost classifier\n",
    "xgb_classifier.fit(X_train, y_train)\n",
    "xgb_train_preds = xgb_classifier.predict(X_train)\n",
    "xgb_test_preds = xgb_classifier.predict(X_test)"
   ]
  },
  {
   "cell_type": "code",
   "execution_count": 49,
   "metadata": {},
   "outputs": [],
   "source": [
    "\n",
    "\"\"\"LightGBM\"\"\"\n",
    "\n",
    "# print LightGBM hyperparameters\n",
    "# print(\"LightGBM:\",\n",
    "#       f\"n_estimators = {grid_log.best_params_['n_estimators']},\",\n",
    "#       f\"boosting = {grid_log.best_params_['boosting']}\",\n",
    "#       f\"colsample_bytree = {grid_log.best_params_['colsample_bytree']}\",\n",
    "#       f\"max_depth = {grid_log.best_params_['max_depth']}\",\n",
    "#       f\"num_leaves = {grid_log.best_params_['num_leaves']}\",\n",
    "#       f\"min_split_gain = {grid_log.best_params_['min_split_gain']}\",\n",
    "#       f\"colsample_bytree = {grid_log.best_params_['colsample_bytree']}\")  \n",
    "\n",
    "# instantiate LogReg classifier\n",
    "grid_lgbm_classifier = LGBMClassifier(\n",
    "                               n_estimators = grid_lgbm.best_params_['n_estimators'],\n",
    "                               colsample_bytree = grid_lgbm.best_params_['colsample_bytree'], \n",
    "                               max_depth = grid_lgbm.best_params_['max_depth'],\n",
    "                               num_leaves = grid_lgbm.best_params_['num_leaves'], \n",
    "                               min_split_gain = grid_lgbm.best_params_['min_split_gain'], \n",
    "                               reg_alpha = grid_lgbm.best_params_['reg_alpha'],\n",
    "                               reg_lambda = grid_lgbm.best_params_['reg_lambda'], \n",
    "                               subsample = grid_lgbm.best_params_['subsample'], \n",
    "                               subsample_freq = grid_lgbm.best_params_['subsample_freq'],  \n",
    "                              random_state = 42)\n",
    "\n",
    "# fit and predict on logreg classifier\n",
    "grid_lgbm_classifier.fit(X_train, y_train)\n",
    "lgbm_train_preds = grid_lgbm_classifier.predict(X_train)\n",
    "lgbm_test_preds = grid_lgbm_classifier.predict(X_test)"
   ]
  },
  {
   "cell_type": "code",
   "execution_count": 53,
   "metadata": {},
   "outputs": [],
   "source": [
    "def metrics(train_preds, y_train, test_preds, y_test):\n",
    "    \n",
    "    print(f\"Training Accuracy:\\t{accuracy_score(y_train, train_preds):.4}\",\n",
    "          f\"\\tTesting Accuracy:\\t{accuracy_score(y_test, test_preds):.4}\")\n",
    "\n",
    "    print(f\"Training Precision:\\t{precision_score(y_train, train_preds, average='weighted'):.4}\",\n",
    "          f\"\\tTesting Precision:\\t{precision_score(y_test, test_preds, average='weighted'):.4}\")\n",
    "\n",
    "    print(f\"Training Recall:\\t{recall_score(y_train, train_preds, average='weighted'):.4}\",\n",
    "          f\"\\tTesting Recall:\\t\\t{recall_score(y_test, test_preds, average='weighted'):.4}\")\n",
    "\n",
    "    print(f\"Training F1:\\t\\t{f1_score(y_train, train_preds, average='weighted'):.4}\",\n",
    "          f\"\\tTesting F1:\\t\\t{f1_score(y_test, test_preds, average='weighted'):.4}\")"
   ]
  },
  {
   "cell_type": "code",
   "execution_count": 54,
   "metadata": {},
   "outputs": [
    {
     "name": "stdout",
     "output_type": "stream",
     "text": [
      "RANDOM FOREST: \n",
      "\n",
      "Training Accuracy:\t0.8141 \tTesting Accuracy:\t0.5809\n",
      "Training Precision:\t0.814 \tTesting Precision:\t0.5707\n",
      "Training Recall:\t0.8141 \tTesting Recall:\t\t0.5809\n",
      "Training F1:\t\t0.8104 \tTesting F1:\t\t0.573\n",
      "\n",
      "\n",
      "XGBOOST: \n",
      "\n",
      "Training Accuracy:\t0.6814 \tTesting Accuracy:\t0.5848\n",
      "Training Precision:\t0.6798 \tTesting Precision:\t0.5598\n",
      "Training Recall:\t0.6814 \tTesting Recall:\t\t0.5848\n",
      "Training F1:\t\t0.6672 \tTesting F1:\t\t0.5632\n",
      "\n",
      "\n",
      "LightGBM: \n",
      "\n",
      "Training Accuracy:\t0.8844 \tTesting Accuracy:\t0.5851\n",
      "Training Precision:\t0.8845 \tTesting Precision:\t0.5708\n",
      "Training Recall:\t0.8844 \tTesting Recall:\t\t0.5851\n",
      "Training F1:\t\t0.8833 \tTesting F1:\t\t0.576\n"
     ]
    }
   ],
   "source": [
    "from sklearn.metrics import roc_curve, auc, accuracy_score, precision_score, f1_score, recall_score, confusion_matrix\n",
    "\n",
    "# using function metrics from utils file\n",
    "\n",
    "print('RANDOM FOREST: \\n')\n",
    "metrics(rf_train_preds, y_train, rf_test_preds, y_test)\n",
    "\n",
    "print('\\n\\nXGBOOST: \\n')\n",
    "metrics(xgb_train_preds, y_train, xgb_test_preds, y_test)\n",
    "\n",
    "print('\\n\\nLightGBM: \\n')\n",
    "metrics(lgbm_train_preds, y_train, lgbm_test_preds, y_test)"
   ]
  },
  {
   "cell_type": "code",
   "execution_count": 52,
   "metadata": {},
   "outputs": [
    {
     "data": {
      "image/png": "[encoded data removed]",
      "text/plain": [
       "<Figure size 1944x504 with 6 Axes>"
      ]
     },
     "metadata": {
      "needs_background": "light"
     },
     "output_type": "display_data"
    }
   ],
   "source": [
    "sns.color_palette(\"bright\")\n",
    "sns.set_context(\"talk\")\n",
    "\n",
    "fig, ax = plt.subplots(nrows=1, ncols=3, figsize=(27, 7))\n",
    "\n",
    "\n",
    "\"\"\"random forest\"\"\"\n",
    "# plot random forest confusion matrix\n",
    "sns.heatmap(confusion_matrix(y_test, rf_test_preds).T,\n",
    "            square=True,\n",
    "            annot=True,\n",
    "            fmt='d',\n",
    "            linewidths=1,\n",
    "            vmin=200, vmax=1000, center=200,\n",
    "            cbar_kws={\"shrink\": .75},\n",
    "### Evaluate model metrics\n",
    "            ax=ax[0]).set_title('Random Forest\\nConfusion Matrix', fontsize=30)\n",
    "\n",
    "ax[0].set_xlabel('Truth', fontsize=25)\n",
    "ax[0].set_ylabel('Prediction', fontsize=25)\n",
    "ax[0].set_xticklabels(['Negative', 'Neutral', 'Positive'], fontsize=15)\n",
    "ax[0].set_yticklabels(['Negative', 'Neutral', 'Positive'], va='center', fontsize=15)\n",
    "\n",
    "\n",
    "\"\"\"xgboost\"\"\"\n",
    "# plot xgboost confusion matrix\n",
    "sns.heatmap(confusion_matrix(y_test, xgb_test_preds).T,\n",
    "            square=True,\n",
    "            annot=True,\n",
    "            fmt='d',\n",
    "            linewidths=1,\n",
    "            vmin=200, vmax=1000, center=200,\n",
    "            cbar_kws={\"shrink\": .75},\n",
    "            ax=ax[1]).set_title('XGBoost\\nConfusion Matrix', fontsize=30)\n",
    "\n",
    "ax[1].set_xlabel('Truth', fontsize=25)\n",
    "ax[1].set_ylabel('Prediction', fontsize=25)\n",
    "ax[1].set_xticklabels(['Negative', 'Neutral', 'Positive'], fontsize=15)\n",
    "ax[1].set_yticklabels(['Negative', 'Neutral', 'Positive'], va='center', fontsize=15)\n",
    "\n",
    "\n",
    "\"\"\"LMGB\"\"\"\n",
    "# plot LightGBM confusion matrix\n",
    "\n",
    "sns.heatmap(confusion_matrix(y_test, lgbm_test_preds).T,\n",
    "            square=True,\n",
    "            annot=True,\n",
    "            fmt='d',\n",
    "            linewidths=1,\n",
    "            vmin=200, vmax=1000, center=200,\n",
    "            cbar_kws={\"shrink\": .75},\n",
    "            ax=ax[2]).set_title('LightGBM\\nConfusion Matrix', fontsize=30)\n",
    "\n",
    "ax[2].set_xlabel('Truth', fontsize=25)\n",
    "ax[2].set_ylabel('Prediction', fontsize=25)\n",
    "ax[2].set_xticklabels(['Negative', 'Neutral', 'Positive'], fontsize=15)\n",
    "ax[2].set_yticklabels(['Negative', 'Neutral', 'Positive'], va='center', fontsize=15)\n",
    "\n",
    "\n",
    "plt.savefig(fname='../images/conf_mtrx', bbox_inches='tight', pad_inches=.1)\n",
    "plt.show()"
   ]
  },
  {
   "cell_type": "code",
   "execution_count": null,
   "metadata": {},
   "outputs": [],
   "source": []
  },
  {
   "cell_type": "code",
   "execution_count": null,
   "metadata": {},
   "outputs": [],
   "source": []
  },
  {
   "cell_type": "code",
   "execution_count": null,
   "metadata": {},
   "outputs": [],
   "source": []
  },
  {
   "cell_type": "code",
   "execution_count": null,
   "metadata": {},
   "outputs": [],
   "source": []
  },
  {
   "cell_type": "code",
   "execution_count": null,
   "metadata": {},
   "outputs": [],
   "source": []
  },
  {
   "cell_type": "code",
   "execution_count": null,
   "metadata": {},
   "outputs": [],
   "source": []
  },
  {
   "cell_type": "code",
   "execution_count": null,
   "metadata": {},
   "outputs": [],
   "source": []
  },
  {
   "cell_type": "markdown",
   "metadata": {},
   "source": [
    "<a name=\"part5\"></a>\n",
    "## Conclusion \n",
    "\n",
    "In the end my best model was XGBoost with 59% accuracy. This indicates it was able to accurately classify reviews 59% percent of the time. This indicates that machine learning could be a better way to score company reviews and this the overall company rating versus relying on a self reported score. For my next steps I will try to improve on my two best models using grid search to see if I can improve accuracy scores. "
   ]
  },
  {
   "cell_type": "code",
   "execution_count": null,
   "metadata": {},
   "outputs": [],
   "source": []
  }
 ],
 "metadata": {
  "kernelspec": {
   "display_name": "learn-env",
   "language": "python",
   "name": "learn-env"
  },
  "language_info": {
   "codemirror_mode": {
    "name": "ipython",
    "version": 3
   },
   "file_extension": ".py",
   "mimetype": "text/x-python",
   "name": "python",
   "nbconvert_exporter": "python",
   "pygments_lexer": "ipython3",
   "version": "3.6.9"
  }
 },
 "nbformat": 4,
 "nbformat_minor": 4
}

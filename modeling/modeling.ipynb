{
 "cells": [
  {
   "cell_type": "markdown",
   "metadata": {},
   "source": [
    "# Modeling \n",
    "\n",
    "Having fully processed my data I am now ready to begin testing model to find the best move forward with for this data set. Based on previous experience I am choosing to test decision tree, KNN, random forest, and XGBoost "
   ]
  },
  {
   "cell_type": "markdown",
   "metadata": {},
   "source": [
    "### Table of Content\n",
    "\n",
    "1. [Load Packages](#part1) \n",
    "2. [Split, Vectorize, and Concat](#part2)\n",
    "3. [Model Testing](#part3)  \n",
    "    1.[Decision Tree](#part3a) \n",
    "    2.[Random Forest](#part3b) \n",
    "    3.[XGBoost](#part3c)\n",
    "    4.[KNN](#part3d) \n",
    "    5.[Light Gradient Boosted Machine (LightGBM)](#part3e) \n",
    "4. [Model Refinement](#part4)\n",
    "5. [Conclusion and Next Steps](#part5) \n"
   ]
  },
  {
   "cell_type": "markdown",
   "metadata": {},
   "source": [
    "<a name=\"part1\"></a>\n",
    "## Load Packages and Prepare Dataframe \n",
    "\n",
    "There are a few columns I will need to drop before train test split and I will do that here. "
   ]
  },
  {
   "cell_type": "code",
   "execution_count": 1,
   "metadata": {},
   "outputs": [],
   "source": [
    "#import packages\n",
    "import pandas as pd\n",
    "import numpy as np \n",
    "\n",
    "#Imports for plotting\n",
    "from ast import literal_eval \n",
    "import pickle\n",
    "import seaborn as sns\n",
    "import matplotlib.pyplot as plt   \n",
    "%matplotlib inline\n",
    "\n",
    "#options\n",
    "pd.options.mode.chained_assignment = None\n",
    "pd.set_option('display.max_colwidth', 100)\n",
    "pd.options.display.max_rows = 50\n",
    "import warnings\n",
    "warnings.filterwarnings('ignore') \n",
    "\n",
    "#NLP Packages\n",
    "import nltk\n",
    "from nltk.collocations import *\n",
    "from nltk.tokenize import word_tokenize\n",
    "from nltk.corpus import stopwords, wordnet\n",
    "from nltk.stem import WordNetLemmatizer \n",
    "from nltk.probability import FreqDist \n",
    "from nltk import RegexpTokenizer, PorterStemmer, pos_tag  \n",
    "from collections import Counter\n",
    "from sklearn.feature_extraction.text import CountVectorizer\n",
    "from sklearn.feature_extraction.text import TfidfVectorizer\n",
    "from sklearn.decomposition import LatentDirichletAllocation, NMF\n",
    "import string\n",
    "import re   \n",
    "from mpl_toolkits.mplot3d import Axes3D\n",
    "\n",
    "# sklearn\n",
    "from sklearn.feature_extraction.text import TfidfTransformer  \n",
    "from sklearn.ensemble import RandomForestClassifier\n",
    "from sklearn.preprocessing import StandardScaler\n",
    "from sklearn.model_selection import train_test_split, GridSearchCV, RandomizedSearchCV\n",
    "from sklearn.metrics import roc_curve, auc, accuracy_score, precision_score, f1_score, recall_score, confusion_matrix\n",
    "\n",
    "# xgboost\n",
    "from xgboost import XGBClassifier\n",
    "\n"
   ]
  },
  {
   "cell_type": "code",
   "execution_count": 2,
   "metadata": {},
   "outputs": [
    {
     "data": {
      "text/html": [
       "<div>\n",
       "<style scoped>\n",
       "    .dataframe tbody tr th:only-of-type {\n",
       "        vertical-align: middle;\n",
       "    }\n",
       "\n",
       "    .dataframe tbody tr th {\n",
       "        vertical-align: top;\n",
       "    }\n",
       "\n",
       "    .dataframe thead th {\n",
       "        text-align: right;\n",
       "    }\n",
       "</style>\n",
       "<table border=\"1\" class=\"dataframe\">\n",
       "  <thead>\n",
       "    <tr style=\"text-align: right;\">\n",
       "      <th></th>\n",
       "      <th>rating_overall</th>\n",
       "      <th>employee_title_title_known</th>\n",
       "      <th>employee_title_title_unknown</th>\n",
       "      <th>employee_status_current_employee</th>\n",
       "      <th>employee_status_former_employee</th>\n",
       "      <th>employee_status_unknown_status</th>\n",
       "      <th>helpful_helpful</th>\n",
       "      <th>helpful_not_helpful</th>\n",
       "      <th>recommends_does_not_recommend</th>\n",
       "      <th>recommends_recommends</th>\n",
       "      <th>...</th>\n",
       "      <th>adv</th>\n",
       "      <th>verb</th>\n",
       "      <th>characters</th>\n",
       "      <th>tokens</th>\n",
       "      <th>words</th>\n",
       "      <th>sentences</th>\n",
       "      <th>avg_word_len</th>\n",
       "      <th>avg_sent_len</th>\n",
       "      <th>stem_str</th>\n",
       "      <th>sentiment</th>\n",
       "    </tr>\n",
       "  </thead>\n",
       "  <tbody>\n",
       "    <tr>\n",
       "      <th>0</th>\n",
       "      <td>5.0</td>\n",
       "      <td>1</td>\n",
       "      <td>0</td>\n",
       "      <td>1</td>\n",
       "      <td>0</td>\n",
       "      <td>0</td>\n",
       "      <td>0</td>\n",
       "      <td>1</td>\n",
       "      <td>0</td>\n",
       "      <td>1</td>\n",
       "      <td>...</td>\n",
       "      <td>0.181818</td>\n",
       "      <td>0.181818</td>\n",
       "      <td>94</td>\n",
       "      <td>11</td>\n",
       "      <td>17</td>\n",
       "      <td>3</td>\n",
       "      <td>5.529412</td>\n",
       "      <td>5.666667</td>\n",
       "      <td>great alway room improv everybodi work togeth con love job helpfu</td>\n",
       "      <td>0.65</td>\n",
       "    </tr>\n",
       "  </tbody>\n",
       "</table>\n",
       "<p>1 rows × 42 columns</p>\n",
       "</div>"
      ],
      "text/plain": [
       "   rating_overall  employee_title_title_known  employee_title_title_unknown  \\\n",
       "0             5.0                           1                             0   \n",
       "\n",
       "   employee_status_current_employee  employee_status_former_employee  \\\n",
       "0                                 1                                0   \n",
       "\n",
       "   employee_status_unknown_status  helpful_helpful  helpful_not_helpful  \\\n",
       "0                               0                0                    1   \n",
       "\n",
       "   recommends_does_not_recommend  recommends_recommends  ...       adv  \\\n",
       "0                              0                      1  ...  0.181818   \n",
       "\n",
       "       verb  characters  tokens  words  sentences  avg_word_len  avg_sent_len  \\\n",
       "0  0.181818          94      11     17          3      5.529412      5.666667   \n",
       "\n",
       "                                                            stem_str  \\\n",
       "0  great alway room improv everybodi work togeth con love job helpfu   \n",
       "\n",
       "   sentiment  \n",
       "0       0.65  \n",
       "\n",
       "[1 rows x 42 columns]"
      ]
     },
     "execution_count": 2,
     "metadata": {},
     "output_type": "execute_result"
    }
   ],
   "source": [
    "#Load data\n",
    "df = pd.read_pickle('df_processed_full.pickle')\n",
    "\n",
    "#Preview dataset\n",
    "df.head(1)"
   ]
  },
  {
   "cell_type": "code",
   "execution_count": 3,
   "metadata": {},
   "outputs": [],
   "source": [
    "needed = ['rating_overall', 'employee_title_title_known','employee_title_title_unknown', 'employee_status_current_employee', \n",
    "          'employee_status_former_employee', 'employee_status_unknown_status', 'helpful_helpful', 'helpful_not_helpful','recommends_does_not_recommend',\n",
    "          'recommends_recommends','recommends_unknown_recommends', 'area_central', 'area_east_coast','area_mountain', 'area_outside_US', \n",
    "          'area_unknown', 'area_west_coast','company_outlook_negative_outlook', 'company_outlook_neutral_outlook',\n",
    "          'company_outlook_outlook_unknown', 'company_outlook_positive_outlook', 'opinion_of_CEO_approves_of_CEO', \n",
    "          'opinion_of_CEO_disapproves_of_CEO', 'opinion_of_CEO_no_opinion_of_CEO','opinion_of_CEO_unknown_opinion_of_CEO', \n",
    "           'noun', 'adj', 'adv', 'verb', 'characters','tokens', 'words', 'sentences', 'avg_word_len', 'avg_sent_len', 'stem_str', 'sentiment']\n",
    "\n",
    "dfa = df[needed] "
   ]
  },
  {
   "cell_type": "markdown",
   "metadata": {},
   "source": [
    "<a name=\"part2\"></a>\n",
    "## Split, Vectorize, and Concat \n",
    "\n",
    "Now my data is ready to split into testing and training sets, vectorize the text column, and concat it back with the rest of the data set."
   ]
  },
  {
   "cell_type": "code",
   "execution_count": 4,
   "metadata": {},
   "outputs": [],
   "source": [
    "# Seperate target from features \n",
    "X = dfa.drop(columns=['rating_overall'])\n",
    "y = dfa['rating_overall'] \n",
    "\n",
    "\n",
    "# Splitting data into testing and traning sets:\n",
    "X_train, X_test, y_train, y_test = train_test_split(X, y, test_size=0.80, random_state=21)"
   ]
  },
  {
   "cell_type": "code",
   "execution_count": 5,
   "metadata": {},
   "outputs": [
    {
     "name": "stdout",
     "output_type": "stream",
     "text": [
      "(2985, 36)\n",
      "(11941, 36)\n"
     ]
    }
   ],
   "source": [
    "#Check the shae\n",
    "print(X_train.shape) \n",
    "print(X_test.shape)"
   ]
  },
  {
   "cell_type": "code",
   "execution_count": 6,
   "metadata": {},
   "outputs": [],
   "source": [
    "#Set up TFIDF Vectorizer using bigrams and trigrams\n",
    "vectorizer = TfidfVectorizer(ngram_range=(2, 3),  # include uni and 3-rams only\n",
    "                            max_df=.999, min_df=.007) "
   ]
  },
  {
   "cell_type": "code",
   "execution_count": 7,
   "metadata": {},
   "outputs": [],
   "source": [
    "#Apply Vectorizer\n",
    "tfidf_data_train = vectorizer.fit_transform(X_train['stem_str'])\n",
    "tfidf_data_test = vectorizer.transform(X_test['stem_str'])"
   ]
  },
  {
   "cell_type": "code",
   "execution_count": 8,
   "metadata": {},
   "outputs": [
    {
     "name": "stdout",
     "output_type": "stream",
     "text": [
      "(2985, 233)\n",
      "(11941, 233)\n"
     ]
    }
   ],
   "source": [
    "print(tfidf_data_train.shape) \n",
    "print(tfidf_data_test.shape)"
   ]
  },
  {
   "cell_type": "code",
   "execution_count": 9,
   "metadata": {},
   "outputs": [],
   "source": [
    "#Drop original text columns\n",
    "X_train = X_train.drop(columns=['stem_str'])\n",
    "X_test = X_test.drop(columns=['stem_str']) \n",
    "# y_train = X_train.drop(columns=['stem_str'])\n",
    "# y_test = X_test.drop(columns=['stem_str'])"
   ]
  },
  {
   "cell_type": "code",
   "execution_count": 10,
   "metadata": {},
   "outputs": [
    {
     "name": "stdout",
     "output_type": "stream",
     "text": [
      "<class 'pandas.core.frame.DataFrame'>\n",
      "Int64Index: 2985 entries, 11454 to 5327\n",
      "Data columns (total 35 columns):\n",
      "employee_title_title_known               2985 non-null int64\n",
      "employee_title_title_unknown             2985 non-null int64\n",
      "employee_status_current_employee         2985 non-null int64\n",
      "employee_status_former_employee          2985 non-null int64\n",
      "employee_status_unknown_status           2985 non-null int64\n",
      "helpful_helpful                          2985 non-null int64\n",
      "helpful_not_helpful                      2985 non-null int64\n",
      "recommends_does_not_recommend            2985 non-null int64\n",
      "recommends_recommends                    2985 non-null int64\n",
      "recommends_unknown_recommends            2985 non-null int64\n",
      "area_central                             2985 non-null int64\n",
      "area_east_coast                          2985 non-null int64\n",
      "area_mountain                            2985 non-null int64\n",
      "area_outside_US                          2985 non-null int64\n",
      "area_unknown                             2985 non-null int64\n",
      "area_west_coast                          2985 non-null int64\n",
      "company_outlook_negative_outlook         2985 non-null int64\n",
      "company_outlook_neutral_outlook          2985 non-null int64\n",
      "company_outlook_outlook_unknown          2985 non-null int64\n",
      "company_outlook_positive_outlook         2985 non-null int64\n",
      "opinion_of_CEO_approves_of_CEO           2985 non-null int64\n",
      "opinion_of_CEO_disapproves_of_CEO        2985 non-null int64\n",
      "opinion_of_CEO_no_opinion_of_CEO         2985 non-null int64\n",
      "opinion_of_CEO_unknown_opinion_of_CEO    2985 non-null int64\n",
      "noun                                     2985 non-null float64\n",
      "adj                                      2985 non-null float64\n",
      "adv                                      2985 non-null float64\n",
      "verb                                     2985 non-null float64\n",
      "characters                               2985 non-null int64\n",
      "tokens                                   2985 non-null int64\n",
      "words                                    2985 non-null int64\n",
      "sentences                                2985 non-null int64\n",
      "avg_word_len                             2985 non-null float64\n",
      "avg_sent_len                             2985 non-null float64\n",
      "sentiment                                2985 non-null float64\n",
      "dtypes: float64(7), int64(28)\n",
      "memory usage: 839.5 KB\n"
     ]
    }
   ],
   "source": [
    "#Confirm all columns are numerical\n",
    "X_train.info()"
   ]
  },
  {
   "cell_type": "code",
   "execution_count": 11,
   "metadata": {},
   "outputs": [
    {
     "name": "stdout",
     "output_type": "stream",
     "text": [
      "Average Number of Non-Zero Elements in Vectorized Articles: 3.5608040201005027\n",
      "Percentage of columns containing 0: 0.9847175793128734\n"
     ]
    }
   ],
   "source": [
    "#Check number of zero columns and percent\n",
    "non_zero_cols = tfidf_data_train.nnz / float(tfidf_data_train.shape[0])\n",
    "print(\"Average Number of Non-Zero Elements in Vectorized Articles: {}\".format(non_zero_cols))\n",
    "\n",
    "percent_sparse = 1 - (non_zero_cols / float(tfidf_data_train.shape[1]))\n",
    "print('Percentage of columns containing 0: {}'.format(percent_sparse))"
   ]
  },
  {
   "cell_type": "code",
   "execution_count": 12,
   "metadata": {},
   "outputs": [],
   "source": [
    "# Convert tfidf to array and concatenate train and test sets\n",
    "X_train = pd.concat([pd.DataFrame(tfidf_data_train.toarray()), X_train.reset_index()], axis = 1)\n",
    "X_test = pd.concat([pd.DataFrame(tfidf_data_test.toarray()), X_test.reset_index()], axis = 1)"
   ]
  },
  {
   "cell_type": "code",
   "execution_count": 14,
   "metadata": {},
   "outputs": [
    {
     "data": {
      "text/plain": [
       "5.0    6905\n",
       "4.0    4318\n",
       "3.0    2017\n",
       "2.0     955\n",
       "1.0     731\n",
       "Name: rating_overall, dtype: int64"
      ]
     },
     "execution_count": 14,
     "metadata": {},
     "output_type": "execute_result"
    }
   ],
   "source": [
    "y.value_counts()"
   ]
  },
  {
   "cell_type": "markdown",
   "metadata": {},
   "source": [
    "<a name=\"part3\"></a>\n",
    "## Model Testing \n",
    "\n",
    "Below I will run decision tree, random forest, xgboost, and knn to see which one gives the best results for my data before moving on to tuning that model."
   ]
  },
  {
   "cell_type": "markdown",
   "metadata": {},
   "source": [
    "<a name=\"part3a\"></a>\n",
    "### Decision Tree"
   ]
  },
  {
   "cell_type": "code",
   "execution_count": 73,
   "metadata": {},
   "outputs": [],
   "source": [
    "#Import packages\n",
    "from sklearn.tree import DecisionTreeClassifier"
   ]
  },
  {
   "cell_type": "code",
   "execution_count": 74,
   "metadata": {},
   "outputs": [
    {
     "data": {
      "text/plain": [
       "DecisionTreeClassifier(ccp_alpha=0.0, class_weight=None, criterion='entropy',\n",
       "                       max_depth=None, max_features=None, max_leaf_nodes=None,\n",
       "                       min_impurity_decrease=0.0, min_impurity_split=None,\n",
       "                       min_samples_leaf=1, min_samples_split=2,\n",
       "                       min_weight_fraction_leaf=0.0, presort='deprecated',\n",
       "                       random_state=23, splitter='best')"
      ]
     },
     "execution_count": 74,
     "metadata": {},
     "output_type": "execute_result"
    }
   ],
   "source": [
    "#Instantiate Decision tree model\n",
    "clf = DecisionTreeClassifier(criterion='entropy', random_state=23)\n",
    "#Fit the model to data\n",
    "clf.fit(X_train, y_train) "
   ]
  },
  {
   "cell_type": "code",
   "execution_count": 75,
   "metadata": {},
   "outputs": [],
   "source": [
    "#Run Test Predictions\n",
    "dt_test_preds = clf.predict(X_test)"
   ]
  },
  {
   "cell_type": "code",
   "execution_count": 76,
   "metadata": {},
   "outputs": [
    {
     "data": {
      "image/png": "[encoded data removed]",
      "text/plain": [
       "<Figure size 432x288 with 2 Axes>"
      ]
     },
     "metadata": {
      "needs_background": "light"
     },
     "output_type": "display_data"
    }
   ],
   "source": [
    "#Get the confusion matrix\n",
    "cf_matrix = confusion_matrix(y_test, dt_test_preds)\n",
    "\n",
    "sns.heatmap(cf_matrix/np.sum(cf_matrix), annot=True, \n",
    "            fmt='.2%', cmap='Blues') \n",
    "plt.show()"
   ]
  },
  {
   "cell_type": "code",
   "execution_count": 77,
   "metadata": {},
   "outputs": [
    {
     "name": "stdout",
     "output_type": "stream",
     "text": [
      "Decision Tree:\n",
      "---------------\n",
      "Recall: 0.4974\n",
      "Testing Accuracy: 0.4974\n",
      "F1 Score: 0.4974\n"
     ]
    }
   ],
   "source": [
    "#Run Metrics\n",
    "dt_recall = recall_score(y_test, dt_test_preds, average='weighted')\n",
    "dt_acc_score = accuracy_score(y_test, dt_test_preds)\n",
    "dt_f1_score = f1_score(y_test, dt_test_preds, average='weighted')\n",
    "print('Decision Tree:')\n",
    "print(3*'-----')\n",
    "\n",
    "print('Recall: {:.4}'.format(dt_recall))\n",
    "print(\"Testing Accuracy: {:.4}\".format(dt_acc_score))\n",
    "print(\"F1 Score: {:.4}\".format(dt_f1_score))"
   ]
  },
  {
   "cell_type": "markdown",
   "metadata": {},
   "source": [
    "<a name=\"part3b\"></a>\n",
    "### Random Forest"
   ]
  },
  {
   "cell_type": "code",
   "execution_count": 35,
   "metadata": {},
   "outputs": [
    {
     "data": {
      "text/plain": [
       "RandomForestClassifier(bootstrap=True, ccp_alpha=0.0, class_weight=None,\n",
       "                       criterion='gini', max_depth=None, max_features='auto',\n",
       "                       max_leaf_nodes=None, max_samples=None,\n",
       "                       min_impurity_decrease=0.0, min_impurity_split=None,\n",
       "                       min_samples_leaf=1, min_samples_split=2,\n",
       "                       min_weight_fraction_leaf=0.0, n_estimators=100,\n",
       "                       n_jobs=None, oob_score=False, random_state=23, verbose=0,\n",
       "                       warm_start=False)"
      ]
     },
     "execution_count": 35,
     "metadata": {},
     "output_type": "execute_result"
    }
   ],
   "source": [
    "#Initialize Classifier \n",
    "rf_classifier = RandomForestClassifier(n_estimators=100, random_state=23)\n",
    "#Fit Classifier to Data\n",
    "rf_classifier.fit(X_train, y_train)"
   ]
  },
  {
   "cell_type": "code",
   "execution_count": 36,
   "metadata": {},
   "outputs": [],
   "source": [
    "#Run Test Predictions\n",
    "rf_test_preds = rf_classifier.predict(X_test)"
   ]
  },
  {
   "cell_type": "code",
   "execution_count": 37,
   "metadata": {},
   "outputs": [
    {
     "data": {
      "image/png": "[encoded data removed]",
      "text/plain": [
       "<Figure size 432x288 with 2 Axes>"
      ]
     },
     "metadata": {
      "needs_background": "light"
     },
     "output_type": "display_data"
    }
   ],
   "source": [
    "#Get the confusion matrix\n",
    "cf_matrix = confusion_matrix(y_test, rf_test_preds)\n",
    "\n",
    "sns.heatmap(cf_matrix/np.sum(cf_matrix), annot=True, \n",
    "            fmt='.2%', cmap='Blues') \n",
    "plt.show()"
   ]
  },
  {
   "cell_type": "code",
   "execution_count": 38,
   "metadata": {},
   "outputs": [
    {
     "data": {
      "text/plain": [
       "5.0    1.000000\n",
       "4.0    1.565415\n",
       "3.0    3.474747\n",
       "2.0    7.166667\n",
       "1.0    9.690141\n",
       "Name: rating_overall, dtype: float64"
      ]
     },
     "execution_count": 38,
     "metadata": {},
     "output_type": "execute_result"
    }
   ],
   "source": [
    "#Checking the counts of each class, normalizing them, and then translating them to wieghts\n",
    "weights = y_train.value_counts(normalize=True).apply(lambda x: 1/x )   \n",
    "weights = weights / weights.min() \n",
    "weights"
   ]
  },
  {
   "cell_type": "code",
   "execution_count": 39,
   "metadata": {},
   "outputs": [
    {
     "data": {
      "text/plain": [
       "{5: 1.0,\n",
       " 4: 1.565415244596132,\n",
       " 3: 3.474747474747475,\n",
       " 2: 7.166666666666667,\n",
       " 1: 9.690140845070424}"
      ]
     },
     "execution_count": 39,
     "metadata": {},
     "output_type": "execute_result"
    }
   ],
   "source": [
    "#Attaching the weights a dictionary\n",
    "weights = dict(zip([5,4,3,2,1], weights.values)) \n",
    "weights"
   ]
  },
  {
   "cell_type": "code",
   "execution_count": 40,
   "metadata": {},
   "outputs": [
    {
     "name": "stdout",
     "output_type": "stream",
     "text": [
      "Random Forest with Stematized Features:\n",
      "---------------\n",
      "Recall: 0.5808\n",
      "Testing Accuracy: 0.5808\n",
      "F1 Score: 0.5598\n"
     ]
    }
   ],
   "source": [
    "#Run Metrics\n",
    "rf_recall = recall_score(y_test, rf_test_preds, average='weighted')\n",
    "rf_acc_score = accuracy_score(y_test, rf_test_preds)\n",
    "rf_f1_score = f1_score(y_test, rf_test_preds, average='weighted')\n",
    "print('Random Forest with Stematized Features:')\n",
    "print(3*'-----')\n",
    "\n",
    "print('Recall: {:.4}'.format(rf_recall))\n",
    "print(\"Testing Accuracy: {:.4}\".format(rf_acc_score))\n",
    "print(\"F1 Score: {:.4}\".format(rf_f1_score))"
   ]
  },
  {
   "cell_type": "markdown",
   "metadata": {},
   "source": [
    "<a name=\"part3c\"></a>\n",
    "### XGBoost"
   ]
  },
  {
   "cell_type": "code",
   "execution_count": 41,
   "metadata": {},
   "outputs": [
    {
     "data": {
      "text/plain": [
       "XGBClassifier(base_score=0.5, booster='gbtree', colsample_bylevel=1,\n",
       "              colsample_bynode=1, colsample_bytree=1, gamma=0,\n",
       "              learning_rate=0.1, max_delta_step=0, max_depth=3,\n",
       "              min_child_weight=1, missing=None, n_estimators=100, n_jobs=1,\n",
       "              nthread=None, objective='multi:softprob', random_state=23,\n",
       "              reg_alpha=0, reg_lambda=1, scale_pos_weight=1, seed=None,\n",
       "              silent=None, subsample=1, verbosity=1)"
      ]
     },
     "execution_count": 41,
     "metadata": {},
     "output_type": "execute_result"
    }
   ],
   "source": [
    "#Instantiate Model\n",
    "xgb = XGBClassifier(random_state=23)\n",
    "#Fit model to the data\n",
    "xgb.fit(X_train, y_train)"
   ]
  },
  {
   "cell_type": "code",
   "execution_count": 42,
   "metadata": {},
   "outputs": [],
   "source": [
    "#Run predictions\n",
    "xgb_test_preds = xgb.predict(X_test)"
   ]
  },
  {
   "cell_type": "code",
   "execution_count": 43,
   "metadata": {},
   "outputs": [
    {
     "data": {
      "image/png": "[encoded data removed]",
      "text/plain": [
       "<Figure size 432x288 with 2 Axes>"
      ]
     },
     "metadata": {
      "needs_background": "light"
     },
     "output_type": "display_data"
    }
   ],
   "source": [
    "#Get the confusion matrix\n",
    "cf_matrix = confusion_matrix(y_test, xgb_test_preds)\n",
    "\n",
    "sns.heatmap(cf_matrix/np.sum(cf_matrix), annot=True, \n",
    "            fmt='.2%', cmap='Blues') \n",
    "plt.show()"
   ]
  },
  {
   "cell_type": "code",
   "execution_count": 44,
   "metadata": {},
   "outputs": [
    {
     "name": "stdout",
     "output_type": "stream",
     "text": [
      "XGBOOST:\n",
      "---------------\n",
      "Recall: 0.59\n",
      "Testing Accuracy: 0.59\n",
      "F1 Score: 0.5722\n"
     ]
    }
   ],
   "source": [
    "#Run metrics\n",
    "xgb_recall = recall_score(y_test, xgb_test_preds, average='weighted')\n",
    "xgb_acc_score = accuracy_score(y_test, xgb_test_preds)\n",
    "xgb_f1_score = f1_score(y_test, xgb_test_preds, average='weighted')\n",
    "\n",
    "print('XGBOOST:')\n",
    "print(3*'-----')\n",
    "\n",
    "print('Recall: {:.4}'.format(xgb_recall))\n",
    "\n",
    "print(\"Testing Accuracy: {:.4}\".format(xgb_acc_score))\n",
    "print(\"F1 Score: {:.4}\".format(xgb_f1_score))"
   ]
  },
  {
   "cell_type": "markdown",
   "metadata": {},
   "source": [
    "<a name=\"part3d\"></a>\n",
    "### KNN "
   ]
  },
  {
   "cell_type": "code",
   "execution_count": 45,
   "metadata": {},
   "outputs": [],
   "source": [
    "from sklearn.neighbors import KNeighborsClassifier \n",
    "\n",
    "#Scale X_train and X_test for knn\n",
    "scaler = StandardScaler()\n",
    "scaled_X_train = scaler.fit_transform(X_train)\n",
    "scaled_X_test = scaler.transform(X_test)"
   ]
  },
  {
   "cell_type": "code",
   "execution_count": 46,
   "metadata": {},
   "outputs": [],
   "source": [
    "# Instantiate KNeighborsClassifier\n",
    "knnc = KNeighborsClassifier()\n",
    "\n",
    "# Fit the classifier\n",
    "knnc.fit(scaled_X_train, y_train)\n",
    "\n",
    "# Predict on the test set\n",
    "knn_preds = knnc.predict(scaled_X_test)"
   ]
  },
  {
   "cell_type": "code",
   "execution_count": 47,
   "metadata": {},
   "outputs": [
    {
     "data": {
      "image/png": "[encoded data removed]",
      "text/plain": [
       "<Figure size 432x288 with 2 Axes>"
      ]
     },
     "metadata": {
      "needs_background": "light"
     },
     "output_type": "display_data"
    }
   ],
   "source": [
    "#Get the confusion matrix\n",
    "cf_matrix = confusion_matrix(y_test, knn_preds)\n",
    "\n",
    "sns.heatmap(cf_matrix/np.sum(cf_matrix), annot=True, \n",
    "            fmt='.2%', cmap='Blues') \n",
    "plt.show()"
   ]
  },
  {
   "cell_type": "code",
   "execution_count": 48,
   "metadata": {},
   "outputs": [
    {
     "name": "stdout",
     "output_type": "stream",
     "text": [
      "KNN:\n",
      "---------------\n",
      "Recall: 0.465\n",
      "Testing Accuracy: 0.465\n",
      "F1 Score: 0.4545\n"
     ]
    }
   ],
   "source": [
    "#Run metrics\n",
    "knn_recall = recall_score(y_test, knn_preds, average='weighted')\n",
    "knn_acc_score = accuracy_score(y_test, knn_preds)\n",
    "knn_f1_score = f1_score(y_test, knn_preds, average='weighted')\n",
    "\n",
    "print('KNN:')\n",
    "print(3*'-----')\n",
    "\n",
    "print('Recall: {:.4}'.format(knn_recall))\n",
    "\n",
    "print(\"Testing Accuracy: {:.4}\".format(knn_acc_score))\n",
    "print(\"F1 Score: {:.4}\".format(knn_f1_score))"
   ]
  },
  {
   "cell_type": "markdown",
   "metadata": {},
   "source": [
    "<a name=\"part3e\"></a>\n",
    "### Light Gradient Boosted Machine (LightGBM) "
   ]
  },
  {
   "cell_type": "code",
   "execution_count": 49,
   "metadata": {},
   "outputs": [
    {
     "data": {
      "text/plain": [
       "LGBMClassifier(boosting_type='gbdt', class_weight=None, colsample_bytree=1.0,\n",
       "               importance_type='split', learning_rate=0.1, max_depth=-1,\n",
       "               min_child_samples=20, min_child_weight=0.001, min_split_gain=0.0,\n",
       "               n_estimators=100, n_jobs=-1, num_leaves=31, objective=None,\n",
       "               random_state=66, reg_alpha=0.0, reg_lambda=0.0, silent=True,\n",
       "               subsample=1.0, subsample_for_bin=200000, subsample_freq=0)"
      ]
     },
     "execution_count": 49,
     "metadata": {},
     "output_type": "execute_result"
    }
   ],
   "source": [
    "#Import Light GBM\n",
    "from lightgbm import LGBMClassifier\n",
    "\n",
    "# define the model\n",
    "lgbm = LGBMClassifier(random_state=66)\n",
    "\n",
    "#Fit model to the data\n",
    "lgbm.fit(X_train, y_train)"
   ]
  },
  {
   "cell_type": "code",
   "execution_count": 50,
   "metadata": {},
   "outputs": [],
   "source": [
    "#Run predictions\n",
    "lgbm_test_preds = lgbm.predict(X_test)"
   ]
  },
  {
   "cell_type": "code",
   "execution_count": 51,
   "metadata": {},
   "outputs": [
    {
     "data": {
      "image/png": "[encoded data removed]",
      "text/plain": [
       "<Figure size 432x288 with 2 Axes>"
      ]
     },
     "metadata": {
      "needs_background": "light"
     },
     "output_type": "display_data"
    }
   ],
   "source": [
    "#Get the confusion matrix\n",
    "cf_matrix = confusion_matrix(y_test, lgbm_test_preds)\n",
    "\n",
    "sns.heatmap(cf_matrix/np.sum(cf_matrix), annot=True, \n",
    "            fmt='.2%', cmap='Blues') \n",
    "plt.show()"
   ]
  },
  {
   "cell_type": "code",
   "execution_count": 52,
   "metadata": {},
   "outputs": [
    {
     "name": "stdout",
     "output_type": "stream",
     "text": [
      "LGBM:\n",
      "---------------\n",
      "Recall: 0.5827\n",
      "Testing Accuracy: 0.5827\n",
      "F1 Score: 0.5743\n"
     ]
    }
   ],
   "source": [
    "#Run metrics\n",
    "lgbm_recall = recall_score(y_test, lgbm_test_preds, average='weighted')\n",
    "lgbm_acc_score = accuracy_score(y_test, lgbm_test_preds)\n",
    "lgbm_f1_score = f1_score(y_test, lgbm_test_preds, average='weighted')\n",
    "\n",
    "print('LGBM:')\n",
    "print(3*'-----')\n",
    "\n",
    "print('Recall: {:.4}'.format(lgbm_recall))\n",
    "\n",
    "print(\"Testing Accuracy: {:.4}\".format(lgbm_acc_score))\n",
    "print(\"F1 Score: {:.4}\".format(lgbm_f1_score))"
   ]
  },
  {
   "cell_type": "markdown",
   "metadata": {},
   "source": [
    "**Eval:** All of my models perform at least okay with the best having an accracy of 59%. In the next step I will attemp to improve upon these models using grid search."
   ]
  },
  {
   "cell_type": "markdown",
   "metadata": {},
   "source": [
    "<a name=\"part4\"></a>\n",
    "## Model Refinement  \n",
    "Having tested a few different models, I will now attempt to improve upon them by tuning. Since three of the models performed about the same, I will grid search those three. \n",
    "\n",
    "\n",
    "### Random Forest Random Search"
   ]
  },
  {
   "cell_type": "code",
   "execution_count": 101,
   "metadata": {},
   "outputs": [
    {
     "name": "stdout",
     "output_type": "stream",
     "text": [
      "Parameters currently in use:\n",
      "\n",
      "{'bootstrap': True,\n",
      " 'ccp_alpha': 0.0,\n",
      " 'class_weight': None,\n",
      " 'criterion': 'gini',\n",
      " 'max_depth': 10,\n",
      " 'max_features': None,\n",
      " 'max_leaf_nodes': None,\n",
      " 'max_samples': None,\n",
      " 'min_impurity_decrease': 0.0,\n",
      " 'min_impurity_split': None,\n",
      " 'min_samples_leaf': 5,\n",
      " 'min_samples_split': 2,\n",
      " 'min_weight_fraction_leaf': 0.0,\n",
      " 'n_estimators': 200,\n",
      " 'n_jobs': None,\n",
      " 'oob_score': False,\n",
      " 'random_state': 42,\n",
      " 'verbose': 0,\n",
      " 'warm_start': False}\n"
     ]
    }
   ],
   "source": [
    "from pprint import pprint\n",
    "# Look at parameters used by our current forest\n",
    "print('Parameters currently in use:\\n')\n",
    "pprint(rf_classifier.get_params())"
   ]
  },
  {
   "cell_type": "code",
   "execution_count": 102,
   "metadata": {},
   "outputs": [],
   "source": [
    "from sklearn.model_selection import RandomizedSearchCV\n",
    "# Number of trees in random forest\n",
    "n_estimators = [int(x) for x in np.linspace(start = 0, stop = 2000, num = 50)]\n",
    "# Number of features to consider at every split\n",
    "max_features = ['auto', 'sqrt', 'log2']\n",
    "# Maximum number of levels in tree\n",
    "max_depth = [int(x) for x in np.linspace(0, 110, num = 11)]\n",
    "max_depth.append(None)\n",
    "# Minimum number of samples required to split a node\n",
    "min_samples_split = [2, 5, 10]\n",
    "# Minimum number of samples required at each leaf node\n",
    "min_samples_leaf = [1, 2, 4]\n",
    "# Method of selecting samples for training each tree\n",
    "bootstrap = [True, False]\n",
    "#\n",
    "n_jobs = [-1]\n",
    "# Create the random grid\n",
    "random_grid = {'n_estimators': n_estimators,\n",
    "               'max_features': max_features,\n",
    "               'max_depth': max_depth,\n",
    "               'min_samples_split': min_samples_split,\n",
    "               'min_samples_leaf': min_samples_leaf,\n",
    "               'bootstrap': bootstrap \n",
    "                }"
   ]
  },
  {
   "cell_type": "code",
   "execution_count": 103,
   "metadata": {},
   "outputs": [
    {
     "name": "stdout",
     "output_type": "stream",
     "text": [
      "Fitting 5 folds for each of 100 candidates, totalling 500 fits\n"
     ]
    },
    {
     "name": "stderr",
     "output_type": "stream",
     "text": [
      "[Parallel(n_jobs=-1)]: Using backend LokyBackend with 4 concurrent workers.\n",
      "[Parallel(n_jobs=-1)]: Done  33 tasks      | elapsed:  4.7min\n",
      "[Parallel(n_jobs=-1)]: Done 154 tasks      | elapsed: 21.4min\n",
      "[Parallel(n_jobs=-1)]: Done 357 tasks      | elapsed: 50.9min\n",
      "[Parallel(n_jobs=-1)]: Done 500 out of 500 | elapsed: 67.5min finished\n"
     ]
    },
    {
     "data": {
      "text/plain": [
       "RandomizedSearchCV(cv=5, error_score=nan,\n",
       "                   estimator=RandomForestClassifier(bootstrap=True,\n",
       "                                                    ccp_alpha=0.0,\n",
       "                                                    class_weight=None,\n",
       "                                                    criterion='gini',\n",
       "                                                    max_depth=10,\n",
       "                                                    max_features=None,\n",
       "                                                    max_leaf_nodes=None,\n",
       "                                                    max_samples=None,\n",
       "                                                    min_impurity_decrease=0.0,\n",
       "                                                    min_impurity_split=None,\n",
       "                                                    min_samples_leaf=5,\n",
       "                                                    min_samples_split=2,\n",
       "                                                    min_weight_fraction_leaf=0.0,\n",
       "                                                    n_estimators=200,\n",
       "                                                    n_jobs=Non...\n",
       "                                                      77, 88, 99, 110, None],\n",
       "                                        'max_features': ['auto', 'sqrt',\n",
       "                                                         'log2'],\n",
       "                                        'min_samples_leaf': [1, 2, 4],\n",
       "                                        'min_samples_split': [2, 5, 10],\n",
       "                                        'n_estimators': [0, 40, 81, 122, 163,\n",
       "                                                         204, 244, 285, 326,\n",
       "                                                         367, 408, 448, 489,\n",
       "                                                         530, 571, 612, 653,\n",
       "                                                         693, 734, 775, 816,\n",
       "                                                         857, 897, 938, 979,\n",
       "                                                         1020, 1061, 1102, 1142,\n",
       "                                                         1183, ...]},\n",
       "                   pre_dispatch='2*n_jobs', random_state=23, refit=True,\n",
       "                   return_train_score=False, scoring=None, verbose=2)"
      ]
     },
     "execution_count": 103,
     "metadata": {},
     "output_type": "execute_result"
    }
   ],
   "source": [
    "# Use the random grid to search for best hyperparameters\n",
    "# Random search of parameters, using 3 fold cross validation, \n",
    "# search across 100 different combinations, and use all available cores\n",
    "rf_random = RandomizedSearchCV(estimator = rf_classifier, param_distributions = random_grid, n_iter = 100, cv = 5, verbose=2, random_state=23, n_jobs = -1)\n",
    "# Fit the random search model\n",
    "rf_random.fit(X_train, y_train)"
   ]
  },
  {
   "cell_type": "code",
   "execution_count": 104,
   "metadata": {},
   "outputs": [
    {
     "data": {
      "text/plain": [
       "RandomForestClassifier(bootstrap=True, ccp_alpha=0.0, class_weight=None,\n",
       "                       criterion='gini', max_depth=None, max_features='auto',\n",
       "                       max_leaf_nodes=None, max_samples=None,\n",
       "                       min_impurity_decrease=0.0, min_impurity_split=None,\n",
       "                       min_samples_leaf=1, min_samples_split=2,\n",
       "                       min_weight_fraction_leaf=0.0, n_estimators=100,\n",
       "                       n_jobs=-1, oob_score=False, random_state=23, verbose=0,\n",
       "                       warm_start=False)"
      ]
     },
     "execution_count": 104,
     "metadata": {},
     "output_type": "execute_result"
    }
   ],
   "source": [
    "#Initialize Classifier with best parametrs from random search\n",
    "rf_rs_classifier = RandomForestClassifier(n_estimators=100, criterion='gini', max_depth=None, min_samples_split=2, min_samples_leaf=1, \n",
    "                                          min_weight_fraction_leaf=0.0, max_features='auto', max_leaf_nodes=None, min_impurity_decrease=0.0, \n",
    "                                          min_impurity_split=None, bootstrap=True, n_jobs=-1, max_samples=None, random_state=23)\n",
    "#Fit Classifier to Data\n",
    "rf_rs_classifier.fit(X_train, y_train)"
   ]
  },
  {
   "cell_type": "code",
   "execution_count": 105,
   "metadata": {},
   "outputs": [
    {
     "name": "stdout",
     "output_type": "stream",
     "text": [
      "Random Search RF:\n",
      "---------------\n",
      "Recall: 0.5808\n",
      "Testing Accuracy: 0.5808\n",
      "F1 Score: 0.5598\n"
     ]
    }
   ],
   "source": [
    "#Run Test Predictions\n",
    "rf_best_preds = rf_rs_classifier.predict(X_test) \n",
    "\n",
    "#Run metrics\n",
    "rfb_recall = recall_score(y_test, rf_best_preds, average='weighted')\n",
    "rfb_acc_score = accuracy_score(y_test, rf_best_preds)\n",
    "rfb_f1_score = f1_score(y_test, rf_best_preds, average='weighted')\n",
    "\n",
    "print('Random Search RF:')\n",
    "print(3*'-----')\n",
    "\n",
    "print('Recall: {:.4}'.format(rfb_recall))\n",
    "\n",
    "print(\"Testing Accuracy: {:.4}\".format(rfb_acc_score))\n",
    "print(\"F1 Score: {:.4}\".format(rfb_f1_score))"
   ]
  },
  {
   "cell_type": "markdown",
   "metadata": {},
   "source": [
    "#### Random Forest Gridsearch \n",
    "\n",
    "Since I did not get any results from doing a random search I will only use grid search moving foward. "
   ]
  },
  {
   "cell_type": "code",
   "execution_count": 106,
   "metadata": {},
   "outputs": [
    {
     "name": "stdout",
     "output_type": "stream",
     "text": [
      "Fitting 2 folds for each of 1440 candidates, totalling 2880 fits\n"
     ]
    },
    {
     "name": "stderr",
     "output_type": "stream",
     "text": [
      "[Parallel(n_jobs=-1)]: Using backend LokyBackend with 4 concurrent workers.\n",
      "[Parallel(n_jobs=-1)]: Done  42 tasks      | elapsed:  2.5min\n",
      "[Parallel(n_jobs=-1)]: Done 192 tasks      | elapsed:  5.2min\n",
      "[Parallel(n_jobs=-1)]: Done 442 tasks      | elapsed:  8.0min\n",
      "[Parallel(n_jobs=-1)]: Done 792 tasks      | elapsed: 13.0min\n",
      "[Parallel(n_jobs=-1)]: Done 1242 tasks      | elapsed: 20.1min\n",
      "[Parallel(n_jobs=-1)]: Done 1792 tasks      | elapsed: 27.6min\n",
      "[Parallel(n_jobs=-1)]: Done 2442 tasks      | elapsed: 36.3min\n",
      "[Parallel(n_jobs=-1)]: Done 2880 out of 2880 | elapsed: 41.9min finished\n"
     ]
    },
    {
     "data": {
      "text/plain": [
       "GridSearchCV(cv=2, error_score=nan,\n",
       "             estimator=RandomForestClassifier(bootstrap=True, ccp_alpha=0.0,\n",
       "                                              class_weight=None,\n",
       "                                              criterion='gini', max_depth=None,\n",
       "                                              max_features='auto',\n",
       "                                              max_leaf_nodes=None,\n",
       "                                              max_samples=None,\n",
       "                                              min_impurity_decrease=0.0,\n",
       "                                              min_impurity_split=None,\n",
       "                                              min_samples_leaf=1,\n",
       "                                              min_samples_split=2,\n",
       "                                              min_weight_fraction_leaf=0.0,\n",
       "                                              n_estimators=100, n_jobs=None,...\n",
       "                                              verbose=0, warm_start=False),\n",
       "             iid='deprecated', n_jobs=-1,\n",
       "             param_grid={'class_weight': ['balanced', 'balanced_subsample',\n",
       "                                          None],\n",
       "                         'max_depth': [None, 2, 10],\n",
       "                         'max_features': [None, 4, 16, 24],\n",
       "                         'min_samples_leaf': [1, 3, 5, 8],\n",
       "                         'min_samples_split': [2, 3, 5, 8, 16],\n",
       "                         'n_estimators': [100, 200]},\n",
       "             pre_dispatch='2*n_jobs', refit=True, return_train_score=False,\n",
       "             scoring='accuracy', verbose=1)"
      ]
     },
     "execution_count": 106,
     "metadata": {},
     "output_type": "execute_result"
    }
   ],
   "source": [
    "# create dictionary of hyperparameters to tune\n",
    "param_grid = {'n_estimators': [100, 200],\n",
    "              'class_weight' : [\"balanced\", \"balanced_subsample\", None],\n",
    "              'max_depth': [None, 2, 10],\n",
    "              'max_features': [None, 4, 16, 24],\n",
    "              'min_samples_split' : [2, 3, 5, 8, 16],\n",
    "              'min_samples_leaf' : [1, 3, 5, 8]\n",
    "             }\n",
    "\n",
    "# create grid search object and fit to data\n",
    "grid_forest = GridSearchCV(RandomForestClassifier(random_state=23),\n",
    "                           param_grid,\n",
    "                           cv=2,\n",
    "                           scoring='accuracy',\n",
    "                           verbose=1,\n",
    "                           n_jobs=-1)\n",
    "\n",
    "#fit data\n",
    "grid_forest.fit(X_train, y_train)"
   ]
  },
  {
   "cell_type": "code",
   "execution_count": 30,
   "metadata": {},
   "outputs": [
    {
     "name": "stdout",
     "output_type": "stream",
     "text": [
      "Fitting 2 folds for each of 1920 candidates, totalling 3840 fits\n"
     ]
    },
    {
     "name": "stderr",
     "output_type": "stream",
     "text": [
      "[Parallel(n_jobs=-1)]: Using backend LokyBackend with 4 concurrent workers.\n",
      "[Parallel(n_jobs=-1)]: Done  42 tasks      | elapsed:  2.7min\n",
      "[Parallel(n_jobs=-1)]: Done 192 tasks      | elapsed:  7.4min\n",
      "[Parallel(n_jobs=-1)]: Done 442 tasks      | elapsed:  9.2min\n",
      "[Parallel(n_jobs=-1)]: Done 792 tasks      | elapsed: 11.8min\n",
      "[Parallel(n_jobs=-1)]: Done 1242 tasks      | elapsed: 16.1min\n",
      "[Parallel(n_jobs=-1)]: Done 1792 tasks      | elapsed: 22.7min\n",
      "[Parallel(n_jobs=-1)]: Done 2442 tasks      | elapsed: 32.7min\n",
      "[Parallel(n_jobs=-1)]: Done 3192 tasks      | elapsed: 40.7min\n",
      "[Parallel(n_jobs=-1)]: Done 3840 out of 3840 | elapsed: 50.4min finished\n"
     ]
    },
    {
     "data": {
      "text/plain": [
       "GridSearchCV(cv=2, error_score=nan,\n",
       "             estimator=RandomForestClassifier(bootstrap=True, ccp_alpha=0.0,\n",
       "                                              class_weight=None,\n",
       "                                              criterion='gini', max_depth=None,\n",
       "                                              max_features='auto',\n",
       "                                              max_leaf_nodes=None,\n",
       "                                              max_samples=None,\n",
       "                                              min_impurity_decrease=0.0,\n",
       "                                              min_impurity_split=None,\n",
       "                                              min_samples_leaf=1,\n",
       "                                              min_samples_split=2,\n",
       "                                              min_weight_fraction_leaf=0.0,\n",
       "                                              n_estimators=100, n_jobs=None,...\n",
       "             param_grid={'class_weight': [{1: 9.690140845070424,\n",
       "                                           2: 7.166666666666667,\n",
       "                                           3: 3.474747474747475,\n",
       "                                           4: 1.565415244596132, 5: 1.0}],\n",
       "                         'criterion': ['gini', 'entropy'],\n",
       "                         'max_depth': [None, 2, 5, 10],\n",
       "                         'max_features': [None, 4, 8, 16],\n",
       "                         'min_samples_leaf': [1, 3, 5, 8],\n",
       "                         'min_samples_split': [2, 3, 5, 8, 16],\n",
       "                         'n_estimators': [100, 300, 500]},\n",
       "             pre_dispatch='2*n_jobs', refit=True, return_train_score=False,\n",
       "             scoring='accuracy', verbose=1)"
      ]
     },
     "execution_count": 30,
     "metadata": {},
     "output_type": "execute_result"
    }
   ],
   "source": [
    "# create dictionary of hyperparameters to tune with wieghts\n",
    "param_grid2 = {'criterion':['gini','entropy'],\n",
    "            'n_estimators': [100, 300, 500],\n",
    "              'class_weight' : [weights],\n",
    "              'max_depth': [None, 2, 5, 10],\n",
    "              'max_features': [None, 4, 8,16],\n",
    "              'min_samples_split' : [2, 3, 5, 8, 16],\n",
    "              'min_samples_leaf' : [1, 3, 5, 8]\n",
    "             }\n",
    "\n",
    "# create grid search object and fit to data\n",
    "grid_forest2 = GridSearchCV(RandomForestClassifier(random_state=23),\n",
    "                           param_grid2,\n",
    "                           cv=2,\n",
    "                           scoring='accuracy',\n",
    "                           verbose=1,\n",
    "                           n_jobs=-1)\n",
    "\n",
    "#fit data\n",
    "grid_forest2.fit(X_train, y_train)"
   ]
  },
  {
   "cell_type": "code",
   "execution_count": 31,
   "metadata": {},
   "outputs": [],
   "source": [
    "#pickle grid hyperparameters\n",
    "pickle_out = open(\"rf_grid2.pickle\",\"wb\")\n",
    "pickle.dump(grid_forest2, pickle_out)\n",
    "pickle_out.close()"
   ]
  },
  {
   "cell_type": "code",
   "execution_count": 107,
   "metadata": {},
   "outputs": [],
   "source": [
    "#pickle grid hyperparameters\n",
    "pickle_out = open(\"rf_grid.pickle\",\"wb\")\n",
    "pickle.dump(grid_forest, pickle_out)\n",
    "pickle_out.close()"
   ]
  },
  {
   "cell_type": "code",
   "execution_count": 108,
   "metadata": {},
   "outputs": [
    {
     "name": "stdout",
     "output_type": "stream",
     "text": [
      "Best RF Parameters:\n",
      "\n"
     ]
    },
    {
     "data": {
      "text/plain": [
       "{'class_weight': None,\n",
       " 'max_depth': 10,\n",
       " 'max_features': None,\n",
       " 'min_samples_leaf': 5,\n",
       " 'min_samples_split': 16,\n",
       " 'n_estimators': 100}"
      ]
     },
     "execution_count": 108,
     "metadata": {},
     "output_type": "execute_result"
    }
   ],
   "source": [
    "#print best parameters\n",
    "from pprint import pprint\n",
    "print('Best RF Parameters:\\n')\n",
    "# pprint(grid_forest.get_params()) \n",
    "grid_forest.best_params_"
   ]
  },
  {
   "cell_type": "code",
   "execution_count": 32,
   "metadata": {},
   "outputs": [
    {
     "name": "stdout",
     "output_type": "stream",
     "text": [
      "Best RF Parameters:\n",
      "\n"
     ]
    },
    {
     "data": {
      "text/plain": [
       "{'class_weight': {5: 1.0,\n",
       "  4: 1.565415244596132,\n",
       "  3: 3.474747474747475,\n",
       "  2: 7.166666666666667,\n",
       "  1: 9.690140845070424},\n",
       " 'criterion': 'gini',\n",
       " 'max_depth': None,\n",
       " 'max_features': 8,\n",
       " 'min_samples_leaf': 1,\n",
       " 'min_samples_split': 8,\n",
       " 'n_estimators': 500}"
      ]
     },
     "execution_count": 32,
     "metadata": {},
     "output_type": "execute_result"
    }
   ],
   "source": [
    "#print best parameters\n",
    "from pprint import pprint\n",
    "print('Best RF Parameters:\\n')\n",
    "# pprint(grid_forest.get_params()) \n",
    "grid_forest2.best_params_"
   ]
  },
  {
   "cell_type": "code",
   "execution_count": 109,
   "metadata": {},
   "outputs": [
    {
     "name": "stdout",
     "output_type": "stream",
     "text": [
      "Grid Search RF:\n",
      "---------------\n",
      "Recall: 0.5842\n",
      "Testing Accuracy: 0.5842\n",
      "F1 Score: 0.5758\n"
     ]
    }
   ],
   "source": [
    "#Run Test Predictions\n",
    "rfg_best_preds = grid_forest.predict(X_test) \n",
    "\n",
    "#Run metrics\n",
    "rfbg_recall = recall_score(y_test, rfg_best_preds, average='weighted')\n",
    "rfbg_acc_score = accuracy_score(y_test, rfg_best_preds)\n",
    "rfbg_f1_score = f1_score(y_test, rfg_best_preds, average='weighted')\n",
    "\n",
    "#print results\n",
    "print('Grid Search RF:')\n",
    "print(3*'-----')\n",
    "\n",
    "print('Recall: {:.4}'.format(rfbg_recall))\n",
    "\n",
    "print(\"Testing Accuracy: {:.4}\".format(rfbg_acc_score))\n",
    "print(\"F1 Score: {:.4}\".format(rfbg_f1_score))"
   ]
  },
  {
   "cell_type": "code",
   "execution_count": 34,
   "metadata": {},
   "outputs": [
    {
     "name": "stdout",
     "output_type": "stream",
     "text": [
      "Grid Search RF:\n",
      "---------------\n",
      "Recall: 0.5845\n",
      "Testing Accuracy: 0.5845\n",
      "F1 Score: 0.5725\n"
     ]
    }
   ],
   "source": [
    "#Run Test Predictions\n",
    "rfg_best2_preds = grid_forest2.predict(X_test) \n",
    "\n",
    "#Run metrics\n",
    "rfbg_recall = recall_score(y_test, rfg_best2_preds, average='weighted')\n",
    "rfbg_acc_score = accuracy_score(y_test, rfg_best2_preds)\n",
    "rfbg_f1_score = f1_score(y_test, rfg_best2_preds, average='weighted')\n",
    "\n",
    "#print results\n",
    "print('Grid Search RF:')\n",
    "print(3*'-----')\n",
    "\n",
    "print('Recall: {:.4}'.format(rfbg_recall))\n",
    "\n",
    "print(\"Testing Accuracy: {:.4}\".format(rfbg_acc_score))\n",
    "print(\"F1 Score: {:.4}\".format(rfbg_f1_score))"
   ]
  },
  {
   "cell_type": "markdown",
   "metadata": {},
   "source": [
    "**Notes:** After running a grid search both with weighting the differnce observed with negligible. In future iterations of this project I will find a larger sample of lower rated reviews in order to address this."
   ]
  },
  {
   "cell_type": "markdown",
   "metadata": {},
   "source": [
    "#### XGBoost Grid Search "
   ]
  },
  {
   "cell_type": "code",
   "execution_count": 110,
   "metadata": {},
   "outputs": [
    {
     "name": "stdout",
     "output_type": "stream",
     "text": [
      "Fitting 2 folds for each of 144 candidates, totalling 288 fits\n"
     ]
    },
    {
     "name": "stderr",
     "output_type": "stream",
     "text": [
      "[Parallel(n_jobs=-1)]: Using backend LokyBackend with 4 concurrent workers.\n",
      "[Parallel(n_jobs=-1)]: Done  42 tasks      | elapsed:  1.3min\n",
      "[Parallel(n_jobs=-1)]: Done 192 tasks      | elapsed: 35.3min\n",
      "[Parallel(n_jobs=-1)]: Done 288 out of 288 | elapsed: 64.2min finished\n"
     ]
    }
   ],
   "source": [
    "# create dictionary of hyperparameters to tune\n",
    "param_grid = {'learning_rate': [0.1, 0.01],\n",
    "              'max_depth': [None, 2, 4, 10],\n",
    "              'min_child_weight': [1, 2, 3],\n",
    "              'subsample': [0.5, 0.7],\n",
    "              'n_estimators': [100, 200 ,300]}\n",
    "\n",
    "# create grid search object and fit to data\n",
    "grid_boost = GridSearchCV(XGBClassifier(random_state=23),\n",
    "                          param_grid,\n",
    "                          cv=2,\n",
    "                          scoring='accuracy',\n",
    "                          verbose=1,\n",
    "                          n_jobs=-1)\n",
    "\n",
    "#fit model\n",
    "grid_boost.fit(X_train, y_train)\n",
    "\n",
    "# pickle grid hyperparameters\n",
    "pickle_out = open(\"xgb_grid.pickle\",\"wb\")\n",
    "pickle.dump(grid_boost, pickle_out)\n",
    "pickle_out.close()"
   ]
  },
  {
   "cell_type": "code",
   "execution_count": 111,
   "metadata": {},
   "outputs": [
    {
     "name": "stdout",
     "output_type": "stream",
     "text": [
      "Best XGB Parameters:\n",
      "\n"
     ]
    },
    {
     "data": {
      "text/plain": [
       "{'learning_rate': 0.1,\n",
       " 'max_depth': 2,\n",
       " 'min_child_weight': 1,\n",
       " 'n_estimators': 200,\n",
       " 'subsample': 0.5}"
      ]
     },
     "execution_count": 111,
     "metadata": {},
     "output_type": "execute_result"
    }
   ],
   "source": [
    "#print best parameters\n",
    "from pprint import pprint\n",
    "print('Best XGB Parameters:\\n')\n",
    "grid_boost.best_params_"
   ]
  },
  {
   "cell_type": "code",
   "execution_count": 112,
   "metadata": {},
   "outputs": [
    {
     "name": "stdout",
     "output_type": "stream",
     "text": [
      "Grid Search XGB:\n",
      "---------------\n",
      "Recall: 0.5939\n",
      "Testing Accuracy: 0.5939\n",
      "F1 Score: 0.5792\n"
     ]
    }
   ],
   "source": [
    "#Run Test Predictions\n",
    "xgbb_best_preds = grid_boost.predict(X_test) \n",
    "\n",
    "#Run metrics\n",
    "xgbb_recall = recall_score(y_test, xgbb_best_preds, average='weighted')\n",
    "xgbb_acc_score = accuracy_score(y_test, xgbb_best_preds)\n",
    "xgbb_f1_score = f1_score(y_test, xgbb_best_preds, average='weighted')\n",
    "\n",
    "#print results\n",
    "print('Grid Search XGB:')\n",
    "print(3*'-----')\n",
    "\n",
    "print('Recall: {:.4}'.format(xgbb_recall))\n",
    "\n",
    "print(\"Testing Accuracy: {:.4}\".format(xgbb_acc_score))\n",
    "print(\"F1 Score: {:.4}\".format(xgbb_f1_score))"
   ]
  },
  {
   "cell_type": "markdown",
   "metadata": {},
   "source": [
    "#### LGBM Grid Search "
   ]
  },
  {
   "cell_type": "code",
   "execution_count": 113,
   "metadata": {},
   "outputs": [
    {
     "name": "stdout",
     "output_type": "stream",
     "text": [
      "Fitting 2 folds for each of 384 candidates, totalling 768 fits\n"
     ]
    },
    {
     "name": "stderr",
     "output_type": "stream",
     "text": [
      "[Parallel(n_jobs=-1)]: Using backend LokyBackend with 4 concurrent workers.\n",
      "[Parallel(n_jobs=-1)]: Done  42 tasks      | elapsed:   17.3s\n",
      "[Parallel(n_jobs=-1)]: Done 192 tasks      | elapsed:  1.3min\n",
      "[Parallel(n_jobs=-1)]: Done 442 tasks      | elapsed:  3.0min\n",
      "[Parallel(n_jobs=-1)]: Done 768 out of 768 | elapsed:  5.1min finished\n"
     ]
    }
   ],
   "source": [
    "# create dictionary of hyperparameters to tune\n",
    "param_grid = {'n_estimators': [100, 200],\n",
    "                'colsample_bytree': [0.7, 0.8],\n",
    "                'max_depth': [15, 20],\n",
    "                'num_leaves': [50, 100, 200],\n",
    "                'min_split_gain': [0.3,0.4],\n",
    "                'reg_alpha': [1.0, 1.1],\n",
    "                'reg_lambda': [1.45, 1.5],\n",
    "                'subsample': [0.7, 0.75],\n",
    "                'subsample_freq': [20]\n",
    "               }\n",
    "\n",
    "# create grid search object and fit to data\n",
    "grid_lgbm = GridSearchCV(lgbm,\n",
    "                        param_grid,\n",
    "                        cv=2,\n",
    "                        scoring='accuracy',\n",
    "                        verbose=1,\n",
    "                        n_jobs=-1,\n",
    "                        error_score=0)\n",
    "\n",
    "#fit model\n",
    "grid_lgbm.fit(X_train, y_train)\n",
    "\n",
    "# pickle grid hyperparameters\n",
    "pickle_out = open(\"lgbm_grid.pickle\",\"wb\")\n",
    "pickle.dump(grid_lgbm, pickle_out)\n",
    "pickle_out.close()"
   ]
  },
  {
   "cell_type": "code",
   "execution_count": 114,
   "metadata": {},
   "outputs": [
    {
     "name": "stdout",
     "output_type": "stream",
     "text": [
      "Best LGBM Parameters:\n",
      "\n"
     ]
    },
    {
     "data": {
      "text/plain": [
       "{'colsample_bytree': 0.7,\n",
       " 'max_depth': 15,\n",
       " 'min_split_gain': 0.4,\n",
       " 'n_estimators': 200,\n",
       " 'num_leaves': 50,\n",
       " 'reg_alpha': 1.1,\n",
       " 'reg_lambda': 1.45,\n",
       " 'subsample': 0.7,\n",
       " 'subsample_freq': 20}"
      ]
     },
     "execution_count": 114,
     "metadata": {},
     "output_type": "execute_result"
    }
   ],
   "source": [
    "#print best parameters\n",
    "from pprint import pprint\n",
    "print('Best LGBM Parameters:\\n')\n",
    "grid_lgbm.best_params_"
   ]
  },
  {
   "cell_type": "code",
   "execution_count": 115,
   "metadata": {},
   "outputs": [
    {
     "name": "stdout",
     "output_type": "stream",
     "text": [
      "Grid Search LGBM:\n",
      "---------------\n",
      "Recall: 0.5822\n",
      "Testing Accuracy: 0.5822\n",
      "F1 Score: 0.5726\n"
     ]
    }
   ],
   "source": [
    "#Run Test Predictions\n",
    "lgbmb_best_preds = grid_lgbm.predict(X_test) \n",
    "\n",
    "#Run metrics\n",
    "lgbmb_recall = recall_score(y_test, lgbmb_best_preds, average='weighted')\n",
    "lgbmb_acc_score = accuracy_score(y_test, lgbmb_best_preds)\n",
    "lgbmb_f1_score = f1_score(y_test, lgbmb_best_preds, average='weighted')\n",
    "\n",
    "#print results\n",
    "print('Grid Search LGBM:')\n",
    "print(3*'-----')\n",
    "\n",
    "print('Recall: {:.4}'.format(lgbmb_recall))\n",
    "\n",
    "print(\"Testing Accuracy: {:.4}\".format(lgbmb_acc_score))\n",
    "print(\"F1 Score: {:.4}\".format(lgbmb_f1_score))"
   ]
  },
  {
   "cell_type": "markdown",
   "metadata": {},
   "source": [
    "### Evaluate Tuned Models"
   ]
  },
  {
   "cell_type": "code",
   "execution_count": 53,
   "metadata": {},
   "outputs": [],
   "source": [
    "# load grid hyperparameters\n",
    "\n",
    "grid_forest = pd.read_pickle('rf_grid.pickle')\n",
    "grid_boost = pd.read_pickle('xgb_grid.pickle')\n",
    "grid_lgbm = pd.read_pickle('lgbm_grid.pickle')"
   ]
  },
  {
   "cell_type": "code",
   "execution_count": 54,
   "metadata": {},
   "outputs": [],
   "source": [
    "\"\"\"random forest\"\"\"\n",
    "# instantiate random forest classifier\n",
    "rf_classifier = RandomForestClassifier(#criterion=grid_forest.best_params_['criterion'],\n",
    "                                       max_depth=grid_forest.best_params_['max_depth'],\n",
    "                                       max_features=grid_forest.best_params_['max_features'],\n",
    "                                       n_estimators=grid_forest.best_params_['n_estimators'],\n",
    "                                       class_weight=grid_forest.best_params_['class_weight'],\n",
    "                                       min_samples_leaf=grid_forest.best_params_['min_samples_leaf'],\n",
    "                                       min_samples_split=grid_forest.best_params_['min_samples_split'], \n",
    "                                       random_state=42)\n",
    "\n",
    "# fit and predict on random forest classifier\n",
    "rf_classifier.fit(X_train, y_train)\n",
    "rf_train_preds = rf_classifier.predict(X_train)\n",
    "rf_test_preds = rf_classifier.predict(X_test)"
   ]
  },
  {
   "cell_type": "code",
   "execution_count": 55,
   "metadata": {},
   "outputs": [],
   "source": [
    "\"\"\"xgboost\"\"\"\n",
    "# instantiate xgboost classifier\n",
    "xgb_classifier = XGBClassifier(learning_rate=grid_boost.best_params_['learning_rate'],\n",
    "                               max_depth=grid_boost.best_params_['max_depth'],\n",
    "                               min_child_weight=grid_boost.best_params_['min_child_weight'],\n",
    "                               subsample=grid_boost.best_params_['subsample'],\n",
    "                               n_estimators=grid_boost.best_params_['n_estimators'],\n",
    "                               random_state=42)\n",
    "\n",
    "# fit and predict on xgboost classifier\n",
    "xgb_classifier.fit(X_train, y_train)\n",
    "xgb_train_preds = xgb_classifier.predict(X_train)\n",
    "xgb_test_preds = xgb_classifier.predict(X_test)"
   ]
  },
  {
   "cell_type": "code",
   "execution_count": 56,
   "metadata": {},
   "outputs": [],
   "source": [
    ";\"\"\"LightGBM\"\"\" \n",
    "# instantiate LogReg classifier\n",
    "grid_lgbm_classifier = LGBMClassifier(\n",
    "                               n_estimators = grid_lgbm.best_params_['n_estimators'],\n",
    "                               colsample_bytree = grid_lgbm.best_params_['colsample_bytree'], \n",
    "                               max_depth = grid_lgbm.best_params_['max_depth'],\n",
    "                               num_leaves = grid_lgbm.best_params_['num_leaves'], \n",
    "                               min_split_gain = grid_lgbm.best_params_['min_split_gain'], \n",
    "                               reg_alpha = grid_lgbm.best_params_['reg_alpha'],\n",
    "                               reg_lambda = grid_lgbm.best_params_['reg_lambda'], \n",
    "                               subsample = grid_lgbm.best_params_['subsample'], \n",
    "                               subsample_freq = grid_lgbm.best_params_['subsample_freq'],  \n",
    "                              random_state = 42)\n",
    "\n",
    "# fit and predict on logreg classifier\n",
    "grid_lgbm_classifier.fit(X_train, y_train)\n",
    "lgbm_train_preds = grid_lgbm_classifier.predict(X_train)\n",
    "lgbm_test_preds = grid_lgbm_classifier.predict(X_test)"
   ]
  },
  {
   "cell_type": "code",
   "execution_count": 57,
   "metadata": {},
   "outputs": [],
   "source": [
    "def metrics(train_preds, y_train, test_preds, y_test):\n",
    "    \n",
    "    print(f\"Training Accuracy:\\t{accuracy_score(y_train, train_preds):.4}\",\n",
    "          f\"\\tTesting Accuracy:\\t{accuracy_score(y_test, test_preds):.4}\")\n",
    "\n",
    "    print(f\"Training Precision:\\t{precision_score(y_train, train_preds, average='weighted'):.4}\",\n",
    "          f\"\\tTesting Precision:\\t{precision_score(y_test, test_preds, average='weighted'):.4}\")\n",
    "\n",
    "    print(f\"Training Recall:\\t{recall_score(y_train, train_preds, average='weighted'):.4}\",\n",
    "          f\"\\tTesting Recall:\\t\\t{recall_score(y_test, test_preds, average='weighted'):.4}\")\n",
    "\n",
    "    print(f\"Training F1:\\t\\t{f1_score(y_train, train_preds, average='weighted'):.4}\",\n",
    "          f\"\\tTesting F1:\\t\\t{f1_score(y_test, test_preds, average='weighted'):.4}\")"
   ]
  },
  {
   "cell_type": "code",
   "execution_count": 58,
   "metadata": {},
   "outputs": [
    {
     "name": "stdout",
     "output_type": "stream",
     "text": [
      "RANDOM FOREST: \n",
      "\n",
      "Training Accuracy:\t0.7886 \tTesting Accuracy:\t0.5816\n",
      "Training Precision:\t0.7861 \tTesting Precision:\t0.5713\n",
      "Training Recall:\t0.7886 \tTesting Recall:\t\t0.5816\n",
      "Training F1:\t\t0.7834 \tTesting F1:\t\t0.5733\n",
      "\n",
      "\n",
      "XGBOOST: \n",
      "\n",
      "Training Accuracy:\t0.7122 \tTesting Accuracy:\t0.5906\n",
      "Training Precision:\t0.7106 \tTesting Precision:\t0.5705\n",
      "Training Recall:\t0.7122 \tTesting Recall:\t\t0.5906\n",
      "Training F1:\t\t0.7045 \tTesting F1:\t\t0.5759\n",
      "\n",
      "\n",
      "LightGBM: \n",
      "\n",
      "Training Accuracy:\t0.9095 \tTesting Accuracy:\t0.5815\n",
      "Training Precision:\t0.9096 \tTesting Precision:\t0.5674\n",
      "Training Recall:\t0.9095 \tTesting Recall:\t\t0.5815\n",
      "Training F1:\t\t0.9088 \tTesting F1:\t\t0.5724\n"
     ]
    }
   ],
   "source": [
    "from sklearn.metrics import roc_curve, auc, accuracy_score, precision_score, f1_score, recall_score, confusion_matrix\n",
    "\n",
    "# using function metrics from utils file\n",
    "\n",
    "print('RANDOM FOREST: \\n')\n",
    "metrics(rf_train_preds, y_train, rf_test_preds, y_test)\n",
    "\n",
    "print('\\n\\nXGBOOST: \\n')\n",
    "metrics(xgb_train_preds, y_train, xgb_test_preds, y_test)\n",
    "\n",
    "print('\\n\\nLightGBM: \\n')\n",
    "metrics(lgbm_train_preds, y_train, lgbm_test_preds, y_test)"
   ]
  },
  {
   "cell_type": "code",
   "execution_count": 78,
   "metadata": {},
   "outputs": [
    {
     "data": {
      "image/png": "[encoded data removed]",
      "text/plain": [
       "<Figure size 1944x504 with 6 Axes>"
      ]
     },
     "metadata": {
      "needs_background": "light"
     },
     "output_type": "display_data"
    }
   ],
   "source": [
    "sns.set_context(\"talk\")\n",
    "\n",
    "fig, ax = plt.subplots(nrows=1, ncols=3, figsize=(27, 7))\n",
    "\n",
    "\n",
    "\"\"\"random forest\"\"\"\n",
    "# plot random forest confusion matrix\n",
    "sns.heatmap(confusion_matrix(y_test, rf_test_preds).T,\n",
    "            square=True,\n",
    "            annot=True, cmap=\"viridis\",\n",
    "            fmt='d',\n",
    "            linewidths=1,\n",
    "            vmin=200, vmax=1000, center=200,\n",
    "            cbar_kws={\"shrink\": .75},\n",
    "### Evaluate model metrics\n",
    "            ax=ax[0]).set_title('Random Forest\\nConfusion Matrix', fontsize=30)\n",
    "\n",
    "ax[0].set_xlabel('Truth', fontsize=25)\n",
    "ax[0].set_ylabel('Prediction', fontsize=25)\n",
    "ax[0].set_xticklabels(['1_Rating', '2_Rating', '3_Rating', '4_Rating', '5_Rating'], fontsize=15)\n",
    "ax[0].set_yticklabels(['1_Rating', '2_Rating', '3_Rating', '4_Rating', '5_Rating'], va='center', fontsize=15)\n",
    "\n",
    "\n",
    "\"\"\"xgboost\"\"\"\n",
    "# plot xgboost confusion matrix\n",
    "sns.heatmap(confusion_matrix(y_test, xgb_test_preds).T,\n",
    "            square=True,\n",
    "            annot=True, cmap=\"cool_r\",\n",
    "            fmt='d',\n",
    "            linewidths=1,\n",
    "            vmin=200, vmax=1000, center=200,\n",
    "            cbar_kws={\"shrink\": .75},\n",
    "            ax=ax[1]).set_title('XGBoost\\nConfusion Matrix', fontsize=30)\n",
    "\n",
    "ax[1].set_xlabel('Truth', fontsize=25)\n",
    "ax[1].set_ylabel('Prediction', fontsize=25)\n",
    "ax[1].set_xticklabels(['1_Rating', '2_Rating', '3_Rating', '4_Rating', '5_Rating'], fontsize=15)\n",
    "ax[1].set_yticklabels(['1_Rating', '2_Rating', '3_Rating', '4_Rating', '5_Rating'], va='center', fontsize=15)\n",
    "\n",
    "\n",
    "\"\"\"LMGB\"\"\"\n",
    "# plot LightGBM confusion matrix\n",
    "\n",
    "sns.heatmap(confusion_matrix(y_test, lgbm_test_preds).T,\n",
    "            square=True,\n",
    "            annot=True, cmap=\"winter\",\n",
    "            fmt='d',\n",
    "            linewidths=1,\n",
    "            vmin=200, vmax=1000, center=200,\n",
    "            cbar_kws={\"shrink\": .75},\n",
    "            ax=ax[2]).set_title('LightGBM\\nConfusion Matrix', fontsize=30)\n",
    "\n",
    "ax[2].set_xlabel('Truth', fontsize=25)\n",
    "ax[2].set_ylabel('Prediction', fontsize=25)\n",
    "ax[2].set_xticklabels(['1_Rating', '2_Rating', '3_Rating', '4_Rating', '5_Rating'], fontsize=15)\n",
    "ax[2].set_yticklabels(['1_Rating', '2_Rating', '3_Rating', '4_Rating', '5_Rating'], va='center', fontsize=15)\n",
    "\n",
    "\n",
    "plt.savefig(fname='conf_mtrx_gs', bbox_inches='tight', pad_inches=.1)\n",
    "plt.show()"
   ]
  },
  {
   "cell_type": "markdown",
   "metadata": {},
   "source": [
    "**Eval:** In the end the gridsearches did very little to improve these models. XGB was still the best model only improved by .0006. This indicates to me that is it likely best to move to next steps rather than continuing adjusting hyperparameters. "
   ]
  },
  {
   "cell_type": "markdown",
   "metadata": {},
   "source": [
    "<a name=\"part5\"></a>\n",
    "## Conclusion \n",
    "\n",
    "In the end my best model was XGBoost with 59.06% accuracy. This indicates it was able to accurately classify reviews 59% percent of the time and provides support for the idea that machine learning could be a better way to score companies versus relying on a self reported score. in future iterations of this project I hope to increase my sample of lower rated reviews and re attempt these models as well as proceed to deep learning models."
   ]
  },
  {
   "cell_type": "code",
   "execution_count": null,
   "metadata": {},
   "outputs": [],
   "source": []
  }
 ],
 "metadata": {
  "kernelspec": {
   "display_name": "learn-env",
   "language": "python",
   "name": "learn-env"
  },
  "language_info": {
   "codemirror_mode": {
    "name": "ipython",
    "version": 3
   },
   "file_extension": ".py",
   "mimetype": "text/x-python",
   "name": "python",
   "nbconvert_exporter": "python",
   "pygments_lexer": "ipython3",
   "version": "3.6.9"
  }
 },
 "nbformat": 4,
 "nbformat_minor": 4
}
